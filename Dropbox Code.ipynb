{
 "cells": [
  {
   "cell_type": "code",
   "execution_count": 2,
   "metadata": {
    "collapsed": false
   },
   "outputs": [],
   "source": [
    "import dropbox\n",
    "import pandas as pd\n",
    "import numpy as np\n",
    "import datetime\n",
    "import time\n",
    "import pytz"
   ]
  },
  {
   "cell_type": "code",
   "execution_count": 3,
   "metadata": {
    "collapsed": false
   },
   "outputs": [
    {
     "name": "stderr",
     "output_type": "stream",
     "text": [
      "C:\\ProgramData\\Anaconda3\\lib\\site-packages\\ipykernel\\__main__.py:1: DeprecationWarning: You are using a deprecated client. Please use the new v2 client located at dropbox.Dropbox.\n",
      "  if __name__ == '__main__':\n"
     ]
    }
   ],
   "source": [
    "client = dropbox.client.DropboxClient('IS-424yqxy8AAAAAAAAVLOUS9urGIH4kCxP_5Q6hxdz-WrhGMYKa-9MjMZrpwMYZ')"
   ]
  },
  {
   "cell_type": "code",
   "execution_count": 4,
   "metadata": {
    "collapsed": false
   },
   "outputs": [],
   "source": [
    "metadata = client.metadata('/')"
   ]
  },
  {
   "cell_type": "code",
   "execution_count": 20,
   "metadata": {
    "collapsed": false
   },
   "outputs": [
    {
     "name": "stdout",
     "output_type": "stream",
     "text": [
      "read_only\n",
      "hash\n",
      "thumb_exists\n",
      "bytes\n",
      "path\n",
      "is_dir\n",
      "icon\n",
      "root\n",
      "contents\n",
      "size\n"
     ]
    }
   ],
   "source": [
    "for i in metadata:\n",
    "    print(i)"
   ]
  },
  {
   "cell_type": "code",
   "execution_count": 45,
   "metadata": {
    "collapsed": false
   },
   "outputs": [
    {
     "name": "stdout",
     "output_type": "stream",
     "text": [
      "Fri, 05 May 2017 23:22:03 +0000\n",
      "Fri, 05 May 2017 23:22:06 +0000\n",
      "Fri, 05 May 2017 23:22:12 +0000\n",
      "Fri, 05 May 2017 23:22:17 +0000\n",
      "Fri, 05 May 2017 23:22:23 +0000\n",
      "Fri, 05 May 2017 23:22:26 +0000\n",
      "Fri, 05 May 2017 23:22:34 +0000\n",
      "Fri, 05 May 2017 23:22:39 +0000\n",
      "Fri, 05 May 2017 23:22:43 +0000\n",
      "Fri, 05 May 2017 23:22:49 +0000\n",
      "Fri, 05 May 2017 23:22:54 +0000\n",
      "Fri, 05 May 2017 23:23:00 +0000\n",
      "Fri, 05 May 2017 23:23:06 +0000\n",
      "Fri, 05 May 2017 23:23:12 +0000\n",
      "Fri, 05 May 2017 23:23:18 +0000\n",
      "Fri, 05 May 2017 23:23:22 +0000\n",
      "Fri, 05 May 2017 23:23:30 +0000\n",
      "Fri, 05 May 2017 23:23:40 +0000\n",
      "Fri, 05 May 2017 23:23:50 +0000\n",
      "Fri, 05 May 2017 23:23:58 +0000\n",
      "Fri, 05 May 2017 23:24:05 +0000\n",
      "Fri, 05 May 2017 23:24:17 +0000\n",
      "Fri, 05 May 2017 23:24:21 +0000\n",
      "Fri, 05 May 2017 23:24:25 +0000\n",
      "Fri, 05 May 2017 23:24:32 +0000\n",
      "Fri, 05 May 2017 23:24:40 +0000\n",
      "Fri, 05 May 2017 23:24:45 +0000\n",
      "Fri, 05 May 2017 23:24:47 +0000\n",
      "Fri, 05 May 2017 23:24:50 +0000\n",
      "Fri, 05 May 2017 23:24:53 +0000\n",
      "Fri, 05 May 2017 23:24:56 +0000\n",
      "Fri, 05 May 2017 23:24:59 +0000\n",
      "Fri, 05 May 2017 23:25:02 +0000\n",
      "Fri, 05 May 2017 23:25:05 +0000\n",
      "Fri, 05 May 2017 23:25:10 +0000\n",
      "Fri, 05 May 2017 23:25:39 +0000\n",
      "Fri, 05 May 2017 23:25:44 +0000\n",
      "Fri, 05 May 2017 23:25:49 +0000\n",
      "Fri, 05 May 2017 23:25:53 +0000\n",
      "Fri, 05 May 2017 23:25:57 +0000\n",
      "Fri, 05 May 2017 23:26:01 +0000\n",
      "Fri, 05 May 2017 23:26:05 +0000\n",
      "Fri, 05 May 2017 23:26:09 +0000\n",
      "Fri, 05 May 2017 23:26:13 +0000\n",
      "Fri, 05 May 2017 23:26:17 +0000\n",
      "Fri, 05 May 2017 23:26:21 +0000\n",
      "Fri, 05 May 2017 23:26:26 +0000\n",
      "Fri, 05 May 2017 23:26:33 +0000\n",
      "Fri, 05 May 2017 23:26:37 +0000\n",
      "Fri, 05 May 2017 23:26:39 +0000\n",
      "Fri, 05 May 2017 23:26:44 +0000\n",
      "Fri, 05 May 2017 23:26:48 +0000\n",
      "Fri, 05 May 2017 23:26:52 +0000\n",
      "Fri, 05 May 2017 23:26:56 +0000\n",
      "Fri, 05 May 2017 23:27:00 +0000\n",
      "Fri, 05 May 2017 23:27:03 +0000\n",
      "Fri, 05 May 2017 23:27:07 +0000\n",
      "Fri, 05 May 2017 23:27:12 +0000\n",
      "Fri, 05 May 2017 23:27:15 +0000\n",
      "Fri, 05 May 2017 23:27:19 +0000\n",
      "Fri, 05 May 2017 23:27:21 +0000\n",
      "Fri, 05 May 2017 23:27:25 +0000\n",
      "Fri, 05 May 2017 23:27:31 +0000\n",
      "Fri, 05 May 2017 23:27:35 +0000\n",
      "Fri, 05 May 2017 23:27:39 +0000\n",
      "Fri, 05 May 2017 23:27:42 +0000\n",
      "Fri, 05 May 2017 23:27:46 +0000\n",
      "Fri, 05 May 2017 23:27:49 +0000\n",
      "Fri, 05 May 2017 23:27:53 +0000\n",
      "Fri, 05 May 2017 23:27:55 +0000\n",
      "Fri, 05 May 2017 23:27:58 +0000\n",
      "Fri, 05 May 2017 23:28:00 +0000\n",
      "Fri, 05 May 2017 23:28:03 +0000\n",
      "Fri, 05 May 2017 23:28:05 +0000\n",
      "Fri, 05 May 2017 23:28:09 +0000\n",
      "Fri, 05 May 2017 23:28:14 +0000\n",
      "Fri, 05 May 2017 23:28:18 +0000\n",
      "Fri, 05 May 2017 23:28:22 +0000\n",
      "Fri, 05 May 2017 23:28:26 +0000\n",
      "Fri, 05 May 2017 23:28:32 +0000\n",
      "Fri, 05 May 2017 23:28:36 +0000\n",
      "Fri, 05 May 2017 23:28:42 +0000\n",
      "Fri, 05 May 2017 23:28:44 +0000\n",
      "Fri, 05 May 2017 23:28:47 +0000\n",
      "Fri, 05 May 2017 23:28:51 +0000\n",
      "Fri, 05 May 2017 23:28:56 +0000\n",
      "Fri, 05 May 2017 23:29:00 +0000\n",
      "Fri, 05 May 2017 23:29:04 +0000\n",
      "Fri, 05 May 2017 23:29:08 +0000\n",
      "Fri, 05 May 2017 23:29:12 +0000\n",
      "Fri, 05 May 2017 23:29:15 +0000\n",
      "Fri, 05 May 2017 23:29:18 +0000\n",
      "Fri, 05 May 2017 23:29:23 +0000\n",
      "Fri, 05 May 2017 23:29:28 +0000\n",
      "Fri, 05 May 2017 23:29:31 +0000\n",
      "Fri, 05 May 2017 23:29:35 +0000\n",
      "Fri, 05 May 2017 23:29:38 +0000\n",
      "Fri, 05 May 2017 23:29:43 +0000\n",
      "Fri, 05 May 2017 23:29:47 +0000\n"
     ]
    }
   ],
   "source": [
    "for i in metadata['contents']:\n",
    "    print (i['modified'])"
   ]
  },
  {
   "cell_type": "code",
   "execution_count": 27,
   "metadata": {
    "collapsed": false
   },
   "outputs": [
    {
     "data": {
      "text/plain": [
       "['ABA DUENAS_0000.JPG',\n",
       " 'ABA DUENAS_0001.JPG',\n",
       " 'ABA DUENAS_0005.JPG',\n",
       " 'ABA DUENAS_0009.JPG',\n",
       " 'ADRIANA GRAELL WK27_0001.JPG',\n",
       " 'ADRIANA GRAELL WK27_0013.JPG']"
      ]
     },
     "execution_count": 27,
     "metadata": {},
     "output_type": "execute_result"
    }
   ],
   "source": [
    "metadata = client.metadata('/')\n",
    "files = [content['path'].split('/')[-1] for content in metadata['contents'] if content['is_dir'] == False]\n",
    "files[:6]"
   ]
  },
  {
   "cell_type": "code",
   "execution_count": 31,
   "metadata": {
    "collapsed": false
   },
   "outputs": [
    {
     "data": {
      "text/plain": [
       "'https://www.dropbox.com/s/15bgbss3xzkvjlq/ABA%20DUENAS_0000.JPG?dl=1'"
      ]
     },
     "execution_count": 31,
     "metadata": {},
     "output_type": "execute_result"
    }
   ],
   "source": [
    "client.share('/ABA DUENAS_0000.JPG', short_url=False)['url'][:-1] + '1'"
   ]
  },
  {
   "cell_type": "code",
   "execution_count": 10,
   "metadata": {
    "collapsed": false
   },
   "outputs": [
    {
     "name": "stderr",
     "output_type": "stream",
     "text": [
      "C:\\ProgramData\\Anaconda3\\lib\\site-packages\\ipykernel\\__main__.py:2: DeprecationWarning: You are using a deprecated client. Please use the new v2 client located at dropbox.Dropbox.\n",
      "  from ipykernel import kernelapp as app\n"
     ]
    },
    {
     "data": {
      "text/html": [
       "<div>\n",
       "<table border=\"1\" class=\"dataframe\">\n",
       "  <thead>\n",
       "    <tr style=\"text-align: right;\">\n",
       "      <th></th>\n",
       "      <th>file_name</th>\n",
       "      <th>date_mod_d</th>\n",
       "      <th>date_mod</th>\n",
       "      <th>hour_modutc</th>\n",
       "      <th>f_name</th>\n",
       "      <th>l_name</th>\n",
       "      <th>t_file</th>\n",
       "      <th>link</th>\n",
       "    </tr>\n",
       "  </thead>\n",
       "  <tbody>\n",
       "    <tr>\n",
       "      <th>99</th>\n",
       "      <td>KRISTINA PEREZ4_0020.JPG</td>\n",
       "      <td>(2017, 5, 7, 14, 28, 15, 6, 127, -1)</td>\n",
       "      <td>2017-05-07</td>\n",
       "      <td>14:28:15</td>\n",
       "      <td>kristina</td>\n",
       "      <td>perez4</td>\n",
       "      <td>jpg</td>\n",
       "      <td>NaN</td>\n",
       "    </tr>\n",
       "    <tr>\n",
       "      <th>100</th>\n",
       "      <td>KRISTINA PEREZ4_0021.JPG</td>\n",
       "      <td>(2017, 5, 7, 14, 28, 22, 6, 127, -1)</td>\n",
       "      <td>2017-05-07</td>\n",
       "      <td>14:28:22</td>\n",
       "      <td>kristina</td>\n",
       "      <td>perez4</td>\n",
       "      <td>jpg</td>\n",
       "      <td>NaN</td>\n",
       "    </tr>\n",
       "    <tr>\n",
       "      <th>101</th>\n",
       "      <td>KRISTINA PEREZ4_0022.JPG</td>\n",
       "      <td>(2017, 5, 7, 14, 28, 27, 6, 127, -1)</td>\n",
       "      <td>2017-05-07</td>\n",
       "      <td>14:28:27</td>\n",
       "      <td>kristina</td>\n",
       "      <td>perez4</td>\n",
       "      <td>jpg</td>\n",
       "      <td>NaN</td>\n",
       "    </tr>\n",
       "    <tr>\n",
       "      <th>102</th>\n",
       "      <td>KRISTINA PEREZ4_0023.JPG</td>\n",
       "      <td>(2017, 5, 7, 14, 27, 44, 6, 127, -1)</td>\n",
       "      <td>2017-05-07</td>\n",
       "      <td>14:27:44</td>\n",
       "      <td>kristina</td>\n",
       "      <td>perez4</td>\n",
       "      <td>jpg</td>\n",
       "      <td>NaN</td>\n",
       "    </tr>\n",
       "    <tr>\n",
       "      <th>103</th>\n",
       "      <td>KRISTINA PEREZ4_0024.JPG</td>\n",
       "      <td>(2017, 5, 7, 14, 27, 47, 6, 127, -1)</td>\n",
       "      <td>2017-05-07</td>\n",
       "      <td>14:27:47</td>\n",
       "      <td>kristina</td>\n",
       "      <td>perez4</td>\n",
       "      <td>jpg</td>\n",
       "      <td>NaN</td>\n",
       "    </tr>\n",
       "    <tr>\n",
       "      <th>104</th>\n",
       "      <td>KRISTINA PEREZ4_0034.JPG</td>\n",
       "      <td>(2017, 5, 7, 14, 27, 52, 6, 127, -1)</td>\n",
       "      <td>2017-05-07</td>\n",
       "      <td>14:27:52</td>\n",
       "      <td>kristina</td>\n",
       "      <td>perez4</td>\n",
       "      <td>jpg</td>\n",
       "      <td>NaN</td>\n",
       "    </tr>\n",
       "    <tr>\n",
       "      <th>105</th>\n",
       "      <td>KRISTINA PEREZ4_0035.JPG</td>\n",
       "      <td>(2017, 5, 7, 14, 27, 57, 6, 127, -1)</td>\n",
       "      <td>2017-05-07</td>\n",
       "      <td>14:27:57</td>\n",
       "      <td>kristina</td>\n",
       "      <td>perez4</td>\n",
       "      <td>jpg</td>\n",
       "      <td>NaN</td>\n",
       "    </tr>\n",
       "    <tr>\n",
       "      <th>106</th>\n",
       "      <td>KRISTINA PEREZ_0001.JPG</td>\n",
       "      <td>(2017, 5, 7, 14, 28, 0, 6, 127, -1)</td>\n",
       "      <td>2017-05-07</td>\n",
       "      <td>14:28:00</td>\n",
       "      <td>kristina</td>\n",
       "      <td>perez</td>\n",
       "      <td>jpg</td>\n",
       "      <td>NaN</td>\n",
       "    </tr>\n",
       "    <tr>\n",
       "      <th>107</th>\n",
       "      <td>KRISTINA PEREZ_0005.JPG</td>\n",
       "      <td>(2017, 5, 7, 14, 28, 5, 6, 127, -1)</td>\n",
       "      <td>2017-05-07</td>\n",
       "      <td>14:28:05</td>\n",
       "      <td>kristina</td>\n",
       "      <td>perez</td>\n",
       "      <td>jpg</td>\n",
       "      <td>NaN</td>\n",
       "    </tr>\n",
       "    <tr>\n",
       "      <th>108</th>\n",
       "      <td>KRISTINA PEREZ_0006.JPG</td>\n",
       "      <td>(2017, 5, 7, 14, 28, 11, 6, 127, -1)</td>\n",
       "      <td>2017-05-07</td>\n",
       "      <td>14:28:11</td>\n",
       "      <td>kristina</td>\n",
       "      <td>perez</td>\n",
       "      <td>jpg</td>\n",
       "      <td>NaN</td>\n",
       "    </tr>\n",
       "  </tbody>\n",
       "</table>\n",
       "</div>"
      ],
      "text/plain": [
       "                    file_name                            date_mod_d  \\\n",
       "99   KRISTINA PEREZ4_0020.JPG  (2017, 5, 7, 14, 28, 15, 6, 127, -1)   \n",
       "100  KRISTINA PEREZ4_0021.JPG  (2017, 5, 7, 14, 28, 22, 6, 127, -1)   \n",
       "101  KRISTINA PEREZ4_0022.JPG  (2017, 5, 7, 14, 28, 27, 6, 127, -1)   \n",
       "102  KRISTINA PEREZ4_0023.JPG  (2017, 5, 7, 14, 27, 44, 6, 127, -1)   \n",
       "103  KRISTINA PEREZ4_0024.JPG  (2017, 5, 7, 14, 27, 47, 6, 127, -1)   \n",
       "104  KRISTINA PEREZ4_0034.JPG  (2017, 5, 7, 14, 27, 52, 6, 127, -1)   \n",
       "105  KRISTINA PEREZ4_0035.JPG  (2017, 5, 7, 14, 27, 57, 6, 127, -1)   \n",
       "106   KRISTINA PEREZ_0001.JPG   (2017, 5, 7, 14, 28, 0, 6, 127, -1)   \n",
       "107   KRISTINA PEREZ_0005.JPG   (2017, 5, 7, 14, 28, 5, 6, 127, -1)   \n",
       "108   KRISTINA PEREZ_0006.JPG  (2017, 5, 7, 14, 28, 11, 6, 127, -1)   \n",
       "\n",
       "       date_mod hour_modutc    f_name   l_name t_file  link  \n",
       "99   2017-05-07    14:28:15  kristina   perez4    jpg   NaN  \n",
       "100  2017-05-07    14:28:22  kristina   perez4    jpg   NaN  \n",
       "101  2017-05-07    14:28:27  kristina   perez4    jpg   NaN  \n",
       "102  2017-05-07    14:27:44  kristina   perez4    jpg   NaN  \n",
       "103  2017-05-07    14:27:47  kristina   perez4    jpg   NaN  \n",
       "104  2017-05-07    14:27:52  kristina   perez4    jpg   NaN  \n",
       "105  2017-05-07    14:27:57  kristina   perez4    jpg   NaN  \n",
       "106  2017-05-07    14:28:00  kristina    perez    jpg   NaN  \n",
       "107  2017-05-07    14:28:05  kristina    perez    jpg   NaN  \n",
       "108  2017-05-07    14:28:11  kristina    perez    jpg   NaN  "
      ]
     },
     "execution_count": 10,
     "metadata": {},
     "output_type": "execute_result"
    }
   ],
   "source": [
    "def listpic():\n",
    "    client = dropbox.client.DropboxClient('IS-424yqxy8AAAAAAAAVLOUS9urGIH4kCxP_5Q6hxdz-WrhGMYKa-9MjMZrpwMYZ')\n",
    "    metadata = client.metadata('/')\n",
    "    files = [content['path'].split('/')[-1] for content in metadata['contents'] if content['is_dir'] == False]\n",
    "    \n",
    "            \n",
    "    dates = [content['modified'] for content in metadata['contents'] if content['is_dir'] == False]\n",
    "    files = pd.DataFrame({'file_name' : files})\n",
    "    #TIME IS ON UTC TIMEZONE\n",
    "    files['date_mod_d'] = [time.strptime(i, \"%a, %d %b %Y %H:%M:%S %z\") for i in dates]\n",
    "    files['date_mod'] = [datetime.datetime(*files.date_mod_d.loc[i][:6]).date() for i in files.index]\n",
    "    files['hour_mod'] = [datetime.datetime(*files.date_mod_d.loc[i][:6]).time() for i in files.index]\n",
    "    \n",
    "    \n",
    "    tday = datetime.datetime.today().date()\n",
    "    files = files[files.date_mod == tday]\n",
    "    files['f_name'] = [i[0:i.find(' ')].lower() for i in files.file_name]\n",
    "    files['l_name'] = [i[i.find(' '):i.find('_')].lower() for i in files.file_name]\n",
    "    files['t_file'] = [i[i.find('.')+1:].lower() for i in files.file_name]\n",
    "    \n",
    "    links = []\n",
    "    for i in files.t_file:\n",
    "        if 'jpg' not in i:\n",
    "            links.append(client.share('/'+ i, short_url = False)['url'][:-1] + '1')\n",
    "        else:\n",
    "            links.append(np.nan)\n",
    "    \n",
    "    files['link'] = links\n",
    "    \n",
    "    \n",
    "    return files   \n",
    "\n",
    "listpic()"
   ]
  },
  {
   "cell_type": "code",
   "execution_count": 7,
   "metadata": {
    "collapsed": false
   },
   "outputs": [
    {
     "ename": "TypeError",
     "evalue": "Required argument 'year' (pos 1) not found",
     "output_type": "error",
     "traceback": [
      "\u001b[0;31m---------------------------------------------------------------------------\u001b[0m",
      "\u001b[0;31mTypeError\u001b[0m                                 Traceback (most recent call last)",
      "\u001b[0;32m<ipython-input-7-883ecf9eecc3>\u001b[0m in \u001b[0;36m<module>\u001b[0;34m()\u001b[0m\n\u001b[0;32m----> 1\u001b[0;31m \u001b[0mdatetime\u001b[0m\u001b[1;33m.\u001b[0m\u001b[0mdatetime\u001b[0m\u001b[1;33m(\u001b[0m\u001b[0mtzinfo\u001b[0m \u001b[1;33m=\u001b[0m \u001b[0mpytz\u001b[0m\u001b[1;33m.\u001b[0m\u001b[0mUTC\u001b[0m\u001b[1;33m)\u001b[0m\u001b[1;33m\u001b[0m\u001b[0m\n\u001b[0m",
      "\u001b[0;31mTypeError\u001b[0m: Required argument 'year' (pos 1) not found"
     ]
    }
   ],
   "source": [
    "datetime.datetime(tzinfo = pytz.UTC)"
   ]
  },
  {
   "cell_type": "code",
   "execution_count": 22,
   "metadata": {
    "collapsed": false
   },
   "outputs": [
    {
     "data": {
      "text/plain": [
       "datetime.datetime(2017, 5, 7, 10, 37, 55)"
      ]
     },
     "execution_count": 22,
     "metadata": {},
     "output_type": "execute_result"
    }
   ],
   "source": [
    "datetime.datetime(*time.localtime()[:6])"
   ]
  },
  {
   "cell_type": "code",
   "execution_count": null,
   "metadata": {
    "collapsed": true
   },
   "outputs": [],
   "source": []
  },
  {
   "cell_type": "code",
   "execution_count": null,
   "metadata": {
    "collapsed": true
   },
   "outputs": [],
   "source": []
  }
 ],
 "metadata": {
  "kernelspec": {
   "display_name": "Python 3",
   "language": "python",
   "name": "python3"
  },
  "language_info": {
   "codemirror_mode": {
    "name": "ipython",
    "version": 3
   },
   "file_extension": ".py",
   "mimetype": "text/x-python",
   "name": "python",
   "nbconvert_exporter": "python",
   "pygments_lexer": "ipython3",
   "version": "3.6.0"
  }
 },
 "nbformat": 4,
 "nbformat_minor": 2
}
