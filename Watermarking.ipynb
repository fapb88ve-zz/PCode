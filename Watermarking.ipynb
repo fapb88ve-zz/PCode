{
 "cells": [
  {
   "cell_type": "code",
   "execution_count": 1,
   "metadata": {
    "collapsed": true
   },
   "outputs": [],
   "source": [
    "import pandas as pd\n",
    "from PIL import Image \n",
    "import os\n",
    "from moviepy.editor import *"
   ]
  },
  {
   "cell_type": "code",
   "execution_count": 3,
   "metadata": {
    "collapsed": false
   },
   "outputs": [
    {
     "name": "stdout",
     "output_type": "stream",
     "text": [
      "[MoviePy] >>>> Building video Pancitas ABA DUENAS_0001.AVI.mp4\n",
      "[MoviePy] Writing video Pancitas ABA DUENAS_0001.AVI.mp4\n"
     ]
    },
    {
     "name": "stderr",
     "output_type": "stream",
     "text": [
      "100%|████████████████████████████████████████████████████████████████████████████████| 891/891 [00:22<00:00, 40.07it/s]\n"
     ]
    },
    {
     "name": "stdout",
     "output_type": "stream",
     "text": [
      "[MoviePy] Done.\n",
      "[MoviePy] >>>> Video ready: Pancitas ABA DUENAS_0001.AVI.mp4 \n",
      "\n",
      "[MoviePy] >>>> Building video Pancitas ABA DUENAS_0005.AVI.mp4\n",
      "[MoviePy] Writing video Pancitas ABA DUENAS_0005.AVI.mp4\n"
     ]
    },
    {
     "name": "stderr",
     "output_type": "stream",
     "text": [
      "100%|████████████████████████████████████████████████████████████████████████████████| 393/393 [00:07<00:00, 37.37it/s]\n"
     ]
    },
    {
     "name": "stdout",
     "output_type": "stream",
     "text": [
      "[MoviePy] Done.\n",
      "[MoviePy] >>>> Video ready: Pancitas ABA DUENAS_0005.AVI.mp4 \n",
      "\n",
      "[MoviePy] >>>> Building video Pancitas ABA DUENAS_0009.AVI.mp4\n",
      "[MoviePy] Writing video Pancitas ABA DUENAS_0009.AVI.mp4\n"
     ]
    },
    {
     "name": "stderr",
     "output_type": "stream",
     "text": [
      "100%|████████████████████████████████████████████████████████████████████████████████| 366/366 [00:08<00:00, 32.55it/s]\n"
     ]
    },
    {
     "name": "stdout",
     "output_type": "stream",
     "text": [
      "[MoviePy] Done.\n",
      "[MoviePy] >>>> Video ready: Pancitas ABA DUENAS_0009.AVI.mp4 \n",
      "\n",
      "[MoviePy] >>>> Building video Pancitas Pancitas ABA DUENAS_0001.AVI.mp4.mp4\n",
      "[MoviePy] Writing video Pancitas Pancitas ABA DUENAS_0001.AVI.mp4.mp4\n"
     ]
    },
    {
     "name": "stderr",
     "output_type": "stream",
     "text": [
      "100%|███████████████████████████████████████████████████████████████████████████████▉| 891/892 [00:20<00:00, 43.69it/s]\n"
     ]
    },
    {
     "name": "stdout",
     "output_type": "stream",
     "text": [
      "[MoviePy] Done.\n",
      "[MoviePy] >>>> Video ready: Pancitas Pancitas ABA DUENAS_0001.AVI.mp4.mp4 \n",
      "\n",
      "[MoviePy] >>>> Building video Pancitas Pancitas ABA DUENAS_0005.AVI.mp4.mp4\n",
      "[MoviePy] Writing video Pancitas Pancitas ABA DUENAS_0005.AVI.mp4.mp4\n"
     ]
    },
    {
     "name": "stderr",
     "output_type": "stream",
     "text": [
      "100%|███████████████████████████████████████████████████████████████████████████████▊| 393/394 [00:07<00:00, 47.39it/s]\n"
     ]
    },
    {
     "name": "stdout",
     "output_type": "stream",
     "text": [
      "[MoviePy] Done.\n",
      "[MoviePy] >>>> Video ready: Pancitas Pancitas ABA DUENAS_0005.AVI.mp4.mp4 \n",
      "\n",
      "[MoviePy] >>>> Building video Pancitas Pancitas ABA DUENAS_0009.AVI.mp4.mp4\n",
      "[MoviePy] Writing video Pancitas Pancitas ABA DUENAS_0009.AVI.mp4.mp4\n"
     ]
    },
    {
     "name": "stderr",
     "output_type": "stream",
     "text": [
      "100%|███████████████████████████████████████████████████████████████████████████████▊| 366/367 [00:08<00:00, 45.09it/s]\n"
     ]
    },
    {
     "name": "stdout",
     "output_type": "stream",
     "text": [
      "[MoviePy] Done.\n",
      "[MoviePy] >>>> Video ready: Pancitas Pancitas ABA DUENAS_0009.AVI.mp4.mp4 \n",
      "\n"
     ]
    }
   ],
   "source": [
    "def watermark(x):\n",
    "    for i in x:\n",
    "        if 'AVI' in i:\n",
    "            clip = VideoFileClip(i)\n",
    "            logo = (ImageClip(\"pancita4.png\")\n",
    "              .set_duration(clip.duration)\n",
    "              .resize(height=80) # if you need to resize...\n",
    "              .margin(right=8, top=8, opacity=0) # (optional) logo-border padding\n",
    "              .set_pos((\"right\",\"bottom\")))\n",
    "            final = CompositeVideoClip([clip, logo])\n",
    "            final.write_videofile(\"Pancitas \" + i +\".mp4\")\n",
    "        if 'JPG' in i:\n",
    "            plogo = Image.open('pancita4.png')\n",
    "            plogow, plogoh = plogo.size\n",
    "            plogo = plogo.resize((int(plogow*.1), int(plogoh*.1)))\n",
    "            plogow, plogoh = plogo.size\n",
    "            pic = Image.open(i)\n",
    "            picw, pich = pic.size\n",
    "            pic.paste(plogo, (picw - plogow, pich - plogoh), plogo)\n",
    "            pic.save('Pancita '+ i)\n",
    "            \n",
    "        else:\n",
    "            pass\n",
    "\n",
    "watermark(os.listdir(os.getcwd()))           "
   ]
  },
  {
   "cell_type": "code",
   "execution_count": null,
   "metadata": {
    "collapsed": true
   },
   "outputs": [],
   "source": []
  }
 ],
 "metadata": {
  "kernelspec": {
   "display_name": "Python 3",
   "language": "python",
   "name": "python3"
  },
  "language_info": {
   "codemirror_mode": {
    "name": "ipython",
    "version": 3
   },
   "file_extension": ".py",
   "mimetype": "text/x-python",
   "name": "python",
   "nbconvert_exporter": "python",
   "pygments_lexer": "ipython3",
   "version": "3.6.0"
  }
 },
 "nbformat": 4,
 "nbformat_minor": 2
}
