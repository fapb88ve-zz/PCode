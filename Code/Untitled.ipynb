{
 "cells": [
  {
   "cell_type": "code",
   "execution_count": 1,
   "metadata": {
    "collapsed": false
   },
   "outputs": [],
   "source": [
    "import dropbox\n",
    "import pandas as pd\n",
    "import time\n",
    "import datetime\n",
    "import os\n",
    "from PIL import Image\n",
    "import imageio\n",
    "imageio.plugins.ffmpeg.download()\n",
    "from moviepy.editor import *\n",
    "\n",
    "def files():\n",
    "    files = [content['path'].split('/')[-1]\n",
    "             for content in metadata['contents'] if content['is_dir'] == False]\n",
    "    size = [round(content['bytes'] / 10**6, 2)\n",
    "            for content in metadata['contents'] if content['is_dir'] == False]\n",
    "    dates = [content['modified'] for content in metadata['contents'] if content['is_dir'] == False]\n",
    "    name = [i[0:i.find('_')].lower().title() for i in files]\n",
    "    files = pd.DataFrame({'file_name': files, 'c_name': name, 'size': size, 'dates': dates})\n",
    "    files['date_mod_d'] = [time.strptime(i, \"%a, %d %b %Y %H:%M:%S %z\") for i in dates]\n",
    "    files['date_mod_d'] = [datetime.datetime(\n",
    "        *files.date_mod_d.loc[i][:6]) - datetime.timedelta(hours=4) for i in files.index]\n",
    "    files['date_mod'] = [files.loc[i].date_mod_d.date() for i in files.index]\n",
    "    files['hour_mod'] = [files.loc[i].date_mod_d.time() for i in files.index]\n",
    "    #tday = datetime.datetime.today().date()\n",
    "    #files = files[files.date_mod == tday]\n",
    "    del files['date_mod_d'], files['dates']\n",
    "    return files\n",
    "\n",
    "def watermark(x):\n",
    "    for i in x:\n",
    "        if 'AVI' in i:\n",
    "            clip = VideoFileClip(i)\n",
    "            logo = (logo.set_duration(clip.duration)\n",
    "                    .resize(height=80)\n",
    "                    .margin(right=8, top=8, opacity=0)  # (optional) logo-border padding\n",
    "                    .set_pos((\"right\", \"bottom\")))\n",
    "            # logo = (ImageClip(\"pancita4.png\")\n",
    "            #.set_duration(clip.duration)\n",
    "           #   .resize(height=80)\n",
    "            #  .margin(right=8, top=8, opacity=0) # (optional) logo-border padding\n",
    "            # .set_pos((\"right\",\"bottom\")))\n",
    "            final = CompositeVideoClip([clip, logo])\n",
    "            final.write_videofile(\"Pancitas \" + i + \".mp4\")\n",
    "        if 'JPG' in i:\n",
    "            #plogo = Image.open(\"pancita4.png\")\n",
    "            #plogow, plogoh = plogo.size\n",
    "            #plogo = plogo.resize((int(plogow*.1), int(plogoh*.1)))\n",
    "            #plogow, plogoh = plogo.size\n",
    "            pic = Image.open(i)\n",
    "            picw, pich = pic.size\n",
    "            pic.paste(plogo, (picw - plogow, pich - plogoh), plogo)\n",
    "            pic.save('Pancitas ' + i)\n",
    "\n",
    "        else:\n",
    "            pass\n",
    "\n",
    "\n",
    "def dl_files(x):\n",
    "    client = dropbox.client.DropboxClient(\n",
    "        'IS-424yqxy8AAAAAAAAVLOUS9urGIH4kCxP_5Q6hxdz-WrhGMYKa-9MjMZrpwMYZ')\n",
    "    df = pd.DataFrame(x.groupby('Nombre').Nombre.count())\n",
    "    files = x.file_name\n",
    "    os.chdir('.\\\\Clients')\n",
    "    for i in df.index:\n",
    "        c_dir = 'Pancitas Ultrasound {}'.format(i.lower().title())\n",
    "        os.mkdir(c_dir)\n",
    "        os.chdir('.\\\\' + c_dir)\n",
    "        dl_df = []\n",
    "        for k in files:\n",
    "            if i.upper() in k:\n",
    "                dl_df.append(k)\n",
    "        for j in dl_df:\n",
    "            f, metadata = client.get_file_and_metadata('/' + j)\n",
    "            out = open(j, 'wb')\n",
    "            out.write(f.read())\n",
    "            out.close()\n",
    "        watermark(dl_df)\n",
    "        for l in os.listdir(os.getcwd()):\n",
    "            if 'Pancitas' in l:\n",
    "                pass\n",
    "            else:\n",
    "                os.remove(l)\n",
    "        os.chdir('..\\\\')\n",
    "    \n",
    "    return\n",
    "        \n",
    "def SendMail4():\n",
    "    send = {}\n",
    "    for i in clients.index:\n",
    "        for j in next(os.walk('.'))[1]:\n",
    "            if clients.Nombre.loc[i] in j:\n",
    "                send[clients.Email.loc[i]] = j\n",
    "    for i in next(os.walk('.'))[1]:\n",
    "    msg = MIMEMultipart()\n",
    "    msg['Subject'] = 'prueba'\n",
    "    msg['From'] = 'fapb88ve@gmail.com'\n",
    "    msg['To'] = 'fapb88ve@gmail.com'\n",
    "    text = MIMEText(\"test\")\n",
    "    msg.attach(text)\n",
    "    for i in files:\n",
    "        if 'mp4' in i:\n",
    "            part = MIMEBase('application', \"octet-stream\")\n",
    "            fo=open('ADRIANA GRAELL WK27_0013.mpg',\"rb\")\n",
    "            part.set_payload(fo.read() )\n",
    "            Encoders.encode_base64(part)\n",
    "            part.add_header('Content-Disposition', 'attachment; filename=\"%s\"' % os.path.basename('ADRIANA GRAELL WK27_0013.mpg'))\n",
    "            msg.attach(part)\n",
    "        if 'jpg' in i:\n",
    "            img_data = open(k, 'rb').read()\n",
    "            image = MIMEImage(img_data, name=os.path.basename(k))\n",
    "            msg.attach(image)\n",
    "    s = smtplib.SMTP('smtp.gmail.com', 587)\n",
    "    s.ehlo()\n",
    "    s.starttls()\n",
    "    s.login('fapb88ve@gmail.com', 'rabbitrun88ve')\n",
    "    s.sendmail('fapb88ve@gmail.com', 'fapb88ve@gmail.com', msg.as_string())\n",
    "    s.quit()\n",
    "\n",
    "    \n"
   ]
  },
  {
   "cell_type": "code",
   "execution_count": 6,
   "metadata": {
    "collapsed": false
   },
   "outputs": [
    {
     "name": "stdout",
     "output_type": "stream",
     "text": [
      "C:\\Users\\Frank Pinto\\desktop\\pds\\Pancitas\\Code\\Clients\n"
     ]
    }
   ],
   "source": [
    "def full():\n",
    "    global sup\n",
    "    #sup = input()\n",
    "    os.chdir('.\\\\Logo')\n",
    "    global logo, plogo, plogow, plogoh, client, metadata\n",
    "    client = dropbox.client.DropboxClient(\n",
    "        'IS-424yqxy8AAAAAAAAVLOUS9urGIH4kCxP_5Q6hxdz-WrhGMYKa-9MjMZrpwMYZ')\n",
    "    metadata = client.metadata('/')\n",
    "    logo = ImageClip(\"pancita4.png\")\n",
    "    plogo = Image.open(\"pancita4.png\")\n",
    "    plogow, plogoh = plogo.size\n",
    "    plogo = plogo.resize((int(plogow * .1), int(plogoh * .1)))\n",
    "    plogow, plogoh = plogo.size\n",
    "    os.chdir('..')\n",
    "    # Time Function\n",
    "    d_files = files()\n",
    "    global clients\n",
    "    clients = pd.read_excel('Registro de Clientes.xlsx')\n",
    "    send_f = pd.merge(d_files, clients, left_on='c_name', right_on='Nombre',\n",
    "                      how='inner')\n",
    "    dl_files(send_f)\n",
    "    \n",
    "\n",
    "\n",
    "full()\n",
    "print(os.getcwd())\n",
    "#os.chdir('..')"
   ]
  },
  {
   "cell_type": "markdown",
   "metadata": {},
   "source": [
    "## Ramdon things"
   ]
  },
  {
   "cell_type": "code",
   "execution_count": 25,
   "metadata": {
    "collapsed": false
   },
   "outputs": [
    {
     "data": {
      "text/plain": [
       "{'fapb88ve@gmail.com': 'Pancitas Ultrasound Aba Duenas'}"
      ]
     },
     "execution_count": 25,
     "metadata": {},
     "output_type": "execute_result"
    }
   ],
   "source": [
    "if os.getcwd() != 'C:\\\\Users\\\\Frank Pinto\\\\desktop\\\\pds\\\\Pancitas\\\\Code':\n",
    "    os.chdir('C:\\\\Users\\\\Frank Pinto\\\\desktop\\\\pds\\\\Pancitas\\\\Code')\n",
    "clients = pd.read_excel('Registro de Clientes.xlsx')\n",
    "\n",
    "send = {}\n",
    "os.chdir('.\\\\Clients')\n",
    "for i in clients.index:\n",
    "    for j in next(os.walk('.'))[1]:\n",
    "        if clients.Nombre.loc[i] in j:\n",
    "            send[clients.Email.loc[i]] = j\n",
    "send"
   ]
  }
 ],
 "metadata": {
  "kernelspec": {
   "display_name": "Python 3",
   "language": "python",
   "name": "python3"
  },
  "language_info": {
   "codemirror_mode": {
    "name": "ipython",
    "version": 3
   },
   "file_extension": ".py",
   "mimetype": "text/x-python",
   "name": "python",
   "nbconvert_exporter": "python",
   "pygments_lexer": "ipython3",
   "version": "3.6.0"
  }
 },
 "nbformat": 4,
 "nbformat_minor": 2
}
