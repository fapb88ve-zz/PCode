{
 "cells": [
  {
   "cell_type": "code",
   "execution_count": 1,
   "metadata": {
    "collapsed": false
   },
   "outputs": [],
   "source": [
    "import dropbox\n",
    "import pandas as pd\n",
    "import time\n",
    "import datetime\n",
    "import os\n",
    "from PIL import Image\n",
    "import imageio\n",
    "imageio.plugins.ffmpeg.download()\n",
    "from moviepy.editor import *\n",
    "import smtplib\n",
    "from email.mime.text import MIMEText\n",
    "from email.mime.image import MIMEImage\n",
    "from email.mime.multipart import MIMEMultipart\n",
    "import datetime\n",
    "from email.mime.base import MIMEBase\n",
    "import email.encoders as Encoders\n",
    "\n",
    "\n",
    "def files():\n",
    "    files = [content['path'].split('/')[-1]\n",
    "             for content in metadata['contents'] if content['is_dir'] == False]\n",
    "    size = [round(content['bytes'] / 10**6, 2)\n",
    "            for content in metadata['contents'] if content['is_dir'] == False]\n",
    "    dates = [content['modified'] for content in metadata['contents'] if content['is_dir'] == False]\n",
    "    name = [i[0:i.find('_')].lower().title() for i in files]\n",
    "    files = pd.DataFrame({'file_name': files, 'c_name': name, 'size': size, 'dates': dates})\n",
    "    files['date_mod_d'] = [time.strptime(i, \"%a, %d %b %Y %H:%M:%S %z\") for i in dates]\n",
    "    files['date_mod_d'] = [datetime.datetime(\n",
    "        *files.date_mod_d.loc[i][:6]) - datetime.timedelta(hours=4) for i in files.index]\n",
    "    files['date_mod'] = [files.loc[i].date_mod_d.date() for i in files.index]\n",
    "    files['hour_mod'] = [files.loc[i].date_mod_d.time() for i in files.index]\n",
    "    #tday = datetime.datetime.today().date()\n",
    "    #files = files[files.date_mod == tday]\n",
    "    del files['date_mod_d'], files['dates']\n",
    "    return files\n",
    "\n",
    "def watermark(x):\n",
    "    for i in x:\n",
    "        if 'AVI' or 'MPG' in i:\n",
    "            clip = VideoFileClip(i)\n",
    "            #logo = (logo.set_duration(clip.duration)\n",
    "             #       .resize(height=80)\n",
    "              #      .margin(right=8, top=8, opacity=0)  # (optional) logo-border padding\n",
    "               #     .set_pos((\"right\", \"bottom\")))\n",
    "            # logo = (ImageClip(\"pancita4.png\")\n",
    "            #.set_duration(clip.duration)\n",
    "           #   .resize(height=80)\n",
    "            #  .margin(right=8, top=8, opacity=0) # (optional) logo-border padding\n",
    "            # .set_pos((\"right\",\"bottom\")))\n",
    "            #final = CompositeVideoClip([clip, logo])\n",
    "            final.write_videofile(\"Pancitas \" + i + \".mp4\")\n",
    "        if 'JPG' in i:\n",
    "            #plogo = Image.open(\"pancita4.png\")\n",
    "            #plogow, plogoh = plogo.size\n",
    "            #plogo = plogo.resize((int(plogow*.1), int(plogoh*.1)))\n",
    "            #plogow, plogoh = plogo.size\n",
    "            pic = Image.open(i)\n",
    "            picw, pich = pic.size\n",
    "            pic.paste(plogo, (picw - plogow, pich - plogoh), plogo)\n",
    "            pic.save('Pancitas ' + i)\n",
    "\n",
    "        else:\n",
    "            pass\n",
    "\n",
    "\n",
    "def dl_files(x):\n",
    "    client = dropbox.client.DropboxClient(\n",
    "        'IS-424yqxy8AAAAAAAAVLOUS9urGIH4kCxP_5Q6hxdz-WrhGMYKa-9MjMZrpwMYZ')\n",
    "    df = pd.DataFrame(x.groupby('Nombre').Nombre.count())\n",
    "    files = x.file_name\n",
    "    os.chdir('.\\\\Clients')\n",
    "    for i in df.index:\n",
    "        c_dir = 'Pancitas Ultrasound {}'.format(i.lower().title())\n",
    "        os.mkdir(c_dir)\n",
    "        os.chdir('.\\\\' + c_dir)\n",
    "        dl_df = []\n",
    "        for k in files:\n",
    "            if i.upper() in k:\n",
    "                dl_df.append(k)\n",
    "        for j in dl_df:\n",
    "            f, metadata = client.get_file_and_metadata('/' + j)\n",
    "            out = open(j, 'wb')\n",
    "            out.write(f.read())\n",
    "            out.close()\n",
    "        watermark(dl_df)\n",
    "        for l in os.listdir(os.getcwd()):\n",
    "            if 'Pancitas' in l:\n",
    "                pass\n",
    "            else:\n",
    "                os.remove(l)\n",
    "        os.chdir('..\\\\')\n",
    "    \n",
    "    return\n",
    "        \n",
    "def send_mail():\n",
    "    send = []\n",
    "    for i in clients.index:\n",
    "        for j in next(os.walk('.'))[1]:\n",
    "            if clients.Nombre.loc[i] in j:\n",
    "                c_name = clients.Nombre.loc[i]\n",
    "                c_email = clients.Email.loc[i]\n",
    "                folder = j\n",
    "                msg = MIMEMultipart()\n",
    "                msg['Subject'] = 'Ultrasound Imagery'\n",
    "                msg['From'] = 'fapb88ve@gmail.com'\n",
    "                msg['To'] = c_email\n",
    "                txt = \"\"\"Hello {}! \n",
    "                \\nThese are the pictures from your session.\n",
    "                \\nShare your experience and enjoy a 15% discount on your next visit. \n",
    "                \\nClick here to reedem: https://goo.gl/rC3z9H\n",
    "            \n",
    "                \\nWish you all the best! Come back soon :)\n",
    " \n",
    "                \\nThanks\n",
    "                \\nPancita’s Team\n",
    "                \\nwww.pancitas.com\n",
    "                \\n(305) 542-9931\"\"\"\n",
    "                text = MIMEText(txt.format(c_name))\n",
    "                \n",
    "                msg.attach(text)\n",
    "                os.chdir('.\\\\'+folder)\n",
    "                files = os.listdir(os.getcwd())\n",
    "                for l in files:\n",
    "                    if 'mp4' in l:\n",
    "                        part = MIMEBase('application', \"octet-stream\")\n",
    "                        fo=open(l,\"rb\")\n",
    "                        part.set_payload(fo.read() )\n",
    "                        Encoders.encode_base64(part)\n",
    "                        part.add_header('Content-Disposition', 'attachment; filename=\"%s\"' % os.path.basename(l))\n",
    "                        msg.attach(part)\n",
    "                    if 'jpg' in l:\n",
    "                        img_data = open(l, 'rb').read()\n",
    "                        image = MIMEImage(img_data, name=os.path.basename(l))\n",
    "                        msg.attach(image)\n",
    "                s = smtplib.SMTP('smtp.gmail.com', 587)\n",
    "                s.ehlo()\n",
    "                s.starttls()\n",
    "                s.login('fapb88ve@gmail.com', 'rabbitrun88ve')\n",
    "                s.sendmail('fapb88ve@gmail.com', c_email, msg.as_string())\n",
    "                s.quit()\n",
    "                os.chdir('..')"
   ]
  },
  {
   "cell_type": "code",
   "execution_count": 2,
   "metadata": {
    "collapsed": false
   },
   "outputs": [
    {
     "ename": "NameError",
     "evalue": "name 'final' is not defined",
     "output_type": "error",
     "traceback": [
      "\u001b[0;31m---------------------------------------------------------------------------\u001b[0m",
      "\u001b[0;31mNameError\u001b[0m                                 Traceback (most recent call last)",
      "\u001b[0;32m<ipython-input-2-cca2dd496352>\u001b[0m in \u001b[0;36m<module>\u001b[0;34m()\u001b[0m\n\u001b[1;32m     24\u001b[0m \u001b[1;32mif\u001b[0m \u001b[0mos\u001b[0m\u001b[1;33m.\u001b[0m\u001b[0mgetcwd\u001b[0m\u001b[1;33m(\u001b[0m\u001b[1;33m)\u001b[0m \u001b[1;33m!=\u001b[0m \u001b[1;34m'C:\\\\Users\\\\Frank Pinto\\\\desktop\\\\pds\\\\Pancitas\\\\Code'\u001b[0m\u001b[1;33m:\u001b[0m\u001b[1;33m\u001b[0m\u001b[0m\n\u001b[1;32m     25\u001b[0m     \u001b[0mos\u001b[0m\u001b[1;33m.\u001b[0m\u001b[0mchdir\u001b[0m\u001b[1;33m(\u001b[0m\u001b[1;34m'C:\\\\Users\\\\Frank Pinto\\\\desktop\\\\pds\\\\Pancitas\\\\Code'\u001b[0m\u001b[1;33m)\u001b[0m\u001b[1;33m\u001b[0m\u001b[0m\n\u001b[0;32m---> 26\u001b[0;31m \u001b[0mfull\u001b[0m\u001b[1;33m(\u001b[0m\u001b[1;33m)\u001b[0m\u001b[1;33m\u001b[0m\u001b[0m\n\u001b[0m\u001b[1;32m     27\u001b[0m \u001b[0mprint\u001b[0m\u001b[1;33m(\u001b[0m\u001b[0mos\u001b[0m\u001b[1;33m.\u001b[0m\u001b[0mgetcwd\u001b[0m\u001b[1;33m(\u001b[0m\u001b[1;33m)\u001b[0m\u001b[1;33m)\u001b[0m\u001b[1;33m\u001b[0m\u001b[0m\n\u001b[1;32m     28\u001b[0m \u001b[1;31m#os.chdir('..')\u001b[0m\u001b[1;33m\u001b[0m\u001b[1;33m\u001b[0m\u001b[0m\n",
      "\u001b[0;32m<ipython-input-2-cca2dd496352>\u001b[0m in \u001b[0;36mfull\u001b[0;34m()\u001b[0m\n\u001b[1;32m     19\u001b[0m     send_f = pd.merge(d_files, clients, left_on='c_name', right_on='Nombre',\n\u001b[1;32m     20\u001b[0m                       how='inner')\n\u001b[0;32m---> 21\u001b[0;31m     \u001b[0mdl_files\u001b[0m\u001b[1;33m(\u001b[0m\u001b[0msend_f\u001b[0m\u001b[1;33m)\u001b[0m\u001b[1;33m\u001b[0m\u001b[0m\n\u001b[0m\u001b[1;32m     22\u001b[0m     \u001b[0msend_mail\u001b[0m\u001b[1;33m(\u001b[0m\u001b[1;33m)\u001b[0m\u001b[1;33m\u001b[0m\u001b[0m\n\u001b[1;32m     23\u001b[0m \u001b[1;33m\u001b[0m\u001b[0m\n",
      "\u001b[0;32m<ipython-input-1-b8cbd3a60ab7>\u001b[0m in \u001b[0;36mdl_files\u001b[0;34m(x)\u001b[0m\n\u001b[1;32m     83\u001b[0m             \u001b[0mout\u001b[0m\u001b[1;33m.\u001b[0m\u001b[0mwrite\u001b[0m\u001b[1;33m(\u001b[0m\u001b[0mf\u001b[0m\u001b[1;33m.\u001b[0m\u001b[0mread\u001b[0m\u001b[1;33m(\u001b[0m\u001b[1;33m)\u001b[0m\u001b[1;33m)\u001b[0m\u001b[1;33m\u001b[0m\u001b[0m\n\u001b[1;32m     84\u001b[0m             \u001b[0mout\u001b[0m\u001b[1;33m.\u001b[0m\u001b[0mclose\u001b[0m\u001b[1;33m(\u001b[0m\u001b[1;33m)\u001b[0m\u001b[1;33m\u001b[0m\u001b[0m\n\u001b[0;32m---> 85\u001b[0;31m         \u001b[0mwatermark\u001b[0m\u001b[1;33m(\u001b[0m\u001b[0mdl_df\u001b[0m\u001b[1;33m)\u001b[0m\u001b[1;33m\u001b[0m\u001b[0m\n\u001b[0m\u001b[1;32m     86\u001b[0m         \u001b[1;32mfor\u001b[0m \u001b[0ml\u001b[0m \u001b[1;32min\u001b[0m \u001b[0mos\u001b[0m\u001b[1;33m.\u001b[0m\u001b[0mlistdir\u001b[0m\u001b[1;33m(\u001b[0m\u001b[0mos\u001b[0m\u001b[1;33m.\u001b[0m\u001b[0mgetcwd\u001b[0m\u001b[1;33m(\u001b[0m\u001b[1;33m)\u001b[0m\u001b[1;33m)\u001b[0m\u001b[1;33m:\u001b[0m\u001b[1;33m\u001b[0m\u001b[0m\n\u001b[1;32m     87\u001b[0m             \u001b[1;32mif\u001b[0m \u001b[1;34m'Pancitas'\u001b[0m \u001b[1;32min\u001b[0m \u001b[0ml\u001b[0m\u001b[1;33m:\u001b[0m\u001b[1;33m\u001b[0m\u001b[0m\n",
      "\u001b[0;32m<ipython-input-1-b8cbd3a60ab7>\u001b[0m in \u001b[0;36mwatermark\u001b[0;34m(x)\u001b[0m\n\u001b[1;32m     49\u001b[0m             \u001b[1;31m# .set_pos((\"right\",\"bottom\")))\u001b[0m\u001b[1;33m\u001b[0m\u001b[1;33m\u001b[0m\u001b[0m\n\u001b[1;32m     50\u001b[0m             \u001b[1;31m#final = CompositeVideoClip([clip, logo])\u001b[0m\u001b[1;33m\u001b[0m\u001b[1;33m\u001b[0m\u001b[0m\n\u001b[0;32m---> 51\u001b[0;31m             \u001b[0mfinal\u001b[0m\u001b[1;33m.\u001b[0m\u001b[0mwrite_videofile\u001b[0m\u001b[1;33m(\u001b[0m\u001b[1;34m\"Pancitas \"\u001b[0m \u001b[1;33m+\u001b[0m \u001b[0mi\u001b[0m \u001b[1;33m+\u001b[0m \u001b[1;34m\".mp4\"\u001b[0m\u001b[1;33m)\u001b[0m\u001b[1;33m\u001b[0m\u001b[0m\n\u001b[0m\u001b[1;32m     52\u001b[0m         \u001b[1;32mif\u001b[0m \u001b[1;34m'JPG'\u001b[0m \u001b[1;32min\u001b[0m \u001b[0mi\u001b[0m\u001b[1;33m:\u001b[0m\u001b[1;33m\u001b[0m\u001b[0m\n\u001b[1;32m     53\u001b[0m             \u001b[1;31m#plogo = Image.open(\"pancita4.png\")\u001b[0m\u001b[1;33m\u001b[0m\u001b[1;33m\u001b[0m\u001b[0m\n",
      "\u001b[0;31mNameError\u001b[0m: name 'final' is not defined"
     ]
    }
   ],
   "source": [
    "def full():\n",
    "    global sup\n",
    "    #sup = input()\n",
    "    os.chdir('.\\\\Logo')\n",
    "    global logo, plogo, plogow, plogoh, client, metadata\n",
    "    client = dropbox.client.DropboxClient(\n",
    "        'IS-424yqxy8AAAAAAAAVLOUS9urGIH4kCxP_5Q6hxdz-WrhGMYKa-9MjMZrpwMYZ')\n",
    "    metadata = client.metadata('/')\n",
    "    logo = ImageClip(\"pancita4.png\")\n",
    "    plogo = Image.open(\"pancita4.png\")\n",
    "    plogow, plogoh = plogo.size\n",
    "    plogo = plogo.resize((int(plogow * .1), int(plogoh * .1)))\n",
    "    plogow, plogoh = plogo.size\n",
    "    os.chdir('..')\n",
    "    # Time Function\n",
    "    d_files = files()\n",
    "    global clients\n",
    "    clients = pd.read_excel('Registro de Clientes.xlsx')\n",
    "    send_f = pd.merge(d_files, clients, left_on='c_name', right_on='Nombre',\n",
    "                      how='inner')\n",
    "    dl_files(send_f)\n",
    "    send_mail()\n",
    "\n",
    "if os.getcwd() != 'C:\\\\Users\\\\Frank Pinto\\\\desktop\\\\pds\\\\Pancitas\\\\Code':\n",
    "    os.chdir('C:\\\\Users\\\\Frank Pinto\\\\desktop\\\\pds\\\\Pancitas\\\\Code')\n",
    "full()\n",
    "print(os.getcwd())\n",
    "#os.chdir('..')"
   ]
  },
  {
   "cell_type": "markdown",
   "metadata": {},
   "source": [
    "## Ramdon things"
   ]
  },
  {
   "cell_type": "code",
   "execution_count": 20,
   "metadata": {
    "collapsed": false
   },
   "outputs": [
    {
     "data": {
      "text/html": [
       "<div>\n",
       "<table border=\"1\" class=\"dataframe\">\n",
       "  <thead>\n",
       "    <tr style=\"text-align: right;\">\n",
       "      <th></th>\n",
       "    </tr>\n",
       "  </thead>\n",
       "  <tbody>\n",
       "  </tbody>\n",
       "</table>\n",
       "</div>"
      ],
      "text/plain": [
       "Empty DataFrame\n",
       "Columns: []\n",
       "Index: []"
      ]
     },
     "execution_count": 20,
     "metadata": {},
     "output_type": "execute_result"
    }
   ],
   "source": [
    "if os.getcwd() != 'C:\\\\Users\\\\Frank Pinto\\\\desktop\\\\pds\\\\Pancitas\\\\Code':\n",
    "    os.chdir('C:\\\\Users\\\\Frank Pinto\\\\desktop\\\\pds\\\\Pancitas\\\\Code')\n",
    "clients = pd.read_excel('Registro de Clientes.xlsx')\n",
    "\n",
    "send = pd.DataFrame()\n",
    "os.chdir('.\\\\Clients')\n",
    "for i in clients.index:\n",
    "    for j in next(os.walk('.'))[1]:\n",
    "        if clients.Nombre.loc[i] in j:\n",
    "            send.append({'email':clients.Email.loc[i], 'directory':j}, ignore_index=True)\n",
    "            #send.append([clients.Email.loc[i], j])\n",
    "            \n",
    "                                \n",
    "send\n",
    "\n"
   ]
  },
  {
   "cell_type": "code",
   "execution_count": 2,
   "metadata": {
    "collapsed": false
   },
   "outputs": [
    {
     "data": {
      "text/plain": [
       "'C:\\\\Users\\\\Frank Pinto\\\\desktop\\\\pds\\\\Pancitas\\\\Code'"
      ]
     },
     "execution_count": 2,
     "metadata": {},
     "output_type": "execute_result"
    }
   ],
   "source": [
    "os.getcwd()"
   ]
  }
 ],
 "metadata": {
  "kernelspec": {
   "display_name": "Python 3",
   "language": "python",
   "name": "python3"
  },
  "language_info": {
   "codemirror_mode": {
    "name": "ipython",
    "version": 3
   },
   "file_extension": ".py",
   "mimetype": "text/x-python",
   "name": "python",
   "nbconvert_exporter": "python",
   "pygments_lexer": "ipython3",
   "version": "3.6.0"
  }
 },
 "nbformat": 4,
 "nbformat_minor": 2
}
