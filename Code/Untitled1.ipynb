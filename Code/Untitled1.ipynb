{
 "cells": [
  {
   "cell_type": "code",
   "execution_count": 8,
   "metadata": {
    "collapsed": false
   },
   "outputs": [],
   "source": [
    "import dropbox\n",
    "import pandas as pd\n",
    "import time\n",
    "import datetime\n",
    "import os\n",
    "from PIL import Image\n",
    "import imageio\n",
    "imageio.plugins.ffmpeg.download()\n",
    "from moviepy.editor import *\n",
    "import smtplib\n",
    "from email.mime.text import MIMEText\n",
    "from email.mime.image import MIMEImage\n",
    "from email.mime.multipart import MIMEMultipart\n",
    "import datetime\n",
    "from email.mime.base import MIMEBase\n",
    "import email.encoders as Encoders\n",
    "import math\n",
    "import numpy as np\n",
    "\n",
    "\n",
    "def files():\n",
    "    files = [content['path'].split('/')[-1]\n",
    "             for content in metadata['contents'] if content['is_dir'] == False]\n",
    "    size = [round(content['bytes'] / 10**6, 2)\n",
    "            for content in metadata['contents'] if content['is_dir'] == False]\n",
    "    dates = [content['modified'] for content in metadata['contents'] if content['is_dir'] == False]\n",
    "    name = [i[0:i.find('_')].lower().title() for i in files]\n",
    "    files = pd.DataFrame({'file_name': files, 'c_name': name, 'size': size, 'dates': dates})\n",
    "    files['date_mod_d'] = [time.strptime(i, \"%a, %d %b %Y %H:%M:%S %z\") for i in dates]\n",
    "    files['date_mod_d'] = [datetime.datetime(\n",
    "        *files.date_mod_d.loc[i][:6]) - datetime.timedelta(hours=4) for i in files.index]\n",
    "    files['date_mod'] = [files.loc[i].date_mod_d.date() for i in files.index]\n",
    "    files['hour_mod'] = [files.loc[i].date_mod_d.time() for i in files.index]\n",
    "    #tday = datetime.datetime.today().date()\n",
    "    #files = files[files.date_mod == tday]\n",
    "    del files['date_mod_d'], files['dates']\n",
    "    return files\n",
    "\n",
    "def watermark(x):\n",
    "    for i in x:\n",
    "        if 'AVI' in i:\n",
    "            clip = VideoFileClip(i)\n",
    "            #logo = (logo.set_duration(clip.duration)\n",
    "            #        .resize(height=80)\n",
    "            #        .margin(right=8, top=8, opacity=0)  # (optional) logo-border padding\n",
    "             #       .set_pos((\"right\", \"bottom\")))\n",
    "            logo = (ImageClip(logo_path)\n",
    "              .set_duration(clip.duration)\n",
    "              .resize(height=80)\n",
    "              .margin(right=8, top=8, opacity=0) # (optional) logo-border padding\n",
    "              .set_pos((\"right\",\"bottom\")))\n",
    "            final = CompositeVideoClip([clip, logo])\n",
    "            final.write_videofile(\"Pancitas \" + i + \".mp4\")\n",
    "        elif 'JPG' in i:\n",
    "            plogo = Image.open(logo_path)\n",
    "            plogow, plogoh = plogo.size\n",
    "            plogo = plogo.resize((int(plogow*.1), int(plogoh*.1)))\n",
    "            plogow, plogoh = plogo.size\n",
    "            pic = Image.open(i)\n",
    "            picw, pich = pic.size\n",
    "            pic.paste(plogo, (picw - plogow, pich - plogoh), plogo)\n",
    "            pic.save('Pancitas ' + i)\n",
    "        elif 'MPG' in i:\n",
    "            clip = VideoFileClip(i)\n",
    "            #logo = (logo.set_duration(clip.duration)\n",
    "            #        .resize(height=80)\n",
    "            #        .margin(right=8, top=8, opacity=0)  # (optional) logo-border padding\n",
    "             #       .set_pos((\"right\", \"bottom\")))\n",
    "            logo = (ImageClip(logo_path)\n",
    "              .set_duration(clip.duration)\n",
    "              .resize(height=80)\n",
    "              .margin(right=8, top=8, opacity=0) # (optional) logo-border padding\n",
    "              .set_pos((\"right\",\"bottom\")))\n",
    "            final = CompositeVideoClip([clip, logo])\n",
    "            final.write_videofile(\"Pancitas \" + i + \".mp4\")\n",
    "\n",
    "        else:\n",
    "            pass\n",
    "\n",
    "\n",
    "def dl_files(x):\n",
    "    client = dropbox.client.DropboxClient(\n",
    "        'IS-424yqxy8AAAAAAAAVLOUS9urGIH4kCxP_5Q6hxdz-WrhGMYKa-9MjMZrpwMYZ')\n",
    "    df = pd.DataFrame(x.groupby('Nombre').Nombre.count())\n",
    "    files = x.file_name\n",
    "    os.chdir('.\\\\Clients')\n",
    "    for i in df.index:\n",
    "        c_dir = 'Pancitas Ultrasound {}'.format(i.lower().title())\n",
    "        os.mkdir(c_dir)\n",
    "        os.chdir('.\\\\' + c_dir)\n",
    "        dl_df = []\n",
    "        for k in files:\n",
    "            if i.upper() in k:\n",
    "                dl_df.append(k)\n",
    "        for j in dl_df:\n",
    "            f, metadata = client.get_file_and_metadata('/' + j)\n",
    "            out = open(j, 'wb')\n",
    "            out.write(f.read())\n",
    "            out.close()\n",
    "        watermark(dl_df)\n",
    "        for l in os.listdir(os.getcwd()):\n",
    "            if 'Pancitas' in l:\n",
    "                pass\n",
    "            else:\n",
    "                os.remove(l)\n",
    "        os.chdir('..\\\\')\n",
    "    \n",
    "    return\n",
    "        \n",
    "def send_mail():\n",
    "    send = []\n",
    "    for i in clients.index:\n",
    "        for j in next(os.walk('.'))[1]:\n",
    "            if clients.Nombre.loc[i] in j:\n",
    "                c_name = clients.Nombre.loc[i]\n",
    "                c_email = clients.Email.loc[i]\n",
    "                folder = j\n",
    "                msg = MIMEMultipart()\n",
    "                msg['Subject'] = 'Ultrasound Imagery'\n",
    "                msg['From'] = 'fapb88ve@gmail.com'\n",
    "                msg['To'] = c_email\n",
    "                txt = \"\"\"Hello {}! \n",
    "                \\nThese are the pictures from your session.\n",
    "                \\nShare your experience and enjoy a 15% discount on your next visit. \n",
    "                \\nClick here to reedem: https://goo.gl/rC3z9H\n",
    "            \n",
    "                \\nWish you all the best! Come back soon :)\n",
    " \n",
    "                \\nThanks\n",
    "                \\nPancita’s Team\n",
    "                \\nwww.pancitas.com\n",
    "                \\n(305) 542-9931\"\"\"\n",
    "                text = MIMEText(txt.format(c_name))\n",
    "                \n",
    "                msg.attach(text)\n",
    "                os.chdir('.\\\\'+folder)\n",
    "                files = os.listdir(os.getcwd())\n",
    "                for l in files:\n",
    "                    if 'mp4' in l:\n",
    "                        part = MIMEBase('application', \"octet-stream\")\n",
    "                        fo=open(l,\"rb\")\n",
    "                        part.set_payload(fo.read() )\n",
    "                        Encoders.encode_base64(part)\n",
    "                        part.add_header('Content-Disposition', 'attachment; filename=\"%s\"' % os.path.basename(l))\n",
    "                        msg.attach(part)\n",
    "                    if 'JPG' in l:\n",
    "                        img_data = open(l, 'rb').read()\n",
    "                        image = MIMEImage(img_data, name=os.path.basename(l))\n",
    "                        msg.attach(image)\n",
    "                s = smtplib.SMTP('smtp.gmail.com', 587)\n",
    "                s.ehlo()\n",
    "                s.starttls()\n",
    "                s.login('fapb88ve@gmail.com', 'rabbitrun88ve')\n",
    "                s.sendmail('fapb88ve@gmail.com', c_email, msg.as_string())\n",
    "                s.quit()\n",
    "                os.chdir('..')\n"
   ]
  },
  {
   "cell_type": "code",
   "execution_count": 2,
   "metadata": {
    "collapsed": false
   },
   "outputs": [
    {
     "name": "stdout",
     "output_type": "stream",
     "text": [
      "[MoviePy] >>>> Building video Pancitas ABA DUENAS_0002.MPG.mp4\n",
      "[MoviePy] Writing video Pancitas ABA DUENAS_0002.MPG.mp4\n"
     ]
    },
    {
     "name": "stderr",
     "output_type": "stream",
     "text": [
      "100%|██████████████████████████████████████████████████████████████████████████████████| 25/25 [00:00<00:00, 37.55it/s]\n"
     ]
    },
    {
     "name": "stdout",
     "output_type": "stream",
     "text": [
      "[MoviePy] Done.\n",
      "[MoviePy] >>>> Video ready: Pancitas ABA DUENAS_0002.MPG.mp4 \n",
      "\n",
      "[MoviePy] >>>> Building video Pancitas ABA DUENAS_0003.MPG.mp4\n",
      "[MoviePy] Writing video Pancitas ABA DUENAS_0003.MPG.mp4\n"
     ]
    },
    {
     "name": "stderr",
     "output_type": "stream",
     "text": [
      "100%|██████████████████████████████████████████████████████████████████████████████████| 40/40 [00:00<00:00, 48.93it/s]\n"
     ]
    },
    {
     "name": "stdout",
     "output_type": "stream",
     "text": [
      "[MoviePy] Done.\n",
      "[MoviePy] >>>> Video ready: Pancitas ABA DUENAS_0003.MPG.mp4 \n",
      "\n",
      "[MoviePy] >>>> Building video Pancitas ABA DUENAS_0016.AVI.mp4\n",
      "[MoviePy] Writing video Pancitas ABA DUENAS_0016.AVI.mp4\n"
     ]
    },
    {
     "name": "stderr",
     "output_type": "stream",
     "text": [
      " 98%|████████████████████████████████████████████████████████████████████████████████▏ | 45/46 [00:00<00:00, 89.05it/s]\n"
     ]
    },
    {
     "name": "stdout",
     "output_type": "stream",
     "text": [
      "[MoviePy] Done.\n",
      "[MoviePy] >>>> Video ready: Pancitas ABA DUENAS_0016.AVI.mp4 \n",
      "\n",
      "[MoviePy] >>>> Building video Pancitas ABA DUENAS_0023.AVI.mp4\n",
      "[MoviePy] Writing video Pancitas ABA DUENAS_0023.AVI.mp4\n"
     ]
    },
    {
     "name": "stderr",
     "output_type": "stream",
     "text": [
      "100%|██████████████████████████████████████████████████████████████████████████████████| 36/36 [00:00<00:00, 69.59it/s]\n"
     ]
    },
    {
     "name": "stdout",
     "output_type": "stream",
     "text": [
      "[MoviePy] Done.\n",
      "[MoviePy] >>>> Video ready: Pancitas ABA DUENAS_0023.AVI.mp4 \n",
      "\n",
      "[MoviePy] >>>> Building video Pancitas ABA DUENAS_0024 (1).AVI.mp4\n",
      "[MoviePy] Writing video Pancitas ABA DUENAS_0024 (1).AVI.mp4\n"
     ]
    },
    {
     "name": "stderr",
     "output_type": "stream",
     "text": [
      "100%|██████████████████████████████████████████████████████████████████████████████████| 46/46 [00:00<00:00, 79.67it/s]\n"
     ]
    },
    {
     "name": "stdout",
     "output_type": "stream",
     "text": [
      "[MoviePy] Done.\n",
      "[MoviePy] >>>> Video ready: Pancitas ABA DUENAS_0024 (1).AVI.mp4 \n",
      "\n",
      "[MoviePy] >>>> Building video Pancitas ABA DUENAS_0024.AVI.mp4\n",
      "[MoviePy] Writing video Pancitas ABA DUENAS_0024.AVI.mp4\n"
     ]
    },
    {
     "name": "stderr",
     "output_type": "stream",
     "text": [
      "100%|██████████████████████████████████████████████████████████████████████████████████| 36/36 [00:00<00:00, 75.62it/s]\n"
     ]
    },
    {
     "name": "stdout",
     "output_type": "stream",
     "text": [
      "[MoviePy] Done.\n",
      "[MoviePy] >>>> Video ready: Pancitas ABA DUENAS_0024.AVI.mp4 \n",
      "\n",
      "[MoviePy] >>>> Building video Pancitas ABA DUENAS_0026.AVI.mp4\n",
      "[MoviePy] Writing video Pancitas ABA DUENAS_0026.AVI.mp4\n"
     ]
    },
    {
     "name": "stderr",
     "output_type": "stream",
     "text": [
      "100%|██████████████████████████████████████████████████████████████████████████████████| 33/33 [00:00<00:00, 84.56it/s]\n"
     ]
    },
    {
     "name": "stdout",
     "output_type": "stream",
     "text": [
      "[MoviePy] Done.\n",
      "[MoviePy] >>>> Video ready: Pancitas ABA DUENAS_0026.AVI.mp4 \n",
      "\n",
      "[MoviePy] >>>> Building video Pancitas ABA DUENAS_0029.AVI.mp4\n",
      "[MoviePy] Writing video Pancitas ABA DUENAS_0029.AVI.mp4\n"
     ]
    },
    {
     "name": "stderr",
     "output_type": "stream",
     "text": [
      "100%|██████████████████████████████████████████████████████████████████████████████████| 43/43 [00:00<00:00, 83.12it/s]\n"
     ]
    },
    {
     "name": "stdout",
     "output_type": "stream",
     "text": [
      "[MoviePy] Done.\n",
      "[MoviePy] >>>> Video ready: Pancitas ABA DUENAS_0029.AVI.mp4 \n",
      "\n",
      "[MoviePy] >>>> Building video Pancitas ABA DUENAS_0036.MPG.mp4\n",
      "[MoviePy] Writing video Pancitas ABA DUENAS_0036.MPG.mp4\n"
     ]
    },
    {
     "name": "stderr",
     "output_type": "stream",
     "text": [
      "100%|██████████████████████████████████████████████████████████████████████████████████| 21/21 [00:00<00:00, 78.31it/s]\n"
     ]
    },
    {
     "name": "stdout",
     "output_type": "stream",
     "text": [
      "[MoviePy] Done.\n",
      "[MoviePy] >>>> Video ready: Pancitas ABA DUENAS_0036.MPG.mp4 \n",
      "\n",
      "[MoviePy] >>>> Building video Pancitas ABA DUENAS_0037.AVI.mp4\n",
      "[MoviePy] Writing video Pancitas ABA DUENAS_0037.AVI.mp4\n"
     ]
    },
    {
     "name": "stderr",
     "output_type": "stream",
     "text": [
      "100%|██████████████████████████████████████████████████████████████████████████████████| 36/36 [00:00<00:00, 56.21it/s]\n"
     ]
    },
    {
     "name": "stdout",
     "output_type": "stream",
     "text": [
      "[MoviePy] Done.\n",
      "[MoviePy] >>>> Video ready: Pancitas ABA DUENAS_0037.AVI.mp4 \n",
      "\n",
      "[MoviePy] >>>> Building video Pancitas ABA DUENAS_0039.MPG.mp4\n",
      "[MoviePy] Writing video Pancitas ABA DUENAS_0039.MPG.mp4\n"
     ]
    },
    {
     "name": "stderr",
     "output_type": "stream",
     "text": [
      "100%|██████████████████████████████████████████████████████████████████████████████████| 21/21 [00:00<00:00, 72.85it/s]\n"
     ]
    },
    {
     "name": "stdout",
     "output_type": "stream",
     "text": [
      "[MoviePy] Done.\n",
      "[MoviePy] >>>> Video ready: Pancitas ABA DUENAS_0039.MPG.mp4 \n",
      "\n",
      "[MoviePy] >>>> Building video Pancitas ABA DUENAS_0046.AVI.mp4\n",
      "[MoviePy] Writing video Pancitas ABA DUENAS_0046.AVI.mp4\n"
     ]
    },
    {
     "name": "stderr",
     "output_type": "stream",
     "text": [
      " 97%|███████████████████████████████████████████████████████████████████████████████▌  | 33/34 [00:00<00:00, 24.99it/s]\n"
     ]
    },
    {
     "name": "stdout",
     "output_type": "stream",
     "text": [
      "[MoviePy] Done.\n",
      "[MoviePy] >>>> Video ready: Pancitas ABA DUENAS_0046.AVI.mp4 \n",
      "\n",
      "[MoviePy] >>>> Building video Pancitas ABA DUENAS_0065.MPG.mp4\n",
      "[MoviePy] Writing video Pancitas ABA DUENAS_0065.MPG.mp4\n"
     ]
    },
    {
     "name": "stderr",
     "output_type": "stream",
     "text": [
      "100%|██████████████████████████████████████████████████████████████████████████████████| 34/34 [00:00<00:00, 75.01it/s]\n"
     ]
    },
    {
     "name": "stdout",
     "output_type": "stream",
     "text": [
      "[MoviePy] Done.\n",
      "[MoviePy] >>>> Video ready: Pancitas ABA DUENAS_0065.MPG.mp4 \n",
      "\n",
      "[MoviePy] >>>> Building video Pancitas ABA DUENAS_0066.MPG.mp4\n",
      "[MoviePy] Writing video Pancitas ABA DUENAS_0066.MPG.mp4\n"
     ]
    },
    {
     "name": "stderr",
     "output_type": "stream",
     "text": [
      " 95%|██████████████████████████████████████████████████████████████████████████████▎   | 21/22 [00:00<00:00, 57.21it/s]\n"
     ]
    },
    {
     "name": "stdout",
     "output_type": "stream",
     "text": [
      "[MoviePy] Done.\n",
      "[MoviePy] >>>> Video ready: Pancitas ABA DUENAS_0066.MPG.mp4 \n",
      "\n",
      "[MoviePy] >>>> Building video Pancitas ABA DUENAS_0093.MPG.mp4\n",
      "[MoviePy] Writing video Pancitas ABA DUENAS_0093.MPG.mp4\n"
     ]
    },
    {
     "name": "stderr",
     "output_type": "stream",
     "text": [
      " 96%|███████████████████████████████████████████████████████████████████████████████   | 27/28 [00:00<00:00, 68.48it/s]\n"
     ]
    },
    {
     "name": "stdout",
     "output_type": "stream",
     "text": [
      "[MoviePy] Done.\n",
      "[MoviePy] >>>> Video ready: Pancitas ABA DUENAS_0093.MPG.mp4 \n",
      "\n",
      "C:\\Users\\Frank Pinto\\desktop\\pds\\Pancitas\\Code\\Clients\n"
     ]
    }
   ],
   "source": [
    "def full():\n",
    "    global sup\n",
    "    #sup = input()\n",
    "    #os.chdir('.\\\\Logo')\n",
    "    \n",
    "    global logo, plogo, plogow, plogoh, client, metadata, logo_path\n",
    "    logo_path = os.path.abspath('.\\\\Logo\\\\pancita4.png')\n",
    "    client = dropbox.client.DropboxClient(\n",
    "        'IS-424yqxy8AAAAAAAAVLOUS9urGIH4kCxP_5Q6hxdz-WrhGMYKa-9MjMZrpwMYZ')\n",
    "    metadata = client.metadata('/')\n",
    "    #logo = ImageClip(\"pancita4.png\")\n",
    "    #plogo = Image.open(\"pancita4.png\")\n",
    "    #plogow, plogoh = plogo.size\n",
    "    #plogo = plogo.resize((int(plogow * .1), int(plogoh * .1)))\n",
    "    #plogow, plogoh = plogo.size\n",
    "    #os.chdir('..')\n",
    "    # Time Function\n",
    "    d_files = files()\n",
    "    global clients\n",
    "    clients = pd.read_excel('Registro de Clientes.xlsx')\n",
    "    send_f = pd.merge(d_files, clients, left_on='c_name', right_on='Nombre',\n",
    "                      how='inner')\n",
    "    dl_files(send_f)\n",
    "    send_mail()\n",
    "\n",
    "if os.getcwd() != 'C:\\\\Users\\\\Frank Pinto\\\\desktop\\\\pds\\\\Pancitas\\\\Code':\n",
    "    os.chdir('C:\\\\Users\\\\Frank Pinto\\\\desktop\\\\pds\\\\Pancitas\\\\Code')\n",
    "full()\n",
    "print(os.getcwd())\n",
    "#os.chdir('..')"
   ]
  },
  {
   "cell_type": "code",
   "execution_count": 7,
   "metadata": {
    "collapsed": false
   },
   "outputs": [
    {
     "data": {
      "text/plain": [
       "4"
      ]
     },
     "execution_count": 7,
     "metadata": {},
     "output_type": "execute_result"
    }
   ],
   "source": [
    "math.ceil(3.4)"
   ]
  },
  {
   "cell_type": "markdown",
   "metadata": {},
   "source": [
    "## Re-Writing the email function"
   ]
  },
  {
   "cell_type": "code",
   "execution_count": null,
   "metadata": {
    "collapsed": true
   },
   "outputs": [],
   "source": [
    "def send_mail():\n",
    "    send = []\n",
    "    for i in clients.index:\n",
    "        for j in next(os.walk('.'))[1]:\n",
    "            if clients.Nombre.loc[i] in j:\n",
    "                c_name = clients.Nombre.loc[i]\n",
    "                c_email = clients.Email.loc[i]\n",
    "                folder = j\n",
    "                msg = MIMEMultipart()\n",
    "                msg['Subject'] = 'Ultrasound Imagery'\n",
    "                msg['From'] = 'fapb88ve@gmail.com'\n",
    "                msg['To'] = c_email\n",
    "                txt = \"\"\"Hello {}! \n",
    "                \\nThese are the pictures from your session.\n",
    "                \\nShare your experience and enjoy a 15% discount on your next visit. \n",
    "                \\nClick here to reedem: https://goo.gl/rC3z9H\n",
    "            \n",
    "                \\nWish you all the best! Come back soon :)\n",
    " \n",
    "                \\nThanks\n",
    "                \\nPancita’s Team\n",
    "                \\nwww.pancitas.com\n",
    "                \\n(305) 542-9931\"\"\"\n",
    "                text = MIMEText(txt.format(c_name))\n",
    "                \n",
    "                msg.attach(text)\n",
    "                os.chdir('.\\\\'+folder)\n",
    "                folder_size = round(os.path.getsize(os.getcwd()) / 10**6, 2) \n",
    "                if folder_size => 25:\n",
    "                    files = os.listdir(os.getcwd())\n",
    "                    size = [round(os.path.getsize(i) / 10**6, 2) for i in files]\n",
    "                    df_size = pd.DataFrame({'file' : files, 'size': size})\n",
    "                    df_size['cumsum'] = np.cumsum(df_size.size)\n",
    "                    for y in df.index:\n",
    "                        tot_size = df_size.size.loc[:y]\n",
    "                        if np.cumsum(tot_size) =< 25:\n",
    "                            pass\n",
    "                        elif np.cumsum(tot_size) > 25:\n",
    "                            tot_size = tot_size.loc[: y - 1]\n",
    "                            for l in tot_size.file:\n",
    "                                if 'mp4' in l:\n",
    "                                    part = MIMEBase('application', \"octet-stream\")\n",
    "                                    fo=open(l,\"rb\")\n",
    "                                    part.set_payload(fo.read() )\n",
    "                                    Encoders.encode_base64(part)\n",
    "                                    part.add_header('Content-Disposition', 'attachment; filename=\"%s\"' % os.path.basename(l))\n",
    "                                    msg.attach(part)\n",
    "                                if 'JPG' in l:\n",
    "                                    img_data = open(l, 'rb').read()\n",
    "                                    image = MIMEImage(img_data, name=os.path.basename(l))\n",
    "                                    msg.attach(image)\n",
    "                            s = smtplib.SMTP('smtp.gmail.com', 587)\n",
    "                            s.ehlo()\n",
    "                            s.starttls()\n",
    "                            s.login('fapb88ve@gmail.com', 'rabbitrun88ve')\n",
    "                            s.sendmail('fapb88ve@gmail.com', c_email, msg.as_string())\n",
    "                            s.quit()\n",
    "                            os.chdir('..')\n",
    "                else:\n",
    "                    files = os.listdir(os.getcwd())\n",
    "                    for l in tot_size.file:\n",
    "                                if 'mp4' in l:\n",
    "                                    part = MIMEBase('application', \"octet-stream\")\n",
    "                                    fo=open(l,\"rb\")\n",
    "                                    part.set_payload(fo.read() )\n",
    "                                    Encoders.encode_base64(part)\n",
    "                                    part.add_header('Content-Disposition', 'attachment; filename=\"%s\"' % os.path.basename(l))\n",
    "                                    msg.attach(part)\n",
    "                                if 'JPG' in l:\n",
    "                                    img_data = open(l, 'rb').read()\n",
    "                                    image = MIMEImage(img_data, name=os.path.basename(l))\n",
    "                                    msg.attach(image)\n",
    "                    s = smtplib.SMTP('smtp.gmail.com', 587)\n",
    "                    s.ehlo()\n",
    "                    s.starttls()\n",
    "                    s.login('fapb88ve@gmail.com', 'rabbitrun88ve')\n",
    "                    s.sendmail('fapb88ve@gmail.com', c_email, msg.as_string())\n",
    "                    s.quit()\n",
    "                    os.chdir('..')\n",
    "                    \n",
    "                    \n",
    "                    \n",
    "                    \n",
    "                        \n",
    "                    \n",
    "                \n",
    "                \n"
   ]
  }
 ],
 "metadata": {
  "kernelspec": {
   "display_name": "Python 3",
   "language": "python",
   "name": "python3"
  },
  "language_info": {
   "codemirror_mode": {
    "name": "ipython",
    "version": 3
   },
   "file_extension": ".py",
   "mimetype": "text/x-python",
   "name": "python",
   "nbconvert_exporter": "python",
   "pygments_lexer": "ipython3",
   "version": "3.6.0"
  }
 },
 "nbformat": 4,
 "nbformat_minor": 2
}
