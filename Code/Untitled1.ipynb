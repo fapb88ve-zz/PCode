{
 "cells": [
  {
   "cell_type": "code",
   "execution_count": 2,
   "metadata": {
    "collapsed": false
   },
   "outputs": [],
   "source": [
    "import dropbox\n",
    "import pandas as pd\n",
    "import time\n",
    "import datetime\n",
    "import os\n",
    "from PIL import Image\n",
    "import imageio\n",
    "imageio.plugins.ffmpeg.download()\n",
    "from moviepy.editor import *\n",
    "import smtplib\n",
    "from email.mime.text import MIMEText\n",
    "from email.mime.image import MIMEImage\n",
    "from email.mime.multipart import MIMEMultipart\n",
    "import datetime\n",
    "from email.mime.base import MIMEBase\n",
    "import email.encoders as Encoders\n",
    "import math\n",
    "import numpy as np\n",
    "import re\n",
    "\n",
    "\n",
    "def files():\n",
    "    files = [content['path'].split('/')[-1]\n",
    "             for content in metadata['contents'] if content['is_dir'] == False]\n",
    "    size = [round(content['bytes'] / 10**6, 2)\n",
    "            for content in metadata['contents'] if content['is_dir'] == False]\n",
    "    dates = [content['modified'] for content in metadata['contents'] if content['is_dir'] == False]\n",
    "    name = [i[0:i.find('_')].lower().title() for i in files]\n",
    "    files = pd.DataFrame({'file_name': files, 'c_name': name, 'size': size, 'dates': dates})\n",
    "    files['date_mod_d'] = [time.strptime(i, \"%a, %d %b %Y %H:%M:%S %z\") for i in dates]\n",
    "    files['date_mod_d'] = [datetime.datetime(\n",
    "        *files.date_mod_d.loc[i][:6]) - datetime.timedelta(hours=4) for i in files.index]\n",
    "    files['date_mod'] = [files.loc[i].date_mod_d.date() for i in files.index]\n",
    "    files['hour_mod'] = [files.loc[i].date_mod_d.time() for i in files.index]\n",
    "    #tday = datetime.datetime.today().date()\n",
    "    #files = files[files.date_mod == tday]\n",
    "    del files['date_mod_d'], files['dates']\n",
    "    return files\n",
    "\n",
    "def watermark(x):\n",
    "    for i in x:\n",
    "        if 'AVI' in i:\n",
    "            clip = VideoFileClip(i)\n",
    "            #logo = (logo.set_duration(clip.duration)\n",
    "            #        .resize(height=80)\n",
    "            #        .margin(right=8, top=8, opacity=0)  # (optional) logo-border padding\n",
    "             #       .set_pos((\"right\", \"bottom\")))\n",
    "            logo = (ImageClip(logo_path)\n",
    "              .set_duration(clip.duration)\n",
    "              .resize(height=80)\n",
    "              .margin(right=8, top=8, opacity=0) # (optional) logo-border padding\n",
    "              .set_pos((\"right\",\"bottom\")))\n",
    "            final = CompositeVideoClip([clip, logo])\n",
    "            final.write_videofile(\"Pancitas \" + i + \".mp4\")\n",
    "        elif 'JPG' in i:\n",
    "            plogo = Image.open(logo_path)\n",
    "            plogow, plogoh = plogo.size\n",
    "            plogo = plogo.resize((int(plogow*.1), int(plogoh*.1)))\n",
    "            plogow, plogoh = plogo.size\n",
    "            pic = Image.open(i)\n",
    "            picw, pich = pic.size\n",
    "            pic.paste(plogo, (picw - plogow, pich - plogoh), plogo)\n",
    "            pic.save('Pancitas ' + i)\n",
    "        elif 'MPG' in i:\n",
    "            clip = VideoFileClip(i)\n",
    "            #logo = (logo.set_duration(clip.duration)\n",
    "            #        .resize(height=80)\n",
    "            #        .margin(right=8, top=8, opacity=0)  # (optional) logo-border padding\n",
    "             #       .set_pos((\"right\", \"bottom\")))\n",
    "            logo = (ImageClip(logo_path)\n",
    "              .set_duration(clip.duration)\n",
    "              .resize(height=80)\n",
    "              .margin(right=8, top=8, opacity=0) # (optional) logo-border padding\n",
    "              .set_pos((\"right\",\"bottom\")))\n",
    "            final = CompositeVideoClip([clip, logo])\n",
    "            final.write_videofile(\"Pancitas \" + i + \".mp4\")\n",
    "\n",
    "        else:\n",
    "            pass\n",
    "\n",
    "\n",
    "def dl_files(x):\n",
    "    #client = dropbox.client.DropboxClient(\n",
    "     #   'IS-424yqxy8AAAAAAAAVLOUS9urGIH4kCxP_5Q6hxdz-WrhGMYKa-9MjMZrpwMYZ')\n",
    "    df = pd.DataFrame(x.groupby('Nombre').Nombre.count())\n",
    "    files = x.file_name\n",
    "    os.chdir('.\\\\Clients')\n",
    "    for i in df.index:\n",
    "        c_dir = 'Pancitas Ultrasound {}'.format(i.lower().title())\n",
    "        os.mkdir(c_dir)\n",
    "        os.chdir('.\\\\' + c_dir)\n",
    "        dl_df = []\n",
    "        for k in files:\n",
    "            if i.upper() in k:\n",
    "                dl_df.append(k)\n",
    "        for j in dl_df:\n",
    "            f, metadata = client.get_file_and_metadata('/' + j)\n",
    "            out = open(j, 'wb')\n",
    "            out.write(f.read())\n",
    "            out.close()\n",
    "        watermark(dl_df)\n",
    "        for l in os.listdir(os.getcwd()):\n",
    "            if 'Pancitas' in l:\n",
    "                pass\n",
    "            else:\n",
    "                os.remove(l)\n",
    "        send_mail(i)\n",
    "        os.chdir('..\\\\')\n",
    "    \n",
    "    return\n",
    "        \n",
    "def send_mail():\n",
    "    send = []\n",
    "    for i in clients.index:\n",
    "        for j in next(os.walk('.'))[1]:\n",
    "            if clients.Nombre.loc[i] in j:\n",
    "                c_name = clients.Nombre.loc[i]\n",
    "                c_email = clients.Email.loc[i]\n",
    "                folder = j\n",
    "                msg = MIMEMultipart()\n",
    "                msg['Subject'] = 'Ultrasound Imagery'\n",
    "                msg['From'] = 'fapb88ve@gmail.com'\n",
    "                msg['To'] = c_email\n",
    "                txt = \"\"\"Hello {}! \n",
    "                \\nThese are the pictures from your session.\n",
    "                \\nShare your experience and enjoy a 15% discount on your next visit. \n",
    "                \\nClick here to reedem: https://goo.gl/rC3z9H\n",
    "            \n",
    "                \\nWish you all the best! Come back soon :)\n",
    " \n",
    "                \\nThanks\n",
    "                \\nPancita’s Team\n",
    "                \\nwww.pancitas.com\n",
    "                \\n(305) 542-9931\"\"\"\n",
    "                text = MIMEText(txt.format(c_name))\n",
    "                \n",
    "                msg.attach(text)\n",
    "                os.chdir('.\\\\'+folder)\n",
    "                files = os.listdir(os.getcwd())\n",
    "                for l in files:\n",
    "                    if 'mp4' in l:\n",
    "                        part = MIMEBase('application', \"octet-stream\")\n",
    "                        fo=open(l,\"rb\")\n",
    "                        part.set_payload(fo.read() )\n",
    "                        Encoders.encode_base64(part)\n",
    "                        part.add_header('Content-Disposition', 'attachment; filename=\"%s\"' % os.path.basename(l))\n",
    "                        msg.attach(part)\n",
    "                    if 'JPG' in l:\n",
    "                        img_data = open(l, 'rb').read()\n",
    "                        image = MIMEImage(img_data, name=os.path.basename(l))\n",
    "                        msg.attach(image)\n",
    "                s = smtplib.SMTP('smtp.gmail.com', 587)\n",
    "                s.ehlo()\n",
    "                s.starttls()\n",
    "                s.login('fapb88ve@gmail.com', 'rabbitrun88ve')\n",
    "                s.sendmail('fapb88ve@gmail.com', c_email, msg.as_string())\n",
    "                s.quit()\n",
    "                os.chdir('..')\n"
   ]
  },
  {
   "cell_type": "code",
   "execution_count": 2,
   "metadata": {
    "collapsed": false
   },
   "outputs": [
    {
     "name": "stdout",
     "output_type": "stream",
     "text": [
      "[MoviePy] >>>> Building video Pancitas ABA DUENAS_0002.MPG.mp4\n",
      "[MoviePy] Writing video Pancitas ABA DUENAS_0002.MPG.mp4\n"
     ]
    },
    {
     "name": "stderr",
     "output_type": "stream",
     "text": [
      "100%|██████████████████████████████████████████████████████████████████████████████████| 25/25 [00:00<00:00, 37.55it/s]\n"
     ]
    },
    {
     "name": "stdout",
     "output_type": "stream",
     "text": [
      "[MoviePy] Done.\n",
      "[MoviePy] >>>> Video ready: Pancitas ABA DUENAS_0002.MPG.mp4 \n",
      "\n",
      "[MoviePy] >>>> Building video Pancitas ABA DUENAS_0003.MPG.mp4\n",
      "[MoviePy] Writing video Pancitas ABA DUENAS_0003.MPG.mp4\n"
     ]
    },
    {
     "name": "stderr",
     "output_type": "stream",
     "text": [
      "100%|██████████████████████████████████████████████████████████████████████████████████| 40/40 [00:00<00:00, 48.93it/s]\n"
     ]
    },
    {
     "name": "stdout",
     "output_type": "stream",
     "text": [
      "[MoviePy] Done.\n",
      "[MoviePy] >>>> Video ready: Pancitas ABA DUENAS_0003.MPG.mp4 \n",
      "\n",
      "[MoviePy] >>>> Building video Pancitas ABA DUENAS_0016.AVI.mp4\n",
      "[MoviePy] Writing video Pancitas ABA DUENAS_0016.AVI.mp4\n"
     ]
    },
    {
     "name": "stderr",
     "output_type": "stream",
     "text": [
      " 98%|████████████████████████████████████████████████████████████████████████████████▏ | 45/46 [00:00<00:00, 89.05it/s]\n"
     ]
    },
    {
     "name": "stdout",
     "output_type": "stream",
     "text": [
      "[MoviePy] Done.\n",
      "[MoviePy] >>>> Video ready: Pancitas ABA DUENAS_0016.AVI.mp4 \n",
      "\n",
      "[MoviePy] >>>> Building video Pancitas ABA DUENAS_0023.AVI.mp4\n",
      "[MoviePy] Writing video Pancitas ABA DUENAS_0023.AVI.mp4\n"
     ]
    },
    {
     "name": "stderr",
     "output_type": "stream",
     "text": [
      "100%|██████████████████████████████████████████████████████████████████████████████████| 36/36 [00:00<00:00, 69.59it/s]\n"
     ]
    },
    {
     "name": "stdout",
     "output_type": "stream",
     "text": [
      "[MoviePy] Done.\n",
      "[MoviePy] >>>> Video ready: Pancitas ABA DUENAS_0023.AVI.mp4 \n",
      "\n",
      "[MoviePy] >>>> Building video Pancitas ABA DUENAS_0024 (1).AVI.mp4\n",
      "[MoviePy] Writing video Pancitas ABA DUENAS_0024 (1).AVI.mp4\n"
     ]
    },
    {
     "name": "stderr",
     "output_type": "stream",
     "text": [
      "100%|██████████████████████████████████████████████████████████████████████████████████| 46/46 [00:00<00:00, 79.67it/s]\n"
     ]
    },
    {
     "name": "stdout",
     "output_type": "stream",
     "text": [
      "[MoviePy] Done.\n",
      "[MoviePy] >>>> Video ready: Pancitas ABA DUENAS_0024 (1).AVI.mp4 \n",
      "\n",
      "[MoviePy] >>>> Building video Pancitas ABA DUENAS_0024.AVI.mp4\n",
      "[MoviePy] Writing video Pancitas ABA DUENAS_0024.AVI.mp4\n"
     ]
    },
    {
     "name": "stderr",
     "output_type": "stream",
     "text": [
      "100%|██████████████████████████████████████████████████████████████████████████████████| 36/36 [00:00<00:00, 75.62it/s]\n"
     ]
    },
    {
     "name": "stdout",
     "output_type": "stream",
     "text": [
      "[MoviePy] Done.\n",
      "[MoviePy] >>>> Video ready: Pancitas ABA DUENAS_0024.AVI.mp4 \n",
      "\n",
      "[MoviePy] >>>> Building video Pancitas ABA DUENAS_0026.AVI.mp4\n",
      "[MoviePy] Writing video Pancitas ABA DUENAS_0026.AVI.mp4\n"
     ]
    },
    {
     "name": "stderr",
     "output_type": "stream",
     "text": [
      "100%|██████████████████████████████████████████████████████████████████████████████████| 33/33 [00:00<00:00, 84.56it/s]\n"
     ]
    },
    {
     "name": "stdout",
     "output_type": "stream",
     "text": [
      "[MoviePy] Done.\n",
      "[MoviePy] >>>> Video ready: Pancitas ABA DUENAS_0026.AVI.mp4 \n",
      "\n",
      "[MoviePy] >>>> Building video Pancitas ABA DUENAS_0029.AVI.mp4\n",
      "[MoviePy] Writing video Pancitas ABA DUENAS_0029.AVI.mp4\n"
     ]
    },
    {
     "name": "stderr",
     "output_type": "stream",
     "text": [
      "100%|██████████████████████████████████████████████████████████████████████████████████| 43/43 [00:00<00:00, 83.12it/s]\n"
     ]
    },
    {
     "name": "stdout",
     "output_type": "stream",
     "text": [
      "[MoviePy] Done.\n",
      "[MoviePy] >>>> Video ready: Pancitas ABA DUENAS_0029.AVI.mp4 \n",
      "\n",
      "[MoviePy] >>>> Building video Pancitas ABA DUENAS_0036.MPG.mp4\n",
      "[MoviePy] Writing video Pancitas ABA DUENAS_0036.MPG.mp4\n"
     ]
    },
    {
     "name": "stderr",
     "output_type": "stream",
     "text": [
      "100%|██████████████████████████████████████████████████████████████████████████████████| 21/21 [00:00<00:00, 78.31it/s]\n"
     ]
    },
    {
     "name": "stdout",
     "output_type": "stream",
     "text": [
      "[MoviePy] Done.\n",
      "[MoviePy] >>>> Video ready: Pancitas ABA DUENAS_0036.MPG.mp4 \n",
      "\n",
      "[MoviePy] >>>> Building video Pancitas ABA DUENAS_0037.AVI.mp4\n",
      "[MoviePy] Writing video Pancitas ABA DUENAS_0037.AVI.mp4\n"
     ]
    },
    {
     "name": "stderr",
     "output_type": "stream",
     "text": [
      "100%|██████████████████████████████████████████████████████████████████████████████████| 36/36 [00:00<00:00, 56.21it/s]\n"
     ]
    },
    {
     "name": "stdout",
     "output_type": "stream",
     "text": [
      "[MoviePy] Done.\n",
      "[MoviePy] >>>> Video ready: Pancitas ABA DUENAS_0037.AVI.mp4 \n",
      "\n",
      "[MoviePy] >>>> Building video Pancitas ABA DUENAS_0039.MPG.mp4\n",
      "[MoviePy] Writing video Pancitas ABA DUENAS_0039.MPG.mp4\n"
     ]
    },
    {
     "name": "stderr",
     "output_type": "stream",
     "text": [
      "100%|██████████████████████████████████████████████████████████████████████████████████| 21/21 [00:00<00:00, 72.85it/s]\n"
     ]
    },
    {
     "name": "stdout",
     "output_type": "stream",
     "text": [
      "[MoviePy] Done.\n",
      "[MoviePy] >>>> Video ready: Pancitas ABA DUENAS_0039.MPG.mp4 \n",
      "\n",
      "[MoviePy] >>>> Building video Pancitas ABA DUENAS_0046.AVI.mp4\n",
      "[MoviePy] Writing video Pancitas ABA DUENAS_0046.AVI.mp4\n"
     ]
    },
    {
     "name": "stderr",
     "output_type": "stream",
     "text": [
      " 97%|███████████████████████████████████████████████████████████████████████████████▌  | 33/34 [00:00<00:00, 24.99it/s]\n"
     ]
    },
    {
     "name": "stdout",
     "output_type": "stream",
     "text": [
      "[MoviePy] Done.\n",
      "[MoviePy] >>>> Video ready: Pancitas ABA DUENAS_0046.AVI.mp4 \n",
      "\n",
      "[MoviePy] >>>> Building video Pancitas ABA DUENAS_0065.MPG.mp4\n",
      "[MoviePy] Writing video Pancitas ABA DUENAS_0065.MPG.mp4\n"
     ]
    },
    {
     "name": "stderr",
     "output_type": "stream",
     "text": [
      "100%|██████████████████████████████████████████████████████████████████████████████████| 34/34 [00:00<00:00, 75.01it/s]\n"
     ]
    },
    {
     "name": "stdout",
     "output_type": "stream",
     "text": [
      "[MoviePy] Done.\n",
      "[MoviePy] >>>> Video ready: Pancitas ABA DUENAS_0065.MPG.mp4 \n",
      "\n",
      "[MoviePy] >>>> Building video Pancitas ABA DUENAS_0066.MPG.mp4\n",
      "[MoviePy] Writing video Pancitas ABA DUENAS_0066.MPG.mp4\n"
     ]
    },
    {
     "name": "stderr",
     "output_type": "stream",
     "text": [
      " 95%|██████████████████████████████████████████████████████████████████████████████▎   | 21/22 [00:00<00:00, 57.21it/s]\n"
     ]
    },
    {
     "name": "stdout",
     "output_type": "stream",
     "text": [
      "[MoviePy] Done.\n",
      "[MoviePy] >>>> Video ready: Pancitas ABA DUENAS_0066.MPG.mp4 \n",
      "\n",
      "[MoviePy] >>>> Building video Pancitas ABA DUENAS_0093.MPG.mp4\n",
      "[MoviePy] Writing video Pancitas ABA DUENAS_0093.MPG.mp4\n"
     ]
    },
    {
     "name": "stderr",
     "output_type": "stream",
     "text": [
      " 96%|███████████████████████████████████████████████████████████████████████████████   | 27/28 [00:00<00:00, 68.48it/s]\n"
     ]
    },
    {
     "name": "stdout",
     "output_type": "stream",
     "text": [
      "[MoviePy] Done.\n",
      "[MoviePy] >>>> Video ready: Pancitas ABA DUENAS_0093.MPG.mp4 \n",
      "\n",
      "C:\\Users\\Frank Pinto\\desktop\\pds\\Pancitas\\Code\\Clients\n"
     ]
    }
   ],
   "source": [
    "def full():\n",
    "    global sup\n",
    "    #sup = input()\n",
    "    #os.chdir('.\\\\Logo')\n",
    "    \n",
    "    global logo, plogo, plogow, plogoh, client, metadata, logo_path\n",
    "    logo_path = os.path.abspath('.\\\\Logo\\\\pancita4.png')\n",
    "    client = dropbox.client.DropboxClient(\n",
    "        'IS-424yqxy8AAAAAAAAVLOUS9urGIH4kCxP_5Q6hxdz-WrhGMYKa-9MjMZrpwMYZ')\n",
    "    metadata = client.metadata('/')\n",
    "    #logo = ImageClip(\"pancita4.png\")\n",
    "    #plogo = Image.open(\"pancita4.png\")\n",
    "    #plogow, plogoh = plogo.size\n",
    "    #plogo = plogo.resize((int(plogow * .1), int(plogoh * .1)))\n",
    "    #plogow, plogoh = plogo.size\n",
    "    #os.chdir('..')\n",
    "    # Time Function\n",
    "    d_files = files()\n",
    "    global clients\n",
    "    clients = pd.read_excel('Registro de Clientes.xlsx')\n",
    "    send_f = pd.merge(d_files, clients, left_on='c_name', right_on='Nombre',\n",
    "                      how='inner')\n",
    "    dl_files(send_f)\n",
    "    send_mail()\n",
    "\n",
    "if os.getcwd() != 'C:\\\\Users\\\\Frank Pinto\\\\desktop\\\\pds\\\\Pancitas\\\\Code':\n",
    "    os.chdir('C:\\\\Users\\\\Frank Pinto\\\\desktop\\\\pds\\\\Pancitas\\\\Code')\n",
    "full()\n",
    "print(os.getcwd())\n",
    "#os.chdir('..')"
   ]
  },
  {
   "cell_type": "code",
   "execution_count": 7,
   "metadata": {
    "collapsed": false
   },
   "outputs": [
    {
     "data": {
      "text/plain": [
       "4"
      ]
     },
     "execution_count": 7,
     "metadata": {},
     "output_type": "execute_result"
    }
   ],
   "source": [
    "math.ceil(3.4)"
   ]
  },
  {
   "cell_type": "markdown",
   "metadata": {},
   "source": [
    "## Re-Writing the email function"
   ]
  },
  {
   "cell_type": "code",
   "execution_count": 18,
   "metadata": {
    "collapsed": false
   },
   "outputs": [
    {
     "name": "stderr",
     "output_type": "stream",
     "text": [
      "WARNING:py.warnings:C:\\ProgramData\\Anaconda3\\lib\\site-packages\\ipykernel\\__main__.py:93: DeprecationWarning: You are using a deprecated client. Please use the new v2 client located at dropbox.Dropbox.\n",
      "\n"
     ]
    },
    {
     "name": "stdout",
     "output_type": "stream",
     "text": [
      "[MoviePy] >>>> Building video Pancitas CARLA TAVARES 39_0000.MPG.mp4\n",
      "[MoviePy] Writing video Pancitas CARLA TAVARES 39_0000.MPG.mp4\n"
     ]
    },
    {
     "name": "stderr",
     "output_type": "stream",
     "text": [
      "100%|██████████| 1475/1475 [00:21<00:00, 70.15it/s]\n"
     ]
    },
    {
     "name": "stdout",
     "output_type": "stream",
     "text": [
      "[MoviePy] Done.\n",
      "[MoviePy] >>>> Video ready: Pancitas CARLA TAVARES 39_0000.MPG.mp4 \n",
      "\n",
      "[MoviePy] >>>> Building video Pancitas CARLA TAVARES 39_0001.MPG.mp4\n",
      "[MoviePy] Writing video Pancitas CARLA TAVARES 39_0001.MPG.mp4\n"
     ]
    },
    {
     "name": "stderr",
     "output_type": "stream",
     "text": [
      "100%|██████████| 429/429 [00:06<00:00, 66.11it/s]\n"
     ]
    },
    {
     "name": "stdout",
     "output_type": "stream",
     "text": [
      "[MoviePy] Done.\n",
      "[MoviePy] >>>> Video ready: Pancitas CARLA TAVARES 39_0001.MPG.mp4 \n",
      "\n",
      "[MoviePy] >>>> Building video Pancitas CARLA TAVARES 39_0007.MPG.mp4\n",
      "[MoviePy] Writing video Pancitas CARLA TAVARES 39_0007.MPG.mp4\n"
     ]
    },
    {
     "name": "stderr",
     "output_type": "stream",
     "text": [
      "100%|██████████| 931/931 [00:18<00:00, 49.04it/s]\n"
     ]
    },
    {
     "name": "stdout",
     "output_type": "stream",
     "text": [
      "[MoviePy] Done.\n",
      "[MoviePy] >>>> Video ready: Pancitas CARLA TAVARES 39_0007.MPG.mp4 \n",
      "\n",
      "[MoviePy] >>>> Building video Pancitas CARLA TAVARES 39_0009.MPG.mp4\n",
      "[MoviePy] Writing video Pancitas CARLA TAVARES 39_0009.MPG.mp4\n"
     ]
    },
    {
     "name": "stderr",
     "output_type": "stream",
     "text": [
      "100%|██████████| 319/319 [00:06<00:00, 47.90it/s]\n"
     ]
    },
    {
     "name": "stdout",
     "output_type": "stream",
     "text": [
      "[MoviePy] Done.\n",
      "[MoviePy] >>>> Video ready: Pancitas CARLA TAVARES 39_0009.MPG.mp4 \n",
      "\n",
      "[MoviePy] >>>> Building video Pancitas CARLA TAVARES 39_0010.MPG.mp4\n",
      "[MoviePy] Writing video Pancitas CARLA TAVARES 39_0010.MPG.mp4\n"
     ]
    },
    {
     "name": "stderr",
     "output_type": "stream",
     "text": [
      "100%|█████████▉| 1461/1463 [00:25<00:00, 41.67it/s]WARNING:py.warnings:C:\\ProgramData\\Anaconda3\\lib\\site-packages\\moviepy\\video\\io\\ffmpeg_reader.py:132: UserWarning: Warning: in file CARLA TAVARES 39_0010.MPG, 921600 bytes wanted but 0 bytes read,at frame 1462/1463, at time 60.92/60.92 sec. Using the last valid frame instead.\n",
      "  UserWarning)\n",
      "\n",
      "100%|██████████| 1463/1463 [00:25<00:00, 57.65it/s]\n"
     ]
    },
    {
     "name": "stdout",
     "output_type": "stream",
     "text": [
      "[MoviePy] Done.\n",
      "[MoviePy] >>>> Video ready: Pancitas CARLA TAVARES 39_0010.MPG.mp4 \n",
      "\n",
      "[MoviePy] >>>> Building video Pancitas CARLA TAVARES 39_0012.MPG.mp4\n",
      "[MoviePy] Writing video Pancitas CARLA TAVARES 39_0012.MPG.mp4\n"
     ]
    },
    {
     "name": "stderr",
     "output_type": "stream",
     "text": [
      " 98%|█████████▊| 127/129 [00:02<00:00, 60.01it/s]WARNING:py.warnings:C:\\ProgramData\\Anaconda3\\lib\\site-packages\\moviepy\\video\\io\\ffmpeg_reader.py:132: UserWarning: Warning: in file CARLA TAVARES 39_0012.MPG, 921600 bytes wanted but 0 bytes read,at frame 128/129, at time 42.67/42.67 sec. Using the last valid frame instead.\n",
      "  UserWarning)\n",
      "\n",
      "100%|██████████| 129/129 [00:02<00:00, 60.37it/s]\n"
     ]
    },
    {
     "name": "stdout",
     "output_type": "stream",
     "text": [
      "[MoviePy] Done.\n",
      "[MoviePy] >>>> Video ready: Pancitas CARLA TAVARES 39_0012.MPG.mp4 \n",
      "\n",
      "[MoviePy] >>>> Building video Pancitas CARLA TAVARES 39_0015.MPG.mp4\n",
      "[MoviePy] Writing video Pancitas CARLA TAVARES 39_0015.MPG.mp4\n"
     ]
    },
    {
     "name": "stderr",
     "output_type": "stream",
     "text": [
      "100%|█████████▉| 453/454 [00:09<00:00, 52.59it/s]WARNING:py.warnings:C:\\ProgramData\\Anaconda3\\lib\\site-packages\\moviepy\\video\\io\\ffmpeg_reader.py:132: UserWarning: Warning: in file CARLA TAVARES 39_0015.MPG, 921600 bytes wanted but 0 bytes read,at frame 453/454, at time 16.78/16.78 sec. Using the last valid frame instead.\n",
      "  UserWarning)\n",
      "\n",
      "100%|██████████| 454/454 [00:10<00:00, 45.33it/s]\n"
     ]
    },
    {
     "name": "stdout",
     "output_type": "stream",
     "text": [
      "[MoviePy] Done.\n",
      "[MoviePy] >>>> Video ready: Pancitas CARLA TAVARES 39_0015.MPG.mp4 \n",
      "\n",
      "[MoviePy] >>>> Building video Pancitas CARLA TAVARES 39_0016.MPG.mp4\n",
      "[MoviePy] Writing video Pancitas CARLA TAVARES 39_0016.MPG.mp4\n"
     ]
    },
    {
     "name": "stderr",
     "output_type": "stream",
     "text": [
      "100%|██████████| 647/647 [00:10<00:00, 64.68it/s]\n"
     ]
    },
    {
     "name": "stdout",
     "output_type": "stream",
     "text": [
      "[MoviePy] Done.\n",
      "[MoviePy] >>>> Video ready: Pancitas CARLA TAVARES 39_0016.MPG.mp4 \n",
      "\n",
      "[MoviePy] >>>> Building video Pancitas CARLA TAVARES 39_0017.MPG.mp4\n",
      "[MoviePy] Writing video Pancitas CARLA TAVARES 39_0017.MPG.mp4\n"
     ]
    },
    {
     "name": "stderr",
     "output_type": "stream",
     "text": [
      " 99%|█████████▉| 439/444 [00:07<00:00, 58.94it/s]WARNING:py.warnings:C:\\ProgramData\\Anaconda3\\lib\\site-packages\\moviepy\\video\\io\\ffmpeg_reader.py:132: UserWarning: Warning: in file CARLA TAVARES 39_0017.MPG, 921600 bytes wanted but 0 bytes read,at frame 443/444, at time 16.41/16.41 sec. Using the last valid frame instead.\n",
      "  UserWarning)\n",
      "\n",
      "100%|██████████| 444/444 [00:07<00:00, 56.21it/s]\n"
     ]
    },
    {
     "name": "stdout",
     "output_type": "stream",
     "text": [
      "[MoviePy] Done.\n",
      "[MoviePy] >>>> Video ready: Pancitas CARLA TAVARES 39_0017.MPG.mp4 \n",
      "\n",
      "[MoviePy] >>>> Building video Pancitas CARLA TAVARES 39_0019.MPG.mp4\n",
      "[MoviePy] Writing video Pancitas CARLA TAVARES 39_0019.MPG.mp4\n"
     ]
    },
    {
     "name": "stderr",
     "output_type": "stream",
     "text": [
      " 96%|█████████▋| 55/57 [00:00<00:00, 71.49it/s]WARNING:py.warnings:C:\\ProgramData\\Anaconda3\\lib\\site-packages\\moviepy\\video\\io\\ffmpeg_reader.py:132: UserWarning: Warning: in file CARLA TAVARES 39_0019.MPG, 921600 bytes wanted but 0 bytes read,at frame 56/57, at time 18.67/18.67 sec. Using the last valid frame instead.\n",
      "  UserWarning)\n",
      "\n",
      "100%|██████████| 57/57 [00:00<00:00, 76.87it/s]\n"
     ]
    },
    {
     "name": "stdout",
     "output_type": "stream",
     "text": [
      "[MoviePy] Done.\n",
      "[MoviePy] >>>> Video ready: Pancitas CARLA TAVARES 39_0019.MPG.mp4 \n",
      "\n",
      "[MoviePy] >>>> Building video Pancitas CARLA TAVARES 39_0020.MPG.mp4\n",
      "[MoviePy] Writing video Pancitas CARLA TAVARES 39_0020.MPG.mp4\n"
     ]
    },
    {
     "name": "stderr",
     "output_type": "stream",
     "text": [
      " 99%|█████████▉| 1063/1069 [00:16<00:00, 65.81it/s]WARNING:py.warnings:C:\\ProgramData\\Anaconda3\\lib\\site-packages\\moviepy\\video\\io\\ffmpeg_reader.py:132: UserWarning: Warning: in file CARLA TAVARES 39_0020.MPG, 921600 bytes wanted but 0 bytes read,at frame 1068/1069, at time 39.56/39.56 sec. Using the last valid frame instead.\n",
      "  UserWarning)\n",
      "\n",
      "100%|██████████| 1069/1069 [00:16<00:00, 65.27it/s]\n"
     ]
    },
    {
     "name": "stdout",
     "output_type": "stream",
     "text": [
      "[MoviePy] Done.\n",
      "[MoviePy] >>>> Video ready: Pancitas CARLA TAVARES 39_0020.MPG.mp4 \n",
      "\n",
      "[MoviePy] >>>> Building video Pancitas CARLA TAVARES 39_0021.MPG.mp4\n",
      "[MoviePy] Writing video Pancitas CARLA TAVARES 39_0021.MPG.mp4\n"
     ]
    },
    {
     "name": "stderr",
     "output_type": "stream",
     "text": [
      "100%|██████████| 488/488 [00:07<00:00, 67.50it/s]\n"
     ]
    },
    {
     "name": "stdout",
     "output_type": "stream",
     "text": [
      "[MoviePy] Done.\n",
      "[MoviePy] >>>> Video ready: Pancitas CARLA TAVARES 39_0021.MPG.mp4 \n",
      "\n",
      "[MoviePy] >>>> Building video Pancitas CARLA TAVARES 39_0022.MPG.mp4\n",
      "[MoviePy] Writing video Pancitas CARLA TAVARES 39_0022.MPG.mp4\n"
     ]
    },
    {
     "name": "stderr",
     "output_type": "stream",
     "text": [
      "100%|██████████| 22/22 [00:00<00:00, 80.09it/s]\n"
     ]
    },
    {
     "name": "stdout",
     "output_type": "stream",
     "text": [
      "[MoviePy] Done.\n",
      "[MoviePy] >>>> Video ready: Pancitas CARLA TAVARES 39_0022.MPG.mp4 \n",
      "\n",
      "[MoviePy] >>>> Building video Pancitas CARLA TAVARES 39_0023.MPG.mp4\n",
      "[MoviePy] Writing video Pancitas CARLA TAVARES 39_0023.MPG.mp4\n"
     ]
    },
    {
     "name": "stderr",
     "output_type": "stream",
     "text": [
      "100%|██████████| 22/22 [00:00<00:00, 74.26it/s]\n"
     ]
    },
    {
     "name": "stdout",
     "output_type": "stream",
     "text": [
      "[MoviePy] Done.\n",
      "[MoviePy] >>>> Video ready: Pancitas CARLA TAVARES 39_0023.MPG.mp4 \n",
      "\n",
      "[MoviePy] >>>> Building video Pancitas CARLA TAVARES 39_0029.MPG.mp4\n",
      "[MoviePy] Writing video Pancitas CARLA TAVARES 39_0029.MPG.mp4\n"
     ]
    },
    {
     "name": "stderr",
     "output_type": "stream",
     "text": [
      " 98%|█████████▊| 62/63 [00:00<00:00, 68.60it/s]WARNING:py.warnings:C:\\ProgramData\\Anaconda3\\lib\\site-packages\\moviepy\\video\\io\\ffmpeg_reader.py:132: UserWarning: Warning: in file CARLA TAVARES 39_0029.MPG, 921600 bytes wanted but 0 bytes read,at frame 62/63, at time 20.67/20.67 sec. Using the last valid frame instead.\n",
      "  UserWarning)\n",
      "\n",
      "100%|██████████| 63/63 [00:00<00:00, 75.57it/s]\n"
     ]
    },
    {
     "name": "stdout",
     "output_type": "stream",
     "text": [
      "[MoviePy] Done.\n",
      "[MoviePy] >>>> Video ready: Pancitas CARLA TAVARES 39_0029.MPG.mp4 \n",
      "\n",
      "[MoviePy] >>>> Building video Pancitas CARLA TAVARES 39_0033.MPG.mp4\n",
      "[MoviePy] Writing video Pancitas CARLA TAVARES 39_0033.MPG.mp4\n"
     ]
    },
    {
     "name": "stderr",
     "output_type": "stream",
     "text": [
      "100%|██████████| 1180/1180 [00:25<00:00, 45.42it/s]\n"
     ]
    },
    {
     "name": "stdout",
     "output_type": "stream",
     "text": [
      "[MoviePy] Done.\n",
      "[MoviePy] >>>> Video ready: Pancitas CARLA TAVARES 39_0033.MPG.mp4 \n",
      "\n"
     ]
    },
    {
     "ename": "NameError",
     "evalue": "name 'vcalzadillag' is not defined",
     "output_type": "error",
     "traceback": [
      "\u001b[0;31m---------------------------------------------------------------------------\u001b[0m",
      "\u001b[0;31mSMTPSenderRefused\u001b[0m                         Traceback (most recent call last)",
      "\u001b[0;32m<ipython-input-18-daa7dde88014>\u001b[0m in \u001b[0;36msend_mail\u001b[0;34m()\u001b[0m\n\u001b[1;32m     76\u001b[0m                     \u001b[1;32mtry\u001b[0m\u001b[1;33m:\u001b[0m\u001b[1;33m\u001b[0m\u001b[0m\n\u001b[0;32m---> 77\u001b[0;31m                         \u001b[0ms\u001b[0m\u001b[1;33m.\u001b[0m\u001b[0msendmail\u001b[0m\u001b[1;33m(\u001b[0m\u001b[1;34m'fapb88ve@gmail.com'\u001b[0m\u001b[1;33m,\u001b[0m \u001b[0mc_email\u001b[0m\u001b[1;33m,\u001b[0m \u001b[0mmsg\u001b[0m\u001b[1;33m.\u001b[0m\u001b[0mas_string\u001b[0m\u001b[1;33m(\u001b[0m\u001b[1;33m)\u001b[0m\u001b[1;33m)\u001b[0m\u001b[1;33m\u001b[0m\u001b[0m\n\u001b[0m\u001b[1;32m     78\u001b[0m                     \u001b[1;32mexcept\u001b[0m\u001b[1;33m:\u001b[0m\u001b[1;33m\u001b[0m\u001b[0m\n",
      "\u001b[0;32mC:\\ProgramData\\Anaconda3\\lib\\smtplib.py\u001b[0m in \u001b[0;36msendmail\u001b[0;34m(self, from_addr, to_addrs, msg, mail_options, rcpt_options)\u001b[0m\n\u001b[1;32m    865\u001b[0m                 \u001b[0mself\u001b[0m\u001b[1;33m.\u001b[0m\u001b[0m_rset\u001b[0m\u001b[1;33m(\u001b[0m\u001b[1;33m)\u001b[0m\u001b[1;33m\u001b[0m\u001b[0m\n\u001b[0;32m--> 866\u001b[0;31m             \u001b[1;32mraise\u001b[0m \u001b[0mSMTPSenderRefused\u001b[0m\u001b[1;33m(\u001b[0m\u001b[0mcode\u001b[0m\u001b[1;33m,\u001b[0m \u001b[0mresp\u001b[0m\u001b[1;33m,\u001b[0m \u001b[0mfrom_addr\u001b[0m\u001b[1;33m)\u001b[0m\u001b[1;33m\u001b[0m\u001b[0m\n\u001b[0m\u001b[1;32m    867\u001b[0m         \u001b[0msenderrs\u001b[0m \u001b[1;33m=\u001b[0m \u001b[1;33m{\u001b[0m\u001b[1;33m}\u001b[0m\u001b[1;33m\u001b[0m\u001b[0m\n",
      "\u001b[0;31mSMTPSenderRefused\u001b[0m: (552, b\"5.2.3 Your message exceeded Google's message size limits. Please visit\\n5.2.3  https://support.google.com/mail/?p=MaxSizeError to view our size\\n5.2.3 guidelines. z53sm16181829qth.43 - gsmtp\", 'fapb88ve@gmail.com')",
      "\nDuring handling of the above exception, another exception occurred:\n",
      "\u001b[0;31mNameError\u001b[0m                                 Traceback (most recent call last)",
      "\u001b[0;32m<ipython-input-18-daa7dde88014>\u001b[0m in \u001b[0;36m<module>\u001b[0;34m()\u001b[0m\n\u001b[1;32m    105\u001b[0m \u001b[1;32mif\u001b[0m \u001b[0mos\u001b[0m\u001b[1;33m.\u001b[0m\u001b[0mgetcwd\u001b[0m\u001b[1;33m(\u001b[0m\u001b[1;33m)\u001b[0m \u001b[1;33m!=\u001b[0m \u001b[1;34m'C:\\\\Users\\\\Frank Pinto\\\\desktop\\\\pds\\\\Pancitas\\\\Code'\u001b[0m\u001b[1;33m:\u001b[0m\u001b[1;33m\u001b[0m\u001b[0m\n\u001b[1;32m    106\u001b[0m     \u001b[0mos\u001b[0m\u001b[1;33m.\u001b[0m\u001b[0mchdir\u001b[0m\u001b[1;33m(\u001b[0m\u001b[1;34m'C:\\\\Users\\\\Frank Pinto\\\\desktop\\\\pds\\\\Pancitas\\\\Code'\u001b[0m\u001b[1;33m)\u001b[0m\u001b[1;33m\u001b[0m\u001b[0m\n\u001b[0;32m--> 107\u001b[0;31m \u001b[0mfull\u001b[0m\u001b[1;33m(\u001b[0m\u001b[1;33m)\u001b[0m\u001b[1;33m\u001b[0m\u001b[0m\n\u001b[0m\u001b[1;32m    108\u001b[0m \u001b[0mprint\u001b[0m\u001b[1;33m(\u001b[0m\u001b[0mos\u001b[0m\u001b[1;33m.\u001b[0m\u001b[0mgetcwd\u001b[0m\u001b[1;33m(\u001b[0m\u001b[1;33m)\u001b[0m\u001b[1;33m)\u001b[0m\u001b[1;33m\u001b[0m\u001b[0m\n\u001b[1;32m    109\u001b[0m \u001b[1;31m#os.chdir('..')\u001b[0m\u001b[1;33m\u001b[0m\u001b[1;33m\u001b[0m\u001b[0m\n",
      "\u001b[0;32m<ipython-input-18-daa7dde88014>\u001b[0m in \u001b[0;36mfull\u001b[0;34m()\u001b[0m\n\u001b[1;32m    100\u001b[0m                       how='inner')\n\u001b[1;32m    101\u001b[0m     \u001b[0mdl_files\u001b[0m\u001b[1;33m(\u001b[0m\u001b[0msend_f\u001b[0m\u001b[1;33m)\u001b[0m\u001b[1;33m\u001b[0m\u001b[0m\n\u001b[0;32m--> 102\u001b[0;31m     \u001b[0msend_mail\u001b[0m\u001b[1;33m(\u001b[0m\u001b[1;33m)\u001b[0m\u001b[1;33m\u001b[0m\u001b[0m\n\u001b[0m\u001b[1;32m    103\u001b[0m     \u001b[1;32mreturn\u001b[0m \u001b[0msend_f\u001b[0m\u001b[1;33m\u001b[0m\u001b[0m\n\u001b[1;32m    104\u001b[0m \u001b[1;33m\u001b[0m\u001b[0m\n",
      "\u001b[0;32m<ipython-input-18-daa7dde88014>\u001b[0m in \u001b[0;36msend_mail\u001b[0;34m()\u001b[0m\n\u001b[1;32m     77\u001b[0m                         \u001b[0ms\u001b[0m\u001b[1;33m.\u001b[0m\u001b[0msendmail\u001b[0m\u001b[1;33m(\u001b[0m\u001b[1;34m'fapb88ve@gmail.com'\u001b[0m\u001b[1;33m,\u001b[0m \u001b[0mc_email\u001b[0m\u001b[1;33m,\u001b[0m \u001b[0mmsg\u001b[0m\u001b[1;33m.\u001b[0m\u001b[0mas_string\u001b[0m\u001b[1;33m(\u001b[0m\u001b[1;33m)\u001b[0m\u001b[1;33m)\u001b[0m\u001b[1;33m\u001b[0m\u001b[0m\n\u001b[1;32m     78\u001b[0m                     \u001b[1;32mexcept\u001b[0m\u001b[1;33m:\u001b[0m\u001b[1;33m\u001b[0m\u001b[0m\n\u001b[0;32m---> 79\u001b[0;31m                         \u001b[0mc_email\u001b[0m \u001b[1;33m=\u001b[0m \u001b[0mvcalzadillag\u001b[0m\u001b[1;33m@\u001b[0m\u001b[0mgmail\u001b[0m\u001b[1;33m.\u001b[0m\u001b[0mcom\u001b[0m\u001b[1;33m\u001b[0m\u001b[0m\n\u001b[0m\u001b[1;32m     80\u001b[0m                         \u001b[0mmsg\u001b[0m\u001b[1;33m[\u001b[0m\u001b[1;34m'To'\u001b[0m\u001b[1;33m]\u001b[0m \u001b[1;33m=\u001b[0m \u001b[0mc_email\u001b[0m\u001b[1;33m\u001b[0m\u001b[0m\n\u001b[1;32m     81\u001b[0m                         \u001b[0ms\u001b[0m\u001b[1;33m.\u001b[0m\u001b[0msendmail\u001b[0m\u001b[1;33m(\u001b[0m\u001b[1;34m'fapb88ve@gmail.com'\u001b[0m\u001b[1;33m,\u001b[0m \u001b[0mc_email\u001b[0m\u001b[1;33m,\u001b[0m \u001b[0mmsg\u001b[0m\u001b[1;33m.\u001b[0m\u001b[0mas_string\u001b[0m\u001b[1;33m(\u001b[0m\u001b[1;33m)\u001b[0m\u001b[1;33m)\u001b[0m\u001b[1;33m\u001b[0m\u001b[0m\n",
      "\u001b[0;31mNameError\u001b[0m: name 'vcalzadillag' is not defined"
     ]
    }
   ],
   "source": [
    "def send_mail():\n",
    "    send = []\n",
    "    for i in clients.index:\n",
    "        for j in next(os.walk('.'))[1]:\n",
    "            if clients.Nombre.loc[i] in j:\n",
    "                c_name = clients.Nombre.loc[i]\n",
    "                c_email = clients.Email.loc[i]\n",
    "                folder = j\n",
    "                msg = MIMEMultipart()\n",
    "                msg['Subject'] = 'Ultrasound Imagery'\n",
    "                msg['From'] = 'fapb88ve@gmail.com'\n",
    "                msg['To'] = c_email\n",
    "                txt = \"\"\"Hello {}! \n",
    "                \\nThese are the pictures from your session.\n",
    "                \\nShare your experience and enjoy a 15% discount on your next visit. \n",
    "                \\nClick here to reedem: https://goo.gl/rC3z9H\n",
    "            \n",
    "                \\nWish you all the best! Come back soon :)\n",
    " \n",
    "                \\nThanks\n",
    "                \\nPancita’s Team\n",
    "                \\nwww.pancitas.com\n",
    "                \\n(305) 542-9931\"\"\"\n",
    "                text = MIMEText(txt.format(c_name))\n",
    "                \n",
    "                msg.attach(text)\n",
    "                os.chdir('.\\\\'+folder)\n",
    "                folder_size = round(os.path.getsize(os.getcwd()) / 10**6, 2) \n",
    "                if folder_size >= 25:\n",
    "                    files = os.listdir(os.getcwd())\n",
    "                    size = [round(os.path.getsize(z) / 10**6, 2) for z in files]\n",
    "                    df_size = pd.DataFrame({'file' : files, 'size': size})\n",
    "                    for y in df_size.index:\n",
    "                        tot_size = df_size.size.iloc[:y]\n",
    "                        if np.cumsum(tot_size) <= 25:\n",
    "                            pass\n",
    "                        else: \n",
    "                            tot_size = tot_size.iloc[: y - 1]\n",
    "                            for l in tot_size.file:\n",
    "                                if 'mp4' in l:\n",
    "                                    part = MIMEBase('application', \"octet-stream\")\n",
    "                                    fo=open(l,\"rb\")\n",
    "                                    part.set_payload(fo.read() )\n",
    "                                    Encoders.encode_base64(part)\n",
    "                                    part.add_header('Content-Disposition', 'attachment; filename=\"%s\"' % os.path.basename(l))\n",
    "                                    msg.attach(part)\n",
    "                                if 'JPG' in l:\n",
    "                                    img_data = open(l, 'rb').read()\n",
    "                                    image = MIMEImage(img_data, name=os.path.basename(l))\n",
    "                                    msg.attach(image)\n",
    "                            s = smtplib.SMTP('smtp.gmail.com', 587)\n",
    "                            s.ehlo()\n",
    "                            s.starttls()\n",
    "                            s.login('fapb88ve@gmail.com', 'rabbitrun88ve')\n",
    "                            s.sendmail('fapb88ve@gmail.com', c_email, msg.as_string())\n",
    "                            s.quit()\n",
    "                            del tot_size.iloc[: y - 1]\n",
    "                else:\n",
    "                    files = os.listdir(os.getcwd())\n",
    "                    for l in files:\n",
    "                                if 'mp4' in l:\n",
    "                                    part = MIMEBase('application', \"octet-stream\")\n",
    "                                    fo=open(l,\"rb\")\n",
    "                                    part.set_payload(fo.read() )\n",
    "                                    Encoders.encode_base64(part)\n",
    "                                    part.add_header('Content-Disposition', 'attachment; filename=\"%s\"' % os.path.basename(l))\n",
    "                                    msg.attach(part)\n",
    "                                if 'JPG' in l:\n",
    "                                    img_data = open(l, 'rb').read()\n",
    "                                    image = MIMEImage(img_data, name=os.path.basename(l))\n",
    "                                    msg.attach(image)\n",
    "                    s = smtplib.SMTP('smtp.gmail.com', 587)\n",
    "                    s.ehlo()\n",
    "                    s.starttls()\n",
    "                    s.login('fapb88ve@gmail.com', 'rabbitrun88ve')\n",
    "                    try:\n",
    "                        s.sendmail('fapb88ve@gmail.com', c_email, msg.as_string())\n",
    "                    except:\n",
    "                        c_email = vcalzadillag@gmail.com\n",
    "                        msg['To'] = c_email\n",
    "                        s.sendmail('fapb88ve@gmail.com', c_email, msg.as_string())\n",
    "                    finally:\n",
    "                        s.quit()\n",
    "                        os.chdir('..')\n",
    "                    \n",
    "def full():\n",
    "    global sup\n",
    "    #sup = input()\n",
    "    #os.chdir('.\\\\Logo')\n",
    "    \n",
    "    global logo, plogo, plogow, plogoh, client, metadata, logo_path\n",
    "    logo_path = os.path.abspath('.\\\\Logo\\\\pancita4.png')\n",
    "    client = dropbox.client.DropboxClient('IS-424yqxy8AAAAAAAAVLOUS9urGIH4kCxP_5Q6hxdz-WrhGMYKa-9MjMZrpwMYZ')\n",
    "    metadata = client.metadata('/')\n",
    "    # Time Function\n",
    "    d_files = files()\n",
    "    global clients\n",
    "    clients = pd.read_excel('Registro de Clientes.xlsx')\n",
    "    send_f = pd.merge(d_files, clients, left_on='c_name', right_on='Nombre',\n",
    "                      how='inner')\n",
    "    dl_files(send_f)\n",
    "    send_mail()\n",
    "    return send_f\n",
    "\n",
    "if os.getcwd() != 'C:\\\\Users\\\\Frank Pinto\\\\desktop\\\\pds\\\\Pancitas\\\\Code':\n",
    "    os.chdir('C:\\\\Users\\\\Frank Pinto\\\\desktop\\\\pds\\\\Pancitas\\\\Code')\n",
    "full()\n",
    "print(os.getcwd())\n",
    "#os.chdir('..')                   "
   ]
  },
  {
   "cell_type": "code",
   "execution_count": 35,
   "metadata": {
    "collapsed": false
   },
   "outputs": [
    {
     "data": {
      "text/plain": [
       "'cLsPQmsA8NAAAAAAAAKfgZLc7VY76Ia1Oilz2Gkw7vsCaO_khhFOtfHIFJcqGrqm'"
      ]
     },
     "execution_count": 35,
     "metadata": {},
     "output_type": "execute_result"
    }
   ],
   "source": [
    "access_token"
   ]
  },
  {
   "cell_type": "code",
   "execution_count": 10,
   "metadata": {
    "collapsed": false
   },
   "outputs": [
    {
     "data": {
      "text/plain": [
       "'fapb88ve@gmail.com'"
      ]
     },
     "execution_count": 10,
     "metadata": {},
     "output_type": "execute_result"
    }
   ],
   "source": [
    "clients = pd.read_excel('Registro de Clientes.xlsx')\n",
    "clients[clients.Nombre == 'Carla Tavares 39']['Email'].values[0]"
   ]
  },
  {
   "cell_type": "code",
   "execution_count": 7,
   "metadata": {
    "collapsed": false
   },
   "outputs": [],
   "source": [
    "import dropbox\n",
    "import pandas as pd\n",
    "import time\n",
    "import datetime\n",
    "import os\n",
    "from PIL import Image\n",
    "import imageio\n",
    "imageio.plugins.ffmpeg.download()\n",
    "from moviepy.editor import *\n",
    "import smtplib\n",
    "from email.mime.text import MIMEText\n",
    "from email.mime.image import MIMEImage\n",
    "from email.mime.multipart import MIMEMultipart\n",
    "import datetime\n",
    "from email.mime.base import MIMEBase\n",
    "import email.encoders as Encoders\n",
    "import math\n",
    "import numpy as np\n",
    "import re\n",
    "import timeit\n",
    "\n",
    "\n",
    "def files():\n",
    "    files = [content['path'].split('/')[-1]\n",
    "             for content in metadata['contents'] if content['is_dir'] == False]\n",
    "    size = [round(content['bytes'] / 10**6, 2)\n",
    "            for content in metadata['contents'] if content['is_dir'] == False]\n",
    "    dates = [content['modified'] for content in metadata['contents'] if content['is_dir'] == False]\n",
    "    name = [i[0:i.find('_')].lower().title() for i in files]\n",
    "    files = pd.DataFrame({'file_name': files, 'c_name': name, 'size': size, 'dates': dates})\n",
    "    files['date_mod_d'] = [time.strptime(i, \"%a, %d %b %Y %H:%M:%S %z\") for i in dates]\n",
    "    files['date_mod_d'] = [datetime.datetime(\n",
    "        *files.date_mod_d.loc[i][:6]) - datetime.timedelta(hours=4) for i in files.index]\n",
    "    files['date_mod'] = [files.loc[i].date_mod_d.date() for i in files.index]\n",
    "    files['hour_mod'] = [files.loc[i].date_mod_d.time() for i in files.index]\n",
    "    #tday = datetime.datetime.today().date()\n",
    "    #files = files[files.date_mod == tday]\n",
    "    del files['date_mod_d'], files['dates']\n",
    "    return files\n",
    "\n",
    "def watermark(x):\n",
    "    for i in x:\n",
    "        if 'AVI' in i:\n",
    "            clip = VideoFileClip(i)\n",
    "            #logo = (logo.set_duration(clip.duration)\n",
    "            #        .resize(height=80)\n",
    "            #        .margin(right=8, top=8, opacity=0)  # (optional) logo-border padding\n",
    "             #       .set_pos((\"right\", \"bottom\")))\n",
    "            logo = (ImageClip(logo_path)\n",
    "              .set_duration(clip.duration)\n",
    "              .resize(height=80)\n",
    "              .margin(right=8, top=8, opacity=0) # (optional) logo-border padding\n",
    "              .set_pos((\"right\",\"bottom\")))\n",
    "            final = CompositeVideoClip([clip, logo])\n",
    "            final.write_videofile(\"Pancitas \" + i + \".mp4\")\n",
    "        elif 'JPG' in i:\n",
    "            plogo = Image.open(logo_path)\n",
    "            plogow, plogoh = plogo.size\n",
    "            plogo = plogo.resize((int(plogow*.1), int(plogoh*.1)))\n",
    "            plogow, plogoh = plogo.size\n",
    "            pic = Image.open(i)\n",
    "            picw, pich = pic.size\n",
    "            pic.paste(plogo, (picw - plogow, pich - plogoh), plogo)\n",
    "            pic.save('Pancitas ' + i)\n",
    "        elif 'MPG' in i:\n",
    "            clip = VideoFileClip(i)\n",
    "            #logo = (logo.set_duration(clip.duration)\n",
    "            #        .resize(height=80)\n",
    "            #        .margin(right=8, top=8, opacity=0)  # (optional) logo-border padding\n",
    "             #       .set_pos((\"right\", \"bottom\")))\n",
    "            logo = (ImageClip(logo_path)\n",
    "              .set_duration(clip.duration)\n",
    "              .resize(height=80)\n",
    "              .margin(right=8, top=8, opacity=0) # (optional) logo-border padding\n",
    "              .set_pos((\"right\",\"bottom\")))\n",
    "            final = CompositeVideoClip([clip, logo])\n",
    "            final.write_videofile(\"Pancitas \" + i + \".mp4\")\n",
    "\n",
    "        else:\n",
    "            pass\n",
    "\n",
    "\n",
    "def dl_files(x):\n",
    "    #client = dropbox.client.DropboxClient(\n",
    "     #   'IS-424yqxy8AAAAAAAAVLOUS9urGIH4kCxP_5Q6hxdz-WrhGMYKa-9MjMZrpwMYZ')\n",
    "    df = pd.DataFrame(x.groupby('Nombre').Nombre.count())\n",
    "    files = x.file_name\n",
    "    os.chdir('.\\\\Clients')\n",
    "    for i in df.index:\n",
    "        c_dir = 'Pancitas Ultrasound {}'.format(i.lower().title())\n",
    "        os.mkdir(c_dir)\n",
    "        os.chdir('.\\\\' + c_dir)\n",
    "        dl_df = []\n",
    "        for k in files:\n",
    "            if i.upper() in k:\n",
    "                dl_df.append(k)\n",
    "        for j in dl_df:\n",
    "            f, metadata = client.get_file_and_metadata('/' + j)\n",
    "            out = open(j, 'wb')\n",
    "            out.write(f.read())\n",
    "            out.close()\n",
    "        watermark(dl_df)\n",
    "        for l in os.listdir(os.getcwd()):\n",
    "            if 'Pancitas' in l:\n",
    "                pass\n",
    "            else:\n",
    "                os.remove(l)\n",
    "        send_mail(i)\n",
    "        os.chdir('..\\\\')\n",
    "\n",
    "\n",
    "\n",
    "def send_mail(x):\n",
    "    name = x\n",
    "    email = clients[clients.Nombre == x]['Email'].values[0]\n",
    "    files = os.listdir(os.getcwd())\n",
    "    size = [round(os.path.getsize(i) / 10**6, 2) for i in files]\n",
    "    tot_size = sum(size)\n",
    "    df_size = pd.DataFrame({'file': files, 'size': size})\n",
    "    s = smtplib.SMTP('smtp.gmail.com', 587)\n",
    "    s.ehlo()\n",
    "    s.starttls()\n",
    "    s.login('fapb88ve@gmail.com', 'rabbitrun88ve')\n",
    "    if tot_size >= 25:\n",
    "        num_email = math.ceil(tot_size / 25)\n",
    "        ord_email = [i * 25 for i in range(num_email + 1)]\n",
    "        group_names = [i + 1 for i in range(num_email)]\n",
    "        df_size['cumsum'] = df_size['size'].cumsum()\n",
    "        df_size['send_mail'] = pd.cut(df_size['cumsum'], ord_email, labels=group_names)\n",
    "        for j in group_names:\n",
    "            chunk = df_size[df_size.send_mail == j]\n",
    "            if j == 1:\n",
    "                txt = \"\"\"\n",
    "                Hello {}!\n",
    "                \\nYou are about to receive a couple of emails with all of your imagery from your session; this will be the 1st of {}.\n",
    "                \\nShare your experience and enjoy a 15% discount on your next visit.\n",
    "                \\nClick here to reedem: https://goo.gl/rC3z9H\n",
    "\n",
    "                \\nWish you all the best! Come back soon :)\n",
    "\n",
    "                \\nThanks\n",
    "                \\nPancita’s Team\n",
    "                \\nwww.pancitas.com\n",
    "                \\n(305) 542-9931\n",
    "                \"\"\"\n",
    "                txt_mail = txt.format(name, len(group_names))\n",
    "            else:\n",
    "                txt = \"\"\"\n",
    "                Hello!\n",
    "                \\nThis is the email number {} of your imagery.\n",
    "                \\nShare your experience and enjoy a 15% discount on your next visit.\n",
    "                \\nClick here to reedem: https://goo.gl/rC3z9H\n",
    "\n",
    "                \\nWish you all the best! Come back soon :)\n",
    "\n",
    "                \\nThanks\n",
    "                \\nPancita’s Team\n",
    "                \\nwww.pancitas.com\n",
    "                \\n(305) 542-9931\n",
    "                \"\"\"\n",
    "                txt_mail = txt.format(j)\n",
    "            msg = MIMEMultipart()\n",
    "            msg['Subject'] = 'Ultrasound Imagery #{}'.format(j)\n",
    "            msg['From'] = 'fapb88ve@gmail.com'\n",
    "            msg['To'] = email\n",
    "            msg.attach(MIMEText(txt_mail))\n",
    "            for l in chunk.file:\n",
    "                print('Loading file {}'.format(l))\n",
    "                if 'mp4' in l:\n",
    "                    part = MIMEBase('application', \"octet-stream\")\n",
    "                    fo=open(l,\"rb\")\n",
    "                    part.set_payload(fo.read() )\n",
    "                    Encoders.encode_base64(part)\n",
    "                    part.add_header('Content-Disposition', 'attachment; filename=\"%s\"' % os.path.basename(l))\n",
    "                    msg.attach(part)\n",
    "                if 'JPG' in l:\n",
    "                    img_data = open(l, 'rb').read()\n",
    "                    image = MIMEImage(img_data, name=os.path.basename(l))\n",
    "                    msg.attach(image)\n",
    "            s.sendmail('fapb88ve@gmail.com', email, msg.as_string())\n",
    "\n",
    "    else:\n",
    "        txt = '''\n",
    "        Hello {}!\n",
    "        \\nHere are your imagery from today's session.\n",
    "        \\nShare your experience and enjoy a 15% discount on your next visit.\n",
    "        \\nClick here to reedem: https://goo.gl/rC3z9H\n",
    "        \\nWish you all the best! Come back soon :)\n",
    "\n",
    "        \\nThanks\n",
    "        \\nPancita’s Team\n",
    "        \\nwww.pancitas.com\n",
    "        \\n(305) 542-9931\n",
    "\n",
    "        '''\n",
    "        txt_mail = txt.format(name)\n",
    "        msg = MIMEMultipart()\n",
    "        msg['Subject'] = 'Ultrasound Imagery'\n",
    "        msg['From'] = 'fapb88ve@gmail.com'\n",
    "        msg['To'] = email\n",
    "        msg.attach(MIMEText(txt_mail))\n",
    "        files = os.listdir(os.getcwd())\n",
    "        for l in files:\n",
    "            print('Loading file {}'.format(l))\n",
    "            if 'mp4' in l:\n",
    "                part = MIMEBase('application', \"octet-stream\")\n",
    "                fo=open(l,\"rb\")\n",
    "                part.set_payload(fo.read() )\n",
    "                Encoders.encode_base64(part)\n",
    "                part.add_header('Content-Disposition', 'attachment; filename=\"%s\"' % os.path.basename(l))\n",
    "                msg.attach(part)\n",
    "                    \n",
    "            if 'JPG' in l:\n",
    "                img_data = open(l, 'rb').read()\n",
    "                image = MIMEImage(img_data, name=os.path.basename(l))\n",
    "                msg.attach(image)\n",
    "                 \n",
    "                   \n",
    "        s.sendmail('fapb88ve@gmail.com', email, msg.as_string())\n",
    "            \n",
    "                \n",
    "        \n",
    "            \n",
    "\n",
    "    s.quit()                   \n",
    "\n",
    "                \n",
    "                "
   ]
  },
  {
   "cell_type": "code",
   "execution_count": 10,
   "metadata": {
    "collapsed": false
   },
   "outputs": [],
   "source": [
    "def full():\n",
    "    global sup\n",
    "    #sup = input()\n",
    "    #os.chdir('.\\\\Logo')\n",
    "    \n",
    "    global logo, plogo, plogow, plogoh, client, metadata, logo_path\n",
    "    logo_path = os.path.abspath('.\\\\Logo\\\\pancita4.png')\n",
    "    client = dropbox.client.DropboxClient('IS-424yqxy8AAAAAAAAVLOUS9urGIH4kCxP_5Q6hxdz-WrhGMYKa-9MjMZrpwMYZ')\n",
    "    metadata = client.metadata('/')\n",
    "    # Time Function\n",
    "    d_files = files()\n",
    "    global clients\n",
    "    clients = pd.read_excel('Registro de Clientes.xlsx')\n",
    "    send_f = pd.merge(d_files, clients, left_on='c_name', right_on='Nombre',\n",
    "                      how='inner')\n",
    "    dl_files(send_f)\n",
    "    \n",
    "\n",
    "if os.getcwd() != 'C:\\\\Users\\\\Frank Pinto\\\\desktop\\\\pds\\\\Pancitas\\\\Code':\n",
    "    os.chdir('C:\\\\Users\\\\Frank Pinto\\\\desktop\\\\pds\\\\Pancitas\\\\Code')\n",
    "\n",
    "full()\n",
    "print(os.getcwd())\n",
    "#os.chdir('..')  "
   ]
  }
 ],
 "metadata": {
  "kernelspec": {
   "display_name": "Python 3",
   "language": "python",
   "name": "python3"
  },
  "language_info": {
   "codemirror_mode": {
    "name": "ipython",
    "version": 3
   },
   "file_extension": ".py",
   "mimetype": "text/x-python",
   "name": "python",
   "nbconvert_exporter": "python",
   "pygments_lexer": "ipython3",
   "version": "3.6.0"
  }
 },
 "nbformat": 4,
 "nbformat_minor": 2
}
