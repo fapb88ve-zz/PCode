{
 "cells": [
  {
   "cell_type": "code",
   "execution_count": 1,
   "metadata": {
    "collapsed": true
   },
   "outputs": [],
   "source": [
    "import os\n",
    "import smtplib\n",
    "from email.mime.text import MIMEText\n",
    "from email.mime.image import MIMEImage\n",
    "from email.mime.multipart import MIMEMultipart\n",
    "import datetime\n",
    "from email.mime.base import MIMEBase\n",
    "import email.encoders as Encoders"
   ]
  },
  {
   "cell_type": "code",
   "execution_count": 15,
   "metadata": {
    "collapsed": true
   },
   "outputs": [],
   "source": [
    "fr = 'fapb88ve@gmail.com'\n",
    "#to = 'ricowencelblat@gmail.com'\n",
    "to = 'fapb88ve@gmail.com'\n",
    "def SendMail(ImgFileName):\n",
    "    img_data = open(ImgFileName, 'rb').read()\n",
    "    msg = MIMEMultipart()\n",
    "    msg['Subject'] = 'prueba'\n",
    "    msg['From'] = fr\n",
    "    msg['To'] = to\n",
    "\n",
    "    text = MIMEText(\"test\")\n",
    "    msg.attach(text)\n",
    "    image = MIMEImage(img_data, name=os.path.basename(ImgFileName))\n",
    "    msg.attach(image)\n",
    "\n",
    "    s = smtplib.SMTP('smtp.gmail.com', 587)\n",
    "    s.ehlo()\n",
    "    s.starttls()\n",
    "    s.ehlo()\n",
    "    s.login(fr, 'rabbitrun88ve')\n",
    "    s.sendmail(fr, to, msg.as_string())\n",
    "    s.quit()"
   ]
  },
  {
   "cell_type": "code",
   "execution_count": 5,
   "metadata": {
    "collapsed": true
   },
   "outputs": [],
   "source": [
    "SendMail('ABA DUENAS_0000.JPG')"
   ]
  },
  {
   "cell_type": "code",
   "execution_count": 28,
   "metadata": {
    "collapsed": false
   },
   "outputs": [
    {
     "data": {
      "text/plain": [
       "['ABA DUENAS_0000.JPG',\n",
       " 'ABA DUENAS_0001.AVI',\n",
       " 'ABA DUENAS_0001.JPG',\n",
       " 'ABA DUENAS_0002.JPG',\n",
       " 'ABA DUENAS_0003.JPG',\n",
       " 'ABA DUENAS_0004.JPG',\n",
       " 'ABA DUENAS_0005.AVI',\n",
       " 'ABA DUENAS_0009.AVI']"
      ]
     },
     "execution_count": 28,
     "metadata": {},
     "output_type": "execute_result"
    }
   ],
   "source": [
    "lp = os.listdir(os.getcwd())[1:9]\n",
    "emails = ['fapb88ve@gmail.com', 'vcalzadillag@gmail.com', 'balestrinisamuel@gmail.com']\n",
    "lp"
   ]
  },
  {
   "cell_type": "code",
   "execution_count": 13,
   "metadata": {
    "collapsed": true
   },
   "outputs": [],
   "source": [
    "def SendMail1():\n",
    "    \n",
    "    \n",
    "    lp = os.listdir(os.getcwd())[1:6]\n",
    "    emails = ['fapb88ve@gmail.com', 'vcalzadillag@gmail.com']\n",
    "    msg = MIMEMultipart()\n",
    "    msg['Subject'] = 'prueba'\n",
    "    msg['From'] = fr\n",
    "    msg['To'] = to\n",
    "    text = MIMEText(\"test\")\n",
    "    msg.attach(text)\n",
    "    for i in lp:\n",
    "        img_data = open(i, 'rb').read()\n",
    "        image = MIMEImage(img_data, name=os.path.basename(i))\n",
    "        msg.attach(image)\n",
    "           \n",
    "\n",
    "    s = smtplib.SMTP('smtp.gmail.com', 587)\n",
    "    s.ehlo()\n",
    "    s.starttls()\n",
    "    s.ehlo()\n",
    "    s.login(fr, 'rabbitrun88ve')\n",
    "    s.sendmail(fr, to, msg.as_string())\n",
    "    s.quit()"
   ]
  },
  {
   "cell_type": "code",
   "execution_count": 14,
   "metadata": {
    "collapsed": false
   },
   "outputs": [
    {
     "data": {
      "text/plain": [
       "23"
      ]
     },
     "execution_count": 14,
     "metadata": {},
     "output_type": "execute_result"
    }
   ],
   "source": [
    "a = datetime.datetime.now().second\n",
    "SendMail1()\n",
    "b = datetime.datetime.now().second\n",
    "a - b"
   ]
  },
  {
   "cell_type": "code",
   "execution_count": 25,
   "metadata": {
    "collapsed": false
   },
   "outputs": [],
   "source": [
    "def SendMail2():\n",
    "    s = smtplib.SMTP('smtp.gmail.com', 587)\n",
    "    s.ehlo()\n",
    "    s.starttls()\n",
    "    s.ehlo()\n",
    "    s.login(fr, 'rabbitrun88ve')\n",
    "    \n",
    "    lp = os.listdir(os.getcwd())[1:6]\n",
    "    emails = ['fapb88ve@gmail.com', 'vcalzadillag@gmail.com', 'balestrinisamuel@gmail.com']\n",
    "    for i in emails:\n",
    "        msg = MIMEMultipart()\n",
    "        msg['Subject'] = 'prueba'\n",
    "        msg['From'] = fr\n",
    "        msg['To'] = i\n",
    "        text = MIMEText(\"test\")\n",
    "        msg.attach(text)\n",
    "        for k in lp:\n",
    "            img_data = open(k, 'rb').read()\n",
    "            image = MIMEImage(img_data, name=os.path.basename(k))\n",
    "            msg.attach(image)\n",
    "        s.sendmail(fr, i, msg.as_string())\n",
    "\n",
    "    \n",
    "    \n",
    "    s.quit()"
   ]
  },
  {
   "cell_type": "code",
   "execution_count": 26,
   "metadata": {
    "collapsed": false
   },
   "outputs": [
    {
     "data": {
      "text/plain": [
       "-12"
      ]
     },
     "execution_count": 26,
     "metadata": {},
     "output_type": "execute_result"
    }
   ],
   "source": [
    "a = datetime.datetime.now().second\n",
    "SendMail2()\n",
    "b = datetime.datetime.now().second\n",
    "a - b"
   ]
  },
  {
   "cell_type": "code",
   "execution_count": 30,
   "metadata": {
    "collapsed": true
   },
   "outputs": [],
   "source": [
    "def SendMail3():\n",
    "    s = smtplib.SMTP('smtp.gmail.com', 587)\n",
    "    s.ehlo()\n",
    "    s.starttls()\n",
    "    s.ehlo()\n",
    "    s.login(fr, 'rabbitrun88ve')\n",
    "    \n",
    "    lp = os.listdir(os.getcwd())[1:9]\n",
    "    \n",
    "    emails = ['fapb88ve@gmail.com', 'vcalzadillag@gmail.com', 'balestrinisamuel@gmail.com']\n",
    "    for i in emails:\n",
    "        msg = MIMEMultipart()\n",
    "        msg['Subject'] = 'prueba'\n",
    "        msg['From'] = fr\n",
    "        msg['To'] = i\n",
    "        text = MIMEText(\"test\")\n",
    "        msg.attach(text)\n",
    "        for k in lp:\n",
    "            if '.JPG' in k:\n",
    "                img_data = open(k, 'rb').read()\n",
    "                image = MIMEImage(img_data, name=os.path.basename(k))\n",
    "                msg.attach(image)\n",
    "            else:\n",
    "                pass\n",
    "        s.sendmail(fr, i, msg.as_string())\n",
    "\n",
    "    \n",
    "    \n",
    "    s.quit()"
   ]
  },
  {
   "cell_type": "code",
   "execution_count": 31,
   "metadata": {
    "collapsed": false
   },
   "outputs": [
    {
     "data": {
      "text/plain": [
       "-2"
      ]
     },
     "execution_count": 31,
     "metadata": {},
     "output_type": "execute_result"
    }
   ],
   "source": [
    "a = datetime.datetime.now().second\n",
    "SendMail3()\n",
    "b = datetime.datetime.now().second\n",
    "a - b"
   ]
  },
  {
   "cell_type": "code",
   "execution_count": 2,
   "metadata": {
    "collapsed": false
   },
   "outputs": [],
   "source": [
    "def SendMail3():\n",
    "\n",
    "    msg = MIMEMultipart()\n",
    "    msg['Subject'] = 'prueba'\n",
    "    msg['From'] = 'fapb88ve@gmail.com'\n",
    "    msg['To'] = 'fapb88ve@gmail.com'\n",
    "    text = MIMEText(\"test\")\n",
    "    msg.attach(text)\n",
    "    part = MIMEBase('application', \"octet-stream\")\n",
    "    fo=open('ADRIANA GRAELL WK27_0013.mpg',\"rb\")\n",
    "    part.set_payload(fo.read() )\n",
    "    Encoders.encode_base64(part)\n",
    "    part.add_header('Content-Disposition', 'attachment; filename=\"%s\"' % os.path.basename('ADRIANA GRAELL WK27_0013.mpg'))\n",
    "    msg.attach(part)\n",
    "    s = smtplib.SMTP('smtp.gmail.com', 587)\n",
    "    s.ehlo()\n",
    "    s.starttls()\n",
    "    s.login('fapb88ve@gmail.com', 'rabbitrun88ve')\n",
    "    s.sendmail('fapb88ve@gmail.com', 'fapb88ve@gmail.com', msg.as_string())\n",
    "    s.quit()\n",
    "    \n",
    "SendMail3()"
   ]
  },
  {
   "cell_type": "code",
   "execution_count": null,
   "metadata": {
    "collapsed": true
   },
   "outputs": [],
   "source": [
    "def SendMail4(send_list, files):\n",
    "    \n",
    "    msg = MIMEMultipart()\n",
    "    msg['Subject'] = 'prueba'\n",
    "    msg['From'] = 'fapb88ve@gmail.com'\n",
    "    msg['To'] = 'fapb88ve@gmail.com'\n",
    "    text = MIMEText(\"test\")\n",
    "    msg.attach(text)\n",
    "    for i in files:\n",
    "        if 'mp4' in i:\n",
    "            part = MIMEBase('application', \"octet-stream\")\n",
    "            fo=open('ADRIANA GRAELL WK27_0013.mpg',\"rb\")\n",
    "            part.set_payload(fo.read() )\n",
    "            Encoders.encode_base64(part)\n",
    "            part.add_header('Content-Disposition', 'attachment; filename=\"%s\"' % os.path.basename('ADRIANA GRAELL WK27_0013.mpg'))\n",
    "            msg.attach(part)\n",
    "        if 'jpg' in i:\n",
    "            img_data = open(k, 'rb').read()\n",
    "            image = MIMEImage(img_data, name=os.path.basename(k))\n",
    "            msg.attach(image)\n",
    "    s = smtplib.SMTP('smtp.gmail.com', 587)\n",
    "    s.ehlo()\n",
    "    s.starttls()\n",
    "    s.login('fapb88ve@gmail.com', 'rabbitrun88ve')\n",
    "    s.sendmail('fapb88ve@gmail.com', 'fapb88ve@gmail.com', msg.as_string())\n",
    "    s.quit()\n",
    "    \n",
    "SendMail4()"
   ]
  }
 ],
 "metadata": {
  "kernelspec": {
   "display_name": "Python 3",
   "language": "python",
   "name": "python3"
  },
  "language_info": {
   "codemirror_mode": {
    "name": "ipython",
    "version": 3
   },
   "file_extension": ".py",
   "mimetype": "text/x-python",
   "name": "python",
   "nbconvert_exporter": "python",
   "pygments_lexer": "ipython3",
   "version": "3.6.0"
  }
 },
 "nbformat": 4,
 "nbformat_minor": 2
}
