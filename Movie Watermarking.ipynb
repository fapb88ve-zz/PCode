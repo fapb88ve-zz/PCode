{
 "cells": [
  {
   "cell_type": "code",
   "execution_count": 7,
   "metadata": {
    "collapsed": false
   },
   "outputs": [],
   "source": [
    "#import moviepy.editor as mpy\n",
    "import imageio\n",
    "imageio.plugins.ffmpeg.download()\n",
    "from moviepy.editor import *\n",
    "import os\n",
    "import datetime"
   ]
  },
  {
   "cell_type": "code",
   "execution_count": 4,
   "metadata": {
    "collapsed": true
   },
   "outputs": [],
   "source": [
    "clip = VideoFileClip(\"ABA DUENAS_0001.AVI\")"
   ]
  },
  {
   "cell_type": "code",
   "execution_count": 5,
   "metadata": {
    "collapsed": false
   },
   "outputs": [
    {
     "name": "stdout",
     "output_type": "stream",
     "text": [
      "[MoviePy] >>>> Building video ABAMPG.mp4\n",
      "[MoviePy] Writing video ABAMPG.mp4\n"
     ]
    },
    {
     "name": "stderr",
     "output_type": "stream",
     "text": [
      "100%|████████████████████████████████████████████████████████████████████████████████| 891/891 [00:16<00:00, 54.84it/s]\n"
     ]
    },
    {
     "name": "stdout",
     "output_type": "stream",
     "text": [
      "[MoviePy] Done.\n",
      "[MoviePy] >>>> Video ready: ABAMPG.mp4 \n",
      "\n"
     ]
    }
   ],
   "source": [
    "clip.write_videofile('ABAMPG.mp4')"
   ]
  },
  {
   "cell_type": "code",
   "execution_count": 13,
   "metadata": {
    "collapsed": false
   },
   "outputs": [
    {
     "name": "stdout",
     "output_type": "stream",
     "text": [
      "[MoviePy] >>>> Building video test.mp4\n",
      "[MoviePy] Writing video test.mp4\n"
     ]
    },
    {
     "name": "stderr",
     "output_type": "stream",
     "text": [
      "100%|████████████████████████████████████████████████████████████████████████████████| 891/891 [00:18<00:00, 47.83it/s]\n"
     ]
    },
    {
     "name": "stdout",
     "output_type": "stream",
     "text": [
      "[MoviePy] Done.\n",
      "[MoviePy] >>>> Video ready: test.mp4 \n",
      "\n"
     ]
    }
   ],
   "source": [
    "logo = (ImageClip(\"pancita4.png\")\n",
    "          .set_duration(clip.duration)\n",
    "          .resize(height=80) # if you need to resize...\n",
    "          .margin(right=8, top=8, opacity=0) # (optional) logo-border padding\n",
    "          .set_pos((\"right\",\"bottom\")))\n",
    "\n",
    "final = CompositeVideoClip([clip, logo])\n",
    "final.write_videofile(\"test.mp4\")"
   ]
  },
  {
   "cell_type": "code",
   "execution_count": 6,
   "metadata": {
    "collapsed": true
   },
   "outputs": [],
   "source": [
    "def vid_wat():\n",
    "    for i in vid_list:\n",
    "        clip = VideoFileClip(i)\n",
    "        logo = (ImageClip(\"pancita4.png\")\n",
    "          .set_duration(clip.duration)\n",
    "          .resize(height=80) # if you need to resize...\n",
    "          .margin(right=8, top=8, opacity=0) # (optional) logo-border padding\n",
    "          .set_pos((\"right\",\"bottom\")))\n",
    "        final = CompositeVideoClip([clip, logo])\n",
    "        final.write_videofile(\"Pancitas \" + i +\".mp4\")\n",
    "\n",
    "vid_list = [i for i in os.listdir(os.getcwd()) if 'AVI' in i]\n",
    "        "
   ]
  },
  {
   "cell_type": "code",
   "execution_count": 11,
   "metadata": {
    "collapsed": false
   },
   "outputs": [
    {
     "name": "stdout",
     "output_type": "stream",
     "text": [
      "[MoviePy] >>>> Building video Pancitas ABA DUENAS_0001.AVI.mp4\n",
      "[MoviePy] Writing video Pancitas ABA DUENAS_0001.AVI.mp4\n"
     ]
    },
    {
     "name": "stderr",
     "output_type": "stream",
     "text": [
      "100%|████████████████████████████████████████████████████████████████████████████████| 891/891 [00:20<00:00, 42.95it/s]\n"
     ]
    },
    {
     "name": "stdout",
     "output_type": "stream",
     "text": [
      "[MoviePy] Done.\n",
      "[MoviePy] >>>> Video ready: Pancitas ABA DUENAS_0001.AVI.mp4 \n",
      "\n",
      "[MoviePy] >>>> Building video Pancitas ABA DUENAS_0005.AVI.mp4\n",
      "[MoviePy] Writing video Pancitas ABA DUENAS_0005.AVI.mp4\n"
     ]
    },
    {
     "name": "stderr",
     "output_type": "stream",
     "text": [
      "100%|████████████████████████████████████████████████████████████████████████████████| 393/393 [00:07<00:00, 55.93it/s]\n"
     ]
    },
    {
     "name": "stdout",
     "output_type": "stream",
     "text": [
      "[MoviePy] Done.\n",
      "[MoviePy] >>>> Video ready: Pancitas ABA DUENAS_0005.AVI.mp4 \n",
      "\n",
      "[MoviePy] >>>> Building video Pancitas ABA DUENAS_0009.AVI.mp4\n",
      "[MoviePy] Writing video Pancitas ABA DUENAS_0009.AVI.mp4\n"
     ]
    },
    {
     "name": "stderr",
     "output_type": "stream",
     "text": [
      "100%|████████████████████████████████████████████████████████████████████████████████| 366/366 [00:08<00:00, 42.85it/s]\n"
     ]
    },
    {
     "name": "stdout",
     "output_type": "stream",
     "text": [
      "[MoviePy] Done.\n",
      "[MoviePy] >>>> Video ready: Pancitas ABA DUENAS_0009.AVI.mp4 \n",
      "\n"
     ]
    }
   ],
   "source": [
    "a = datetime.datetime.now().second\n",
    "vid_wat()\n",
    "b = datetime.datetime.now().second"
   ]
  },
  {
   "cell_type": "code",
   "execution_count": 12,
   "metadata": {
    "collapsed": false
   },
   "outputs": [
    {
     "data": {
      "text/plain": [
       "21"
      ]
     },
     "execution_count": 12,
     "metadata": {},
     "output_type": "execute_result"
    }
   ],
   "source": [
    "a-b"
   ]
  },
  {
   "cell_type": "code",
   "execution_count": null,
   "metadata": {
    "collapsed": true
   },
   "outputs": [],
   "source": []
  }
 ],
 "metadata": {
  "kernelspec": {
   "display_name": "Python 3",
   "language": "python",
   "name": "python3"
  },
  "language_info": {
   "codemirror_mode": {
    "name": "ipython",
    "version": 3
   },
   "file_extension": ".py",
   "mimetype": "text/x-python",
   "name": "python",
   "nbconvert_exporter": "python",
   "pygments_lexer": "ipython3",
   "version": "3.6.0"
  }
 },
 "nbformat": 4,
 "nbformat_minor": 2
}
