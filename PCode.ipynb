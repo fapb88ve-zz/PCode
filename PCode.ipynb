{
 "cells": [
  {
   "cell_type": "code",
   "execution_count": 29,
   "metadata": {
    "collapsed": false
   },
   "outputs": [],
   "source": [
    "import pandas as pd\n",
    "import os\n",
    "import datetime\n",
    "import numpy as np\n",
    "import time\n",
    "import smtplib\n",
    "from email.mime.application import MIMEApplication\n",
    "from email.mime.multipart import MIMEMultipart\n",
    "from email.mime.text import MIMEText\n",
    "from email.utils import COMMASPACE, formatdate\n",
    "import dropbox"
   ]
  },
  {
   "cell_type": "markdown",
   "metadata": {},
   "source": [
    "## Get List of Files"
   ]
  },
  {
   "cell_type": "code",
   "execution_count": 3,
   "metadata": {
    "collapsed": false
   },
   "outputs": [],
   "source": [
    "def listpic():\n",
    "    path = '.\\\\New Folder'\n",
    "    list_pic = pd.DataFrame({'file_name' : os.listdir(path)})\n",
    "    list_pic['f_name'] = [i[0:i.find(' ')].lower() for i in list_pic.file_name]\n",
    "    list_pic['l_name'] = [i[i.find(' '):i.find('_')].lower() for i in list_pic.file_name]\n",
    "    list_pic['t_file'] = [i[i.find('.')+1:].lower() for i in list_pic.file_name]\n",
    "    def modification_date(filename):\n",
    "        t = os.path.getmtime(filename)\n",
    "        return datetime.datetime.fromtimestamp(t)\n",
    "    picpath = ['.\\\\New Folder\\\\' + i for i in os.listdir(path)]\n",
    "    time = []\n",
    "    for i in picpath:\n",
    "        time.append(modification_date(i))\n",
    "    list_pic['date'] = [i.date() for i in time]\n",
    "    list_pic['hour'] = [i.time() for i in time]\n",
    "    list_pic['size'] = [round(np.divide(float(os.path.getsize(i)), 10**6),2) for i in picpath]\n",
    "    list_pic['email'] = np.nan\n",
    "    return list_pic\n",
    "\n"
   ]
  },
  {
   "cell_type": "code",
   "execution_count": 7,
   "metadata": {
    "collapsed": false
   },
   "outputs": [
    {
     "data": {
      "text/html": [
       "<div>\n",
       "<table border=\"1\" class=\"dataframe\">\n",
       "  <thead>\n",
       "    <tr style=\"text-align: right;\">\n",
       "      <th></th>\n",
       "      <th>file_name</th>\n",
       "      <th>f_name</th>\n",
       "      <th>l_name</th>\n",
       "      <th>t_file</th>\n",
       "      <th>date</th>\n",
       "      <th>hour</th>\n",
       "      <th>size</th>\n",
       "      <th>email</th>\n",
       "    </tr>\n",
       "  </thead>\n",
       "  <tbody>\n",
       "    <tr>\n",
       "      <th>1082</th>\n",
       "      <td>MARIA SANTOS WK18CBFF_0011.JPG</td>\n",
       "      <td>maria</td>\n",
       "      <td>santos wk18cbff</td>\n",
       "      <td>jpg</td>\n",
       "      <td>2017-04-25</td>\n",
       "      <td>11:48:04</td>\n",
       "      <td>0.24</td>\n",
       "      <td>NaN</td>\n",
       "    </tr>\n",
       "    <tr>\n",
       "      <th>1083</th>\n",
       "      <td>MARIA SANTOS WK18CBFF_0012.JPG</td>\n",
       "      <td>maria</td>\n",
       "      <td>santos wk18cbff</td>\n",
       "      <td>jpg</td>\n",
       "      <td>2017-04-25</td>\n",
       "      <td>11:48:04</td>\n",
       "      <td>0.25</td>\n",
       "      <td>NaN</td>\n",
       "    </tr>\n",
       "    <tr>\n",
       "      <th>1084</th>\n",
       "      <td>MARIA SANTOS WK18CBFF_0013.JPG</td>\n",
       "      <td>maria</td>\n",
       "      <td>santos wk18cbff</td>\n",
       "      <td>jpg</td>\n",
       "      <td>2017-04-25</td>\n",
       "      <td>11:48:06</td>\n",
       "      <td>0.41</td>\n",
       "      <td>NaN</td>\n",
       "    </tr>\n",
       "    <tr>\n",
       "      <th>1085</th>\n",
       "      <td>MARIA SANTOS WK18CBFF_0014.JPG</td>\n",
       "      <td>maria</td>\n",
       "      <td>santos wk18cbff</td>\n",
       "      <td>jpg</td>\n",
       "      <td>2017-04-25</td>\n",
       "      <td>11:48:06</td>\n",
       "      <td>0.29</td>\n",
       "      <td>NaN</td>\n",
       "    </tr>\n",
       "    <tr>\n",
       "      <th>1086</th>\n",
       "      <td>MARIA SANTOS WK18_0000.JPG</td>\n",
       "      <td>maria</td>\n",
       "      <td>santos wk18</td>\n",
       "      <td>jpg</td>\n",
       "      <td>2017-04-25</td>\n",
       "      <td>11:34:10</td>\n",
       "      <td>0.32</td>\n",
       "      <td>NaN</td>\n",
       "    </tr>\n",
       "  </tbody>\n",
       "</table>\n",
       "</div>"
      ],
      "text/plain": [
       "                           file_name f_name            l_name t_file  \\\n",
       "1082  MARIA SANTOS WK18CBFF_0011.JPG  maria   santos wk18cbff    jpg   \n",
       "1083  MARIA SANTOS WK18CBFF_0012.JPG  maria   santos wk18cbff    jpg   \n",
       "1084  MARIA SANTOS WK18CBFF_0013.JPG  maria   santos wk18cbff    jpg   \n",
       "1085  MARIA SANTOS WK18CBFF_0014.JPG  maria   santos wk18cbff    jpg   \n",
       "1086      MARIA SANTOS WK18_0000.JPG  maria       santos wk18    jpg   \n",
       "\n",
       "            date      hour  size  email  \n",
       "1082  2017-04-25  11:48:04  0.24    NaN  \n",
       "1083  2017-04-25  11:48:04  0.25    NaN  \n",
       "1084  2017-04-25  11:48:06  0.41    NaN  \n",
       "1085  2017-04-25  11:48:06  0.29    NaN  \n",
       "1086  2017-04-25  11:34:10  0.32    NaN  "
      ]
     },
     "execution_count": 7,
     "metadata": {},
     "output_type": "execute_result"
    }
   ],
   "source": [
    "listpic().tail()"
   ]
  },
  {
   "cell_type": "markdown",
   "metadata": {},
   "source": [
    "## Get List of Today's Clients (User Input)."
   ]
  },
  {
   "cell_type": "code",
   "execution_count": 5,
   "metadata": {
    "collapsed": true
   },
   "outputs": [],
   "source": [
    "def clients():\n",
    "    clients = pd.read_excel('registro.xlsx')\n",
    "    clients['f_name'] = [i[0:i.find(\" \")].lower() for i in clients.Name]\n",
    "    clients['l_name'] = [i[i.find(\" \"):].lower() for i in clients.Name]\n",
    "    return clients"
   ]
  },
  {
   "cell_type": "markdown",
   "metadata": {},
   "source": [
    "## Final List With Emails."
   ]
  },
  {
   "cell_type": "code",
   "execution_count": 6,
   "metadata": {
    "collapsed": false
   },
   "outputs": [
    {
     "data": {
      "text/html": [
       "<div>\n",
       "<table border=\"1\" class=\"dataframe\">\n",
       "  <thead>\n",
       "    <tr style=\"text-align: right;\">\n",
       "      <th></th>\n",
       "      <th>file_name</th>\n",
       "      <th>f_name</th>\n",
       "      <th>l_name</th>\n",
       "      <th>t_file</th>\n",
       "      <th>date</th>\n",
       "      <th>hour</th>\n",
       "      <th>size</th>\n",
       "      <th>email</th>\n",
       "      <th>Name</th>\n",
       "      <th>Email</th>\n",
       "    </tr>\n",
       "  </thead>\n",
       "  <tbody>\n",
       "    <tr>\n",
       "      <th>0</th>\n",
       "      <td>ABA DUENAS_0000.JPG</td>\n",
       "      <td>aba</td>\n",
       "      <td>duenas</td>\n",
       "      <td>jpg</td>\n",
       "      <td>2017-04-21</td>\n",
       "      <td>09:53:48</td>\n",
       "      <td>0.12</td>\n",
       "      <td>NaN</td>\n",
       "      <td>Aba Duenas</td>\n",
       "      <td>fapb88ve@gmail.com</td>\n",
       "    </tr>\n",
       "    <tr>\n",
       "      <th>1</th>\n",
       "      <td>ABA DUENAS_0001.AVI</td>\n",
       "      <td>aba</td>\n",
       "      <td>duenas</td>\n",
       "      <td>avi</td>\n",
       "      <td>2017-04-21</td>\n",
       "      <td>09:54:36</td>\n",
       "      <td>10.82</td>\n",
       "      <td>NaN</td>\n",
       "      <td>Aba Duenas</td>\n",
       "      <td>fapb88ve@gmail.com</td>\n",
       "    </tr>\n",
       "    <tr>\n",
       "      <th>2</th>\n",
       "      <td>ABA DUENAS_0001.JPG</td>\n",
       "      <td>aba</td>\n",
       "      <td>duenas</td>\n",
       "      <td>jpg</td>\n",
       "      <td>2017-04-21</td>\n",
       "      <td>09:54:30</td>\n",
       "      <td>0.12</td>\n",
       "      <td>NaN</td>\n",
       "      <td>Aba Duenas</td>\n",
       "      <td>fapb88ve@gmail.com</td>\n",
       "    </tr>\n",
       "    <tr>\n",
       "      <th>3</th>\n",
       "      <td>ABA DUENAS_0002.JPG</td>\n",
       "      <td>aba</td>\n",
       "      <td>duenas</td>\n",
       "      <td>jpg</td>\n",
       "      <td>2017-04-21</td>\n",
       "      <td>09:54:40</td>\n",
       "      <td>0.36</td>\n",
       "      <td>NaN</td>\n",
       "      <td>Aba Duenas</td>\n",
       "      <td>fapb88ve@gmail.com</td>\n",
       "    </tr>\n",
       "    <tr>\n",
       "      <th>4</th>\n",
       "      <td>ABA DUENAS_0003.JPG</td>\n",
       "      <td>aba</td>\n",
       "      <td>duenas</td>\n",
       "      <td>jpg</td>\n",
       "      <td>2017-04-21</td>\n",
       "      <td>09:54:40</td>\n",
       "      <td>0.33</td>\n",
       "      <td>NaN</td>\n",
       "      <td>Aba Duenas</td>\n",
       "      <td>fapb88ve@gmail.com</td>\n",
       "    </tr>\n",
       "  </tbody>\n",
       "</table>\n",
       "</div>"
      ],
      "text/plain": [
       "             file_name f_name   l_name t_file        date      hour   size  \\\n",
       "0  ABA DUENAS_0000.JPG    aba   duenas    jpg  2017-04-21  09:53:48   0.12   \n",
       "1  ABA DUENAS_0001.AVI    aba   duenas    avi  2017-04-21  09:54:36  10.82   \n",
       "2  ABA DUENAS_0001.JPG    aba   duenas    jpg  2017-04-21  09:54:30   0.12   \n",
       "3  ABA DUENAS_0002.JPG    aba   duenas    jpg  2017-04-21  09:54:40   0.36   \n",
       "4  ABA DUENAS_0003.JPG    aba   duenas    jpg  2017-04-21  09:54:40   0.33   \n",
       "\n",
       "   email        Name               Email  \n",
       "0    NaN  Aba Duenas  fapb88ve@gmail.com  \n",
       "1    NaN  Aba Duenas  fapb88ve@gmail.com  \n",
       "2    NaN  Aba Duenas  fapb88ve@gmail.com  \n",
       "3    NaN  Aba Duenas  fapb88ve@gmail.com  \n",
       "4    NaN  Aba Duenas  fapb88ve@gmail.com  "
      ]
     },
     "execution_count": 6,
     "metadata": {},
     "output_type": "execute_result"
    }
   ],
   "source": [
    "def sendPic():\n",
    "    sendPic = pd.merge(listpic(), clients(), on = ['f_name', 'l_name'], how = 'outer')\n",
    "    return sendPic\n",
    "                \n",
    "sendPic().head()"
   ]
  },
  {
   "cell_type": "markdown",
   "metadata": {
    "collapsed": false
   },
   "source": [
    "## Time related Functionalities."
   ]
  },
  {
   "cell_type": "code",
   "execution_count": null,
   "metadata": {
    "collapsed": false
   },
   "outputs": [],
   "source": [
    "#def time():\n",
    "#    exit = datetime.datetime.now()\n",
    "#    td = datetime.timedelta(minutes = 30)\n",
    "#    while datetime.datetime.now() < \n",
    "#        print('early')\n",
    "        \n",
    "#    return datetime.datetime.now().hour\n",
    "#time()"
   ]
  },
  {
   "cell_type": "markdown",
   "metadata": {
    "collapsed": false
   },
   "source": [
    "## Email Sending Functionalities"
   ]
  },
  {
   "cell_type": "code",
   "execution_count": null,
   "metadata": {
    "collapsed": false
   },
   "outputs": [],
   "source": [
    "def SendMail():\n",
    "    s = smtplib.SMTP('smtp.gmail.com', 587)\n",
    "    s.ehlo()\n",
    "    s.starttls()\n",
    "    s.ehlo()\n",
    "    s.login(fr, 'rabbitrun88ve')\n",
    "    \n",
    "    lp = os.listdir(os.getcwd())[1:9]\n",
    "    \n",
    "    emails = ['fapb88ve@gmail.com', 'vcalzadillag@gmail.com', 'balestrinisamuel@gmail.com']\n",
    "    for i in emails:\n",
    "        msg = MIMEMultipart()\n",
    "        msg['Subject'] = 'prueba'\n",
    "        msg['From'] = fr\n",
    "        msg['To'] = i\n",
    "        text = MIMEText(\"test\")\n",
    "        msg.attach(text)\n",
    "        for k in lp:\n",
    "            if '.JPG' in k:\n",
    "                img_data = open(k, 'rb').read()\n",
    "                image = MIMEImage(img_data, name=os.path.basename(k))\n",
    "                msg.attach(image)\n",
    "            else:\n",
    "                pass\n",
    "        s.sendmail(fr, i, msg.as_string())\n",
    "\n",
    "    \n",
    "    \n",
    "    s.quit()"
   ]
  },
  {
   "cell_type": "markdown",
   "metadata": {
    "collapsed": false
   },
   "source": [
    "## Dropbox API for Video Download"
   ]
  },
  {
   "cell_type": "code",
   "execution_count": null,
   "metadata": {
    "collapsed": false
   },
   "outputs": [],
   "source": []
  },
  {
   "cell_type": "code",
   "execution_count": null,
   "metadata": {
    "collapsed": false
   },
   "outputs": [],
   "source": []
  },
  {
   "cell_type": "code",
   "execution_count": null,
   "metadata": {
    "collapsed": false
   },
   "outputs": [],
   "source": []
  },
  {
   "cell_type": "code",
   "execution_count": null,
   "metadata": {
    "collapsed": false
   },
   "outputs": [],
   "source": []
  },
  {
   "cell_type": "code",
   "execution_count": null,
   "metadata": {
    "collapsed": false
   },
   "outputs": [],
   "source": []
  },
  {
   "cell_type": "code",
   "execution_count": null,
   "metadata": {
    "collapsed": false
   },
   "outputs": [],
   "source": []
  },
  {
   "cell_type": "code",
   "execution_count": null,
   "metadata": {
    "collapsed": false
   },
   "outputs": [],
   "source": []
  },
  {
   "cell_type": "code",
   "execution_count": null,
   "metadata": {
    "collapsed": false
   },
   "outputs": [],
   "source": []
  },
  {
   "cell_type": "code",
   "execution_count": null,
   "metadata": {
    "collapsed": false
   },
   "outputs": [],
   "source": []
  },
  {
   "cell_type": "code",
   "execution_count": null,
   "metadata": {
    "collapsed": false
   },
   "outputs": [],
   "source": []
  },
  {
   "cell_type": "code",
   "execution_count": null,
   "metadata": {
    "collapsed": true
   },
   "outputs": [],
   "source": []
  }
 ],
 "metadata": {
  "kernelspec": {
   "display_name": "Python 3",
   "language": "python",
   "name": "python3"
  },
  "language_info": {
   "codemirror_mode": {
    "name": "ipython",
    "version": 3
   },
   "file_extension": ".py",
   "mimetype": "text/x-python",
   "name": "python",
   "nbconvert_exporter": "python",
   "pygments_lexer": "ipython3",
   "version": "3.6.0"
  }
 },
 "nbformat": 4,
 "nbformat_minor": 2
}
