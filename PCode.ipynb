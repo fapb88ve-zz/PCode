{
 "cells": [
  {
   "cell_type": "code",
   "execution_count": 1,
   "metadata": {
    "collapsed": false
   },
   "outputs": [],
   "source": [
    "import pandas as pd\n",
    "import os\n",
    "import datetime\n",
    "import numpy as np\n",
    "import time\n",
    "import smtplib\n",
    "from email.mime.application import MIMEApplication\n",
    "from email.mime.multipart import MIMEMultipart\n",
    "from email.mime.text import MIMEText\n",
    "from email.utils import COMMASPACE, formatdate\n",
    "import dropbox\n",
    "from PIL import Image \n",
    "import imageio\n",
    "imageio.plugins.ffmpeg.download()\n",
    "from moviepy.editor import *"
   ]
  },
  {
   "cell_type": "markdown",
   "metadata": {},
   "source": [
    "## Get List of Files"
   ]
  },
  {
   "cell_type": "code",
   "execution_count": 2,
   "metadata": {
    "collapsed": false
   },
   "outputs": [],
   "source": [
    "def files():\n",
    "    client = dropbox.client.DropboxClient('IS-424yqxy8AAAAAAAAVLOUS9urGIH4kCxP_5Q6hxdz-WrhGMYKa-9MjMZrpwMYZ')\n",
    "    metadata = client.metadata('/')\n",
    "    files = [content['path'].split('/')[-1] for content in metadata['contents'] if content['is_dir'] == False]\n",
    "    name = [i[0:i.find('_')] for i in files]\n",
    "    files = pd.DataFrame({'file_name': files, 'c_name': name})\n",
    "    dates = [content['modified'] for content in metadata['contents'] if content['is_dir'] == False]\n",
    "    files['date_mod_d'] = [time.strptime(i, \"%a, %d %b %Y %H:%M:%S %z\") for i in dates]\n",
    "    files['date_mod'] = [datetime.datetime(*files.date_mod_d.loc[i][:6]).date() for i in files.index]\n",
    "    files['hour_mod'] = [datetime.datetime(*files.date_mod_d.loc[i][:6]).time() for i in files.index]\n",
    "    del files['date_mod_d']\n",
    "    files['check1'] = np.nan\n",
    "    files['check2'] = np.nan\n",
    "    return files   "
   ]
  },
  {
   "cell_type": "code",
   "execution_count": 36,
   "metadata": {
    "collapsed": false
   },
   "outputs": [
    {
     "data": {
      "text/html": [
       "<div>\n",
       "<table border=\"1\" class=\"dataframe\">\n",
       "  <thead>\n",
       "    <tr style=\"text-align: right;\">\n",
       "      <th></th>\n",
       "      <th>file_name</th>\n",
       "    </tr>\n",
       "  </thead>\n",
       "  <tbody>\n",
       "    <tr>\n",
       "      <th>0</th>\n",
       "      <td>ABA DUENAS_0001.JPG</td>\n",
       "    </tr>\n",
       "    <tr>\n",
       "      <th>1</th>\n",
       "      <td>ABA DUENAS_0005.JPG</td>\n",
       "    </tr>\n",
       "    <tr>\n",
       "      <th>2</th>\n",
       "      <td>ABA DUENAS_0009.JPG</td>\n",
       "    </tr>\n",
       "    <tr>\n",
       "      <th>3</th>\n",
       "      <td>ADRIANA GRAELL WK27_0001.JPG</td>\n",
       "    </tr>\n",
       "    <tr>\n",
       "      <th>4</th>\n",
       "      <td>ADRIANA GRAELL WK27_0013.JPG</td>\n",
       "    </tr>\n",
       "  </tbody>\n",
       "</table>\n",
       "</div>"
      ],
      "text/plain": [
       "                      file_name\n",
       "0           ABA DUENAS_0001.JPG\n",
       "1           ABA DUENAS_0005.JPG\n",
       "2           ABA DUENAS_0009.JPG\n",
       "3  ADRIANA GRAELL WK27_0001.JPG\n",
       "4  ADRIANA GRAELL WK27_0013.JPG"
      ]
     },
     "execution_count": 36,
     "metadata": {},
     "output_type": "execute_result"
    }
   ],
   "source": [
    "files().head()"
   ]
  },
  {
   "cell_type": "markdown",
   "metadata": {},
   "source": [
    "## Get List of Today's Clients (User Input)."
   ]
  },
  {
   "cell_type": "code",
   "execution_count": 5,
   "metadata": {
    "collapsed": true
   },
   "outputs": [],
   "source": [
    "def clients():\n",
    "    clients = pd.read_excel('registro.xlsx')\n",
    "    clients['f_name'] = [i[0:i.find(\" \")].lower() for i in clients.Name]\n",
    "    clients['l_name'] = [i[i.find(\" \"):].lower() for i in clients.Name]\n",
    "    return clients"
   ]
  },
  {
   "cell_type": "markdown",
   "metadata": {},
   "source": [
    "## Final List With Emails."
   ]
  },
  {
   "cell_type": "code",
   "execution_count": 6,
   "metadata": {
    "collapsed": false
   },
   "outputs": [
    {
     "data": {
      "text/html": [
       "<div>\n",
       "<table border=\"1\" class=\"dataframe\">\n",
       "  <thead>\n",
       "    <tr style=\"text-align: right;\">\n",
       "      <th></th>\n",
       "      <th>file_name</th>\n",
       "      <th>f_name</th>\n",
       "      <th>l_name</th>\n",
       "      <th>t_file</th>\n",
       "      <th>date</th>\n",
       "      <th>hour</th>\n",
       "      <th>size</th>\n",
       "      <th>email</th>\n",
       "      <th>Name</th>\n",
       "      <th>Email</th>\n",
       "    </tr>\n",
       "  </thead>\n",
       "  <tbody>\n",
       "    <tr>\n",
       "      <th>0</th>\n",
       "      <td>ABA DUENAS_0000.JPG</td>\n",
       "      <td>aba</td>\n",
       "      <td>duenas</td>\n",
       "      <td>jpg</td>\n",
       "      <td>2017-04-21</td>\n",
       "      <td>09:53:48</td>\n",
       "      <td>0.12</td>\n",
       "      <td>NaN</td>\n",
       "      <td>Aba Duenas</td>\n",
       "      <td>fapb88ve@gmail.com</td>\n",
       "    </tr>\n",
       "    <tr>\n",
       "      <th>1</th>\n",
       "      <td>ABA DUENAS_0001.AVI</td>\n",
       "      <td>aba</td>\n",
       "      <td>duenas</td>\n",
       "      <td>avi</td>\n",
       "      <td>2017-04-21</td>\n",
       "      <td>09:54:36</td>\n",
       "      <td>10.82</td>\n",
       "      <td>NaN</td>\n",
       "      <td>Aba Duenas</td>\n",
       "      <td>fapb88ve@gmail.com</td>\n",
       "    </tr>\n",
       "    <tr>\n",
       "      <th>2</th>\n",
       "      <td>ABA DUENAS_0001.JPG</td>\n",
       "      <td>aba</td>\n",
       "      <td>duenas</td>\n",
       "      <td>jpg</td>\n",
       "      <td>2017-04-21</td>\n",
       "      <td>09:54:30</td>\n",
       "      <td>0.12</td>\n",
       "      <td>NaN</td>\n",
       "      <td>Aba Duenas</td>\n",
       "      <td>fapb88ve@gmail.com</td>\n",
       "    </tr>\n",
       "    <tr>\n",
       "      <th>3</th>\n",
       "      <td>ABA DUENAS_0002.JPG</td>\n",
       "      <td>aba</td>\n",
       "      <td>duenas</td>\n",
       "      <td>jpg</td>\n",
       "      <td>2017-04-21</td>\n",
       "      <td>09:54:40</td>\n",
       "      <td>0.36</td>\n",
       "      <td>NaN</td>\n",
       "      <td>Aba Duenas</td>\n",
       "      <td>fapb88ve@gmail.com</td>\n",
       "    </tr>\n",
       "    <tr>\n",
       "      <th>4</th>\n",
       "      <td>ABA DUENAS_0003.JPG</td>\n",
       "      <td>aba</td>\n",
       "      <td>duenas</td>\n",
       "      <td>jpg</td>\n",
       "      <td>2017-04-21</td>\n",
       "      <td>09:54:40</td>\n",
       "      <td>0.33</td>\n",
       "      <td>NaN</td>\n",
       "      <td>Aba Duenas</td>\n",
       "      <td>fapb88ve@gmail.com</td>\n",
       "    </tr>\n",
       "  </tbody>\n",
       "</table>\n",
       "</div>"
      ],
      "text/plain": [
       "             file_name f_name   l_name t_file        date      hour   size  \\\n",
       "0  ABA DUENAS_0000.JPG    aba   duenas    jpg  2017-04-21  09:53:48   0.12   \n",
       "1  ABA DUENAS_0001.AVI    aba   duenas    avi  2017-04-21  09:54:36  10.82   \n",
       "2  ABA DUENAS_0001.JPG    aba   duenas    jpg  2017-04-21  09:54:30   0.12   \n",
       "3  ABA DUENAS_0002.JPG    aba   duenas    jpg  2017-04-21  09:54:40   0.36   \n",
       "4  ABA DUENAS_0003.JPG    aba   duenas    jpg  2017-04-21  09:54:40   0.33   \n",
       "\n",
       "   email        Name               Email  \n",
       "0    NaN  Aba Duenas  fapb88ve@gmail.com  \n",
       "1    NaN  Aba Duenas  fapb88ve@gmail.com  \n",
       "2    NaN  Aba Duenas  fapb88ve@gmail.com  \n",
       "3    NaN  Aba Duenas  fapb88ve@gmail.com  \n",
       "4    NaN  Aba Duenas  fapb88ve@gmail.com  "
      ]
     },
     "execution_count": 6,
     "metadata": {},
     "output_type": "execute_result"
    }
   ],
   "source": [
    "def sendPic():\n",
    "    sendPic = pd.merge(listpic(), clients(), on = ['f_name', 'l_name'], how = 'outer')\n",
    "    return sendPic\n",
    "                \n",
    "sendPic().head()"
   ]
  },
  {
   "cell_type": "markdown",
   "metadata": {
    "collapsed": false
   },
   "source": [
    "## Time related Functionalities."
   ]
  },
  {
   "cell_type": "code",
   "execution_count": null,
   "metadata": {
    "collapsed": false
   },
   "outputs": [],
   "source": [
    "#def time():\n",
    "#    exit = datetime.datetime.now()\n",
    "#    td = datetime.timedelta(minutes = 30)\n",
    "#    while datetime.datetime.now() < \n",
    "#        print('early')\n",
    "        \n",
    "#    return datetime.datetime.now().hour\n",
    "#time()"
   ]
  },
  {
   "cell_type": "markdown",
   "metadata": {
    "collapsed": false
   },
   "source": [
    "## Email Sending Functionalities"
   ]
  },
  {
   "cell_type": "code",
   "execution_count": null,
   "metadata": {
    "collapsed": false
   },
   "outputs": [],
   "source": [
    "def SendMail():\n",
    "    s = smtplib.SMTP('smtp.gmail.com', 587)\n",
    "    s.ehlo()\n",
    "    s.starttls()\n",
    "    s.ehlo()\n",
    "    s.login(fr, 'rabbitrun88ve')\n",
    "    \n",
    "    lp = os.listdir(os.getcwd())[1:9]\n",
    "    \n",
    "    emails = ['fapb88ve@gmail.com', 'vcalzadillag@gmail.com', 'balestrinisamuel@gmail.com']\n",
    "    for i in emails:\n",
    "        msg = MIMEMultipart()\n",
    "        msg['Subject'] = 'prueba'\n",
    "        msg['From'] = fr\n",
    "        msg['To'] = i\n",
    "        text = MIMEText(\"test\")\n",
    "        msg.attach(text)\n",
    "        for k in lp:\n",
    "            if '.JPG' in k:\n",
    "                img_data = open(k, 'rb').read()\n",
    "                image = MIMEImage(img_data, name=os.path.basename(k))\n",
    "                msg.attach(image)\n",
    "            else:\n",
    "                pass\n",
    "        s.sendmail(fr, i, msg.as_string())\n",
    "\n",
    "    \n",
    "    \n",
    "    s.quit()"
   ]
  },
  {
   "cell_type": "markdown",
   "metadata": {
    "collapsed": false
   },
   "source": [
    "## Watermarking"
   ]
  },
  {
   "cell_type": "code",
   "execution_count": 3,
   "metadata": {
    "collapsed": false
   },
   "outputs": [],
   "source": [
    "def watermark(x):\n",
    "    for i in x:\n",
    "        if 'AVI' in i:\n",
    "            clip = VideoFileClip(i)\n",
    "            logo = (ImageClip(\"pancita4.png\")\n",
    "              .set_duration(clip.duration)\n",
    "              .resize(height=80) # if you need to resize...\n",
    "              .margin(right=8, top=8, opacity=0) # (optional) logo-border padding\n",
    "              .set_pos((\"right\",\"bottom\")))\n",
    "            final = CompositeVideoClip([clip, logo])\n",
    "            final.write_videofile(\"Pancitas \" + i +\".mp4\")\n",
    "        if 'JPG' in i:\n",
    "            plogo = Image.open('pancita4.png')\n",
    "            plogow, plogoh = plogo.size\n",
    "            plogo = plogo.resize((int(plogow*.1), int(plogoh*.1)))\n",
    "            plogow, plogoh = plogo.size\n",
    "            pic = Image.open(i)\n",
    "            picw, pich = pic.size\n",
    "            pic.paste(plogo, (picw - plogow, pich - plogoh), plogo)\n",
    "            pic.save('Pancita '+ i)\n",
    "            \n",
    "        else:\n",
    "            pass\n"
   ]
  },
  {
   "cell_type": "markdown",
   "metadata": {},
   "source": [
    "## Download and upload files"
   ]
  },
  {
   "cell_type": "code",
   "execution_count": 10,
   "metadata": {
    "collapsed": false
   },
   "outputs": [
    {
     "data": {
      "text/plain": [
       "'C:\\\\Users\\\\Frank Pinto\\\\desktop\\\\pds\\\\Pancitas\\\\Pancitas Ultrasound Aba Duenas'"
      ]
     },
     "execution_count": 10,
     "metadata": {},
     "output_type": "execute_result"
    }
   ],
   "source": [
    "def dl_files(x):\n",
    "    client = dropbox.client.DropboxClient('IS-424yqxy8AAAAAAAAVLOUS9urGIH4kCxP_5Q6hxdz-WrhGMYKa-9MjMZrpwMYZ')\n",
    "    df = pd.DataFrame(x.groupby('c_name').c_name.count())\n",
    "    files = x\n",
    "    for i in df.index:\n",
    "        c_dir = 'Pancitas Ultrasound {}'.format(i.lower().title())\n",
    "        os.mkdir(c_dir)\n",
    "        os.chdir('.\\\\' + c_dir)\n",
    "        dl_df = []\n",
    "        for k in files.file_name:\n",
    "            if i in k:\n",
    "                dl_df.append(k)\n",
    "        for j in dl_df:\n",
    "            f, metadata = client.get_file_and_metadata('/'+j)\n",
    "            out = open(j, 'wb')\n",
    "            out.write(f.read())\n",
    "            out.close()\n",
    "        os.chdir('..\\\\')    \n",
    "    return \n",
    "\n",
    "def ul_files():\n",
    "    dirlst = next(os.walk('.'))[1]\n",
    "    links = []\n",
    "    for i in dirlst:\n",
    "        if \"Pancitas\" in i:\n",
    "            db_path = '/' + i\n",
    "            cwd = '.\\\\' + i\n",
    "            os.chdir(cwd)\n",
    "            filist = os.listdir(cwd)\n",
    "            watermark(filist)\n",
    "            for k in os.getcwd(cwd):\n",
    "                if 'Pancitas' in k:\n",
    "                    f = open(k, 'rb')\n",
    "                    response = client.put_file(db_path + i, f)\n",
    "                else:\n",
    "                    os.remove(k)\n",
    "            \n",
    "            \n",
    "            link = client.share(db_path, short_url = False)[0] + '1'\n",
    "            links.append([i, link])\n",
    "            os.remove(i)\n",
    "    return dirlst\n",
    " \n",
    "#dl_files(files())\n",
    "#ul_files()\n",
    "os.getcwd()"
   ]
  },
  {
   "cell_type": "markdown",
   "metadata": {
    "collapsed": false
   },
   "source": [
    "## Code implemented"
   ]
  },
  {
   "cell_type": "code",
   "execution_count": 20,
   "metadata": {
    "collapsed": false
   },
   "outputs": [
    {
     "ename": "TypeError",
     "evalue": "unsupported operand type(s) for +: 'datetime.time' and 'datetime.timedelta'",
     "output_type": "error",
     "traceback": [
      "\u001b[0;31m---------------------------------------------------------------------------\u001b[0m",
      "\u001b[0;31mTypeError\u001b[0m                                 Traceback (most recent call last)",
      "\u001b[0;32m<ipython-input-20-06133a98b253>\u001b[0m in \u001b[0;36m<module>\u001b[0;34m()\u001b[0m\n\u001b[1;32m      4\u001b[0m     \u001b[0mprint\u001b[0m\u001b[1;33m(\u001b[0m\u001b[0mnow\u001b[0m \u001b[1;33m+\u001b[0m \u001b[0mlapse\u001b[0m\u001b[1;33m)\u001b[0m\u001b[1;33m\u001b[0m\u001b[0m\n\u001b[1;32m      5\u001b[0m \u001b[1;33m\u001b[0m\u001b[0m\n\u001b[0;32m----> 6\u001b[0;31m \u001b[0mfull\u001b[0m\u001b[1;33m(\u001b[0m\u001b[1;33m)\u001b[0m\u001b[1;33m\u001b[0m\u001b[0m\n\u001b[0m",
      "\u001b[0;32m<ipython-input-20-06133a98b253>\u001b[0m in \u001b[0;36mfull\u001b[0;34m()\u001b[0m\n\u001b[1;32m      2\u001b[0m     \u001b[0mnow\u001b[0m \u001b[1;33m=\u001b[0m \u001b[0mdatetime\u001b[0m\u001b[1;33m.\u001b[0m\u001b[0mdatetime\u001b[0m\u001b[1;33m.\u001b[0m\u001b[0mutcnow\u001b[0m\u001b[1;33m(\u001b[0m\u001b[1;33m)\u001b[0m\u001b[1;33m.\u001b[0m\u001b[0mtime\u001b[0m\u001b[1;33m(\u001b[0m\u001b[1;33m)\u001b[0m\u001b[1;33m\u001b[0m\u001b[0m\n\u001b[1;32m      3\u001b[0m     \u001b[0mlapse\u001b[0m \u001b[1;33m=\u001b[0m \u001b[0mdatetime\u001b[0m\u001b[1;33m.\u001b[0m\u001b[0mtimedelta\u001b[0m\u001b[1;33m(\u001b[0m\u001b[0mminutes\u001b[0m \u001b[1;33m=\u001b[0m \u001b[1;36m15\u001b[0m\u001b[1;33m)\u001b[0m\u001b[1;33m\u001b[0m\u001b[0m\n\u001b[0;32m----> 4\u001b[0;31m     \u001b[0mprint\u001b[0m\u001b[1;33m(\u001b[0m\u001b[0mnow\u001b[0m \u001b[1;33m+\u001b[0m \u001b[0mlapse\u001b[0m\u001b[1;33m)\u001b[0m\u001b[1;33m\u001b[0m\u001b[0m\n\u001b[0m\u001b[1;32m      5\u001b[0m \u001b[1;33m\u001b[0m\u001b[0m\n\u001b[1;32m      6\u001b[0m \u001b[0mfull\u001b[0m\u001b[1;33m(\u001b[0m\u001b[1;33m)\u001b[0m\u001b[1;33m\u001b[0m\u001b[0m\n",
      "\u001b[0;31mTypeError\u001b[0m: unsupported operand type(s) for +: 'datetime.time' and 'datetime.timedelta'"
     ]
    }
   ],
   "source": [
    "def full():\n",
    "    now = datetime.datetime.utcnow().time()\n",
    "    lapse = datetime.timedelta(minutes = 15)\n",
    "    print(now + lapse)  \n",
    "\n",
    "full()"
   ]
  },
  {
   "cell_type": "code",
   "execution_count": null,
   "metadata": {
    "collapsed": false
   },
   "outputs": [],
   "source": []
  },
  {
   "cell_type": "code",
   "execution_count": null,
   "metadata": {
    "collapsed": false
   },
   "outputs": [],
   "source": []
  },
  {
   "cell_type": "code",
   "execution_count": null,
   "metadata": {
    "collapsed": false
   },
   "outputs": [],
   "source": []
  },
  {
   "cell_type": "code",
   "execution_count": null,
   "metadata": {
    "collapsed": false
   },
   "outputs": [],
   "source": []
  },
  {
   "cell_type": "code",
   "execution_count": null,
   "metadata": {
    "collapsed": false
   },
   "outputs": [],
   "source": []
  },
  {
   "cell_type": "code",
   "execution_count": null,
   "metadata": {
    "collapsed": false
   },
   "outputs": [],
   "source": []
  },
  {
   "cell_type": "code",
   "execution_count": null,
   "metadata": {
    "collapsed": false
   },
   "outputs": [],
   "source": []
  },
  {
   "cell_type": "code",
   "execution_count": null,
   "metadata": {
    "collapsed": true
   },
   "outputs": [],
   "source": []
  }
 ],
 "metadata": {
  "kernelspec": {
   "display_name": "Python 3",
   "language": "python",
   "name": "python3"
  },
  "language_info": {
   "codemirror_mode": {
    "name": "ipython",
    "version": 3
   },
   "file_extension": ".py",
   "mimetype": "text/x-python",
   "name": "python",
   "nbconvert_exporter": "python",
   "pygments_lexer": "ipython3",
   "version": "3.6.0"
  }
 },
 "nbformat": 4,
 "nbformat_minor": 2
}
