{
 "cells": [
  {
   "cell_type": "code",
   "execution_count": 1,
   "metadata": {
    "collapsed": false
   },
   "outputs": [],
   "source": [
    "import pandas as pd\n",
    "import os\n",
    "import datetime\n",
    "import numpy as np\n",
    "import time\n",
    "import smtplib\n",
    "from email.mime.application import MIMEApplication\n",
    "from email.mime.multipart import MIMEMultipart\n",
    "from email.mime.text import MIMEText\n",
    "from email.utils import COMMASPACE, formatdate\n",
    "import dropbox\n",
    "from PIL import Image \n",
    "import imageio\n",
    "imageio.plugins.ffmpeg.download()\n",
    "from moviepy.editor import *\n",
    "client = dropbox.client.DropboxClient('IS-424yqxy8AAAAAAAAVLOUS9urGIH4kCxP_5Q6hxdz-WrhGMYKa-9MjMZrpwMYZ')"
   ]
  },
  {
   "cell_type": "markdown",
   "metadata": {},
   "source": [
    "## Get List of Files"
   ]
  },
  {
   "cell_type": "code",
   "execution_count": 5,
   "metadata": {
    "collapsed": false
   },
   "outputs": [],
   "source": [
    "def files():\n",
    "    client = dropbox.client.DropboxClient('IS-424yqxy8AAAAAAAAVLOUS9urGIH4kCxP_5Q6hxdz-WrhGMYKa-9MjMZrpwMYZ')\n",
    "    metadata = client.metadata('/')\n",
    "    \n",
    "    files = [content['path'].split('/')[-1] for content in metadata['contents'] if content['is_dir'] == False]\n",
    "    size = [round(content['bytes']/10**6, 2) for content in metadata['contents'] if content['is_dir'] == False]\n",
    "    dates = [content['modified'] for content in metadata['contents'] if content['is_dir'] == False]\n",
    "    \n",
    "    name = [i[0:i.find('_')].lower().title() for i in files]\n",
    "    files = pd.DataFrame({'file_name': files, 'c_name': name, 'size': size, 'dates': dates})\n",
    "    \n",
    "    files['date_mod_d'] = [time.strptime(i, \"%a, %d %b %Y %H:%M:%S %z\") for i in dates]\n",
    "    files['date_mod_d'] = [datetime.datetime(*files.date_mod_d.loc[i][:6]) - datetime.timedelta(hours = 4) for i in files.index]\n",
    "    files['date_mod'] = [files.loc[i].date_mod_d.date() for i in files.index]\n",
    "    files['hour_mod'] = [files.loc[i].date_mod_d.time() for i in files.index]\n",
    "    #tday = datetime.datetime.today().date()\n",
    "    #files = files[files.date_mod == tday]\n",
    "    \n",
    "    del files['date_mod_d'], files['dates']\n",
    "    return files   "
   ]
  },
  {
   "cell_type": "code",
   "execution_count": 5,
   "metadata": {
    "collapsed": false
   },
   "outputs": [
    {
     "data": {
      "text/html": [
       "<div>\n",
       "<table border=\"1\" class=\"dataframe\">\n",
       "  <thead>\n",
       "    <tr style=\"text-align: right;\">\n",
       "      <th></th>\n",
       "      <th>c_name</th>\n",
       "      <th>file_name</th>\n",
       "      <th>size</th>\n",
       "      <th>date_mod</th>\n",
       "      <th>hour_mod</th>\n",
       "    </tr>\n",
       "  </thead>\n",
       "  <tbody>\n",
       "    <tr>\n",
       "      <th>0</th>\n",
       "      <td>ABA DUENAS</td>\n",
       "      <td>ABA DUENAS_0001.JPG</td>\n",
       "      <td>0.12</td>\n",
       "      <td>2017-05-18</td>\n",
       "      <td>10:44:25</td>\n",
       "    </tr>\n",
       "    <tr>\n",
       "      <th>1</th>\n",
       "      <td>ABA DUENAS</td>\n",
       "      <td>ABA DUENAS_0005.JPG</td>\n",
       "      <td>0.12</td>\n",
       "      <td>2017-05-17</td>\n",
       "      <td>19:26:31</td>\n",
       "    </tr>\n",
       "    <tr>\n",
       "      <th>2</th>\n",
       "      <td>ABA DUENAS</td>\n",
       "      <td>ABA DUENAS_0009.JPG</td>\n",
       "      <td>0.12</td>\n",
       "      <td>2017-05-17</td>\n",
       "      <td>19:26:31</td>\n",
       "    </tr>\n",
       "    <tr>\n",
       "      <th>3</th>\n",
       "      <td>ADRIANA GRAELL WK27</td>\n",
       "      <td>ADRIANA GRAELL WK27_0001.JPG</td>\n",
       "      <td>0.21</td>\n",
       "      <td>2017-05-12</td>\n",
       "      <td>16:03:13</td>\n",
       "    </tr>\n",
       "    <tr>\n",
       "      <th>4</th>\n",
       "      <td>ADRIANA GRAELL WK27</td>\n",
       "      <td>ADRIANA GRAELL WK27_0013.JPG</td>\n",
       "      <td>0.07</td>\n",
       "      <td>2017-05-12</td>\n",
       "      <td>16:03:15</td>\n",
       "    </tr>\n",
       "  </tbody>\n",
       "</table>\n",
       "</div>"
      ],
      "text/plain": [
       "                c_name                     file_name  size    date_mod  \\\n",
       "0           ABA DUENAS           ABA DUENAS_0001.JPG  0.12  2017-05-18   \n",
       "1           ABA DUENAS           ABA DUENAS_0005.JPG  0.12  2017-05-17   \n",
       "2           ABA DUENAS           ABA DUENAS_0009.JPG  0.12  2017-05-17   \n",
       "3  ADRIANA GRAELL WK27  ADRIANA GRAELL WK27_0001.JPG  0.21  2017-05-12   \n",
       "4  ADRIANA GRAELL WK27  ADRIANA GRAELL WK27_0013.JPG  0.07  2017-05-12   \n",
       "\n",
       "   hour_mod  \n",
       "0  10:44:25  \n",
       "1  19:26:31  \n",
       "2  19:26:31  \n",
       "3  16:03:13  \n",
       "4  16:03:15  "
      ]
     },
     "execution_count": 5,
     "metadata": {},
     "output_type": "execute_result"
    }
   ],
   "source": [
    "files().head()"
   ]
  },
  {
   "cell_type": "markdown",
   "metadata": {},
   "source": [
    "## Get List of Today's Clients (User Input)."
   ]
  },
  {
   "cell_type": "code",
   "execution_count": 10,
   "metadata": {
    "collapsed": true
   },
   "outputs": [],
   "source": [
    "def clients():\n",
    "    clients = pd.read_excel('Registro de Clientes.xlsx')\n",
    "    return clients"
   ]
  },
  {
   "cell_type": "markdown",
   "metadata": {},
   "source": [
    "## Final List With Emails."
   ]
  },
  {
   "cell_type": "code",
   "execution_count": 11,
   "metadata": {
    "collapsed": false
   },
   "outputs": [],
   "source": [
    "def sendPic():\n",
    "    sendPic = pd.merge(files(), clients, left_on = 'c_name', right_on = 'Nombre')\n",
    "    return sendPic\n"
   ]
  },
  {
   "cell_type": "markdown",
   "metadata": {
    "collapsed": false
   },
   "source": [
    "## Time related Functionalities."
   ]
  },
  {
   "cell_type": "code",
   "execution_count": null,
   "metadata": {
    "collapsed": false
   },
   "outputs": [],
   "source": [
    "#def time():\n",
    "#    exit = datetime.datetime.now()\n",
    "#    td = datetime.timedelta(minutes = 30)\n",
    "#    while datetime.datetime.now() < \n",
    "#        print('early')\n",
    "        \n",
    "#    return datetime.datetime.now().hour\n",
    "#time()"
   ]
  },
  {
   "cell_type": "markdown",
   "metadata": {
    "collapsed": false
   },
   "source": [
    "## Email Sending Functionalities"
   ]
  },
  {
   "cell_type": "code",
   "execution_count": 24,
   "metadata": {
    "collapsed": false
   },
   "outputs": [],
   "source": [
    "def SendMail4(send_list, files):\n",
    "    \n",
    "    msg = MIMEMultipart()\n",
    "    msg['Subject'] = 'prueba'\n",
    "    msg['From'] = 'fapb88ve@gmail.com'\n",
    "    msg['To'] = 'fapb88ve@gmail.com'\n",
    "    text = MIMEText(\"test\")\n",
    "    msg.attach(text)\n",
    "    for i in files:\n",
    "        if 'mp4' in i:\n",
    "            part = MIMEBase('application', \"octet-stream\")\n",
    "            fo=open('ADRIANA GRAELL WK27_0013.mpg',\"rb\")\n",
    "            part.set_payload(fo.read() )\n",
    "            Encoders.encode_base64(part)\n",
    "            part.add_header('Content-Disposition', 'attachment; filename=\"%s\"' % os.path.basename('ADRIANA GRAELL WK27_0013.mpg'))\n",
    "            msg.attach(part)\n",
    "        if 'jpg' in i:\n",
    "            img_data = open(k, 'rb').read()\n",
    "            image = MIMEImage(img_data, name=os.path.basename(k))\n",
    "            msg.attach(image)\n",
    "    s = smtplib.SMTP('smtp.gmail.com', 587)\n",
    "    s.ehlo()\n",
    "    s.starttls()\n",
    "    s.login('fapb88ve@gmail.com', )\n",
    "    s.sendmail('fapb88ve@gmail.com', 'fapb88ve@gmail.com', msg.as_string())\n",
    "    s.quit()\n"
   ]
  },
  {
   "cell_type": "markdown",
   "metadata": {
    "collapsed": false
   },
   "source": [
    "## Watermarking"
   ]
  },
  {
   "cell_type": "code",
   "execution_count": 3,
   "metadata": {
    "collapsed": false
   },
   "outputs": [],
   "source": [
    "def watermark(x):\n",
    "    for i in x:\n",
    "        if 'AVI' in i:\n",
    "            clip = VideoFileClip(i)\n",
    "            #logo = (ImageClip(\"pancita4.png\")\n",
    "              #.set_duration(clip.duration)\n",
    "           #   .resize(height=80)  \n",
    "            #  .margin(right=8, top=8, opacity=0) # (optional) logo-border padding\n",
    "             # .set_pos((\"right\",\"bottom\")))\n",
    "            final = CompositeVideoClip([clip, logo])\n",
    "            final.write_videofile(\"Pancitas \" + i +\".mp4\")\n",
    "        if 'JPG' in i:\n",
    "            #plogo = Image.open(\"pancita4.png\")\n",
    "            #plogow, plogoh = plogo.size\n",
    "            #plogo = plogo.resize((int(plogow*.1), int(plogoh*.1)))\n",
    "            #plogow, plogoh = plogo.size\n",
    "            pic = Image.open(i)\n",
    "            picw, pich = pic.size\n",
    "            pic.paste(plogo, (picw - plogow, pich - plogoh), plogo)\n",
    "            pic.save('Pancitas '+ i)\n",
    "            \n",
    "        else:\n",
    "            pass\n"
   ]
  },
  {
   "cell_type": "markdown",
   "metadata": {},
   "source": [
    "## Download and upload files"
   ]
  },
  {
   "cell_type": "code",
   "execution_count": 13,
   "metadata": {
    "collapsed": false
   },
   "outputs": [],
   "source": [
    "def dl_files(x):\n",
    "    df = pd.DataFrame(x.groupby('Nombre').Nombre.count())\n",
    "    files = x.file_name\n",
    "    for i in df.index:\n",
    "        c_dir = 'Pancitas Ultrasound {}'.format(i.lower().title())\n",
    "        os.mkdir(c_dir)\n",
    "        os.chdir('.\\\\' + c_dir)\n",
    "        dl_df = []\n",
    "        for k in files:\n",
    "            if i.upper() in k:\n",
    "                dl_df.append(k)\n",
    "        for j in dl_df:\n",
    "            f, metadata = client.get_file_and_metadata('/'+j)\n",
    "            out = open(j, 'wb')\n",
    "            out.write(f.read())\n",
    "            out.close()\n",
    "        watermark(dl_df)\n",
    "        for l in os.listdir(c_dir):\n",
    "            if 'Pancitas' in l:\n",
    "                pass\n",
    "            else:\n",
    "                os.remove(l)\n",
    "        os.chdir('..\\\\') "
   ]
  },
  {
   "cell_type": "markdown",
   "metadata": {
    "collapsed": true
   },
   "source": [
    "## Body Function"
   ]
  },
  {
   "cell_type": "code",
   "execution_count": 15,
   "metadata": {
    "collapsed": true
   },
   "outputs": [],
   "source": [
    "def body():\n",
    "    files = files()\n",
    "    clients = pd.read_excel('Registro de Clientes.xlsx')\n",
    "    send_pic = pd.merge(files(), clients, left_on = 'c_name', right_on = 'Nombre')\n",
    "    dl_files(send_pic)\n",
    "    watermark(send_f)"
   ]
  },
  {
   "cell_type": "markdown",
   "metadata": {
    "collapsed": false
   },
   "source": [
    "## Code implemented"
   ]
  },
  {
   "cell_type": "code",
   "execution_count": 7,
   "metadata": {
    "collapsed": false
   },
   "outputs": [],
   "source": [
    "def full_body():\n",
    "    client = dropbox.client.DropboxClient('IS-424yqxy8AAAAAAAAVLOUS9urGIH4kCxP_5Q6hxdz-WrhGMYKa-9MjMZrpwMYZ')\n",
    "    print('Coloque su correo personal. Todo correo que no pueda ser enviado, sera reenviado al ingresado.')\n",
    "    sup_email = input()\n",
    "    plogo = Image.open(\"pancita4.png\")\n",
    "    plogow, plogoh = plogo.size\n",
    "    plogo = plogo.resize((int(plogow*.1), int(plogoh*.1)))\n",
    "    plogow, plogoh = plogo.size\n",
    "    logo = (ImageClip(\"pancita4.png\")\n",
    "              .set_duration(clip.duration)\n",
    "              .resize(height=80) # if you need to resize...\n",
    "              .margin(right=8, top=8, opacity=0) # (optional) logo-border padding\n",
    "              .set_pos((\"right\",\"bottom\")))\n",
    "    while datetime.datetime.now().time() <= datetime.datetime.strptime('19:45', '%H:%M'):\n",
    "        if datetime.datetime.now().time() == datetime.datetime.strptime('12:30', '%H:%M'):\n",
    "            files = files()\n",
    "            clients_tday = clients()\n",
    "            send_f = sendPic()\n",
    "            dl_files(send_f.file_name)\n",
    "            watermark(send_f)\n",
    "        \n",
    "        \n",
    "      \n",
    "\n"
   ]
  },
  {
   "cell_type": "code",
   "execution_count": 5,
   "metadata": {
    "collapsed": false
   },
   "outputs": [],
   "source": [
    "clients = pd.read_excel('Registro de Clientes.xlsx')"
   ]
  },
  {
   "cell_type": "code",
   "execution_count": 9,
   "metadata": {
    "collapsed": false
   },
   "outputs": [],
   "source": [
    "send_pic = pd.merge(files(), clients, left_on = 'c_name', right_on = 'Nombre')"
   ]
  },
  {
   "cell_type": "code",
   "execution_count": 10,
   "metadata": {
    "collapsed": false
   },
   "outputs": [],
   "source": [
    "#dl_files(files())"
   ]
  },
  {
   "cell_type": "code",
   "execution_count": 15,
   "metadata": {
    "collapsed": false
   },
   "outputs": [
    {
     "data": {
      "text/plain": [
       "'C:\\\\Users\\\\Frank Pinto\\\\desktop\\\\pds\\\\Pancitas\\\\Pancitas Ultrasound Aba Duenas'"
      ]
     },
     "execution_count": 15,
     "metadata": {},
     "output_type": "execute_result"
    }
   ],
   "source": [
    "def dl_files(x):\n",
    "    df = pd.DataFrame(x.groupby('Nombre').Nombre.count())\n",
    "    files = x.file_name\n",
    "    for i in df.index:\n",
    "        c_dir = 'Pancitas Ultrasound {}'.format(i.lower().title())\n",
    "        os.mkdir(c_dir)\n",
    "        os.chdir('.\\\\' + c_dir)\n",
    "        dl_df = []\n",
    "        for k in files:\n",
    "            if i.upper() in k:\n",
    "                dl_df.append(k)\n",
    "        for j in dl_df:\n",
    "            f, metadata = client.get_file_and_metadata('/'+j)\n",
    "            out = open(j, 'wb')\n",
    "            out.write(f.read())\n",
    "            out.close()\n",
    "        os.chdir('..\\\\') \n",
    "dl_files(send_pic)\n",
    "os.getcwd()"
   ]
  },
  {
   "cell_type": "code",
   "execution_count": null,
   "metadata": {
    "collapsed": false
   },
   "outputs": [],
   "source": []
  },
  {
   "cell_type": "code",
   "execution_count": null,
   "metadata": {
    "collapsed": false
   },
   "outputs": [],
   "source": []
  },
  {
   "cell_type": "code",
   "execution_count": null,
   "metadata": {
    "collapsed": false
   },
   "outputs": [],
   "source": []
  },
  {
   "cell_type": "code",
   "execution_count": null,
   "metadata": {
    "collapsed": true
   },
   "outputs": [],
   "source": []
  }
 ],
 "metadata": {
  "kernelspec": {
   "display_name": "Python 3",
   "language": "python",
   "name": "python3"
  },
  "language_info": {
   "codemirror_mode": {
    "name": "ipython",
    "version": 3
   },
   "file_extension": ".py",
   "mimetype": "text/x-python",
   "name": "python",
   "nbconvert_exporter": "python",
   "pygments_lexer": "ipython3",
   "version": "3.6.0"
  }
 },
 "nbformat": 4,
 "nbformat_minor": 2
}
